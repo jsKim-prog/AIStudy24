{
  "nbformat": 4,
  "nbformat_minor": 0,
  "metadata": {
    "colab": {
      "provenance": [],
      "authorship_tag": "ABX9TyMTpfCOmKyJz/Eb+VMq7WeR",
      "include_colab_link": true
    },
    "kernelspec": {
      "name": "python3",
      "display_name": "Python 3"
    },
    "language_info": {
      "name": "python"
    }
  },
  "cells": [
    {
      "cell_type": "markdown",
      "metadata": {
        "id": "view-in-github",
        "colab_type": "text"
      },
      "source": [
        "<a href=\"https://colab.research.google.com/github/jsKim-prog/AIStudy24/blob/master/%ED%99%95%EB%A5%A0%EC%A0%81%EA%B2%BD%EC%82%AC%ED%95%98%EA%B0%95%EB%B2%95.ipynb\" target=\"_parent\"><img src=\"https://colab.research.google.com/assets/colab-badge.svg\" alt=\"Open In Colab\"/></a>"
      ]
    },
    {
      "cell_type": "markdown",
      "source": [
        ">  MBC 마켓에 럭키백 성공으로 인해서 각각의 지역에서 수산물을 제공하기로 하였다.  \n",
        "> 영업팀은 매주 7개의 생선 중에서 일부를 무작위로 골라 머신러닝 모델을 학습할 수 있게 훈련데이터를 제공하고 있다.\n",
        "\n",
        "> 하지만, 수산물을 제공한다는 곳이 너무 많아 샘플을 골라내는 일이 너무 힘들다. 추가되는 수산물의 샘플도 없다.\n",
        "\n",
        "> 영업팀은 새로운 생선이 도착하는 대로 가능한 즉시 훈련 데이터를 제공해야 한다."
      ],
      "metadata": {
        "id": "RwJRV-GNHYB2"
      }
    },
    {
      "cell_type": "markdown",
      "source": [
        "## 점진적 학습\n",
        "* 당면한 문제 : 훈련데이터가 한번에 준비되는 것이 아니라, 조금씩 전달됨\n",
        "* 해결법 1 : 기존의 훈련데이터에 새로운 데이터를 추가하여 모델을 매일매일 다시 훈련\n",
        " - 단점 : 시간이 지날수록 데이터가 늘어남 -> 인력추가, 서버증설, 시간적 여유가 줄어듬 -> 지속 불가능\n",
        "* 해결법2 :  새로운 데이터를 추가할 때마다 이전 데이터를 버림(훈련데이터 크기를 일정하게 유지하는 방법)\n",
        " - 단점 : 데이터를 버릴 때 다른 데이터에 없는 중요한 생선 데이터가 포함되면 안됨\n",
        "* 해결법3 : 점진적 학습방법(온라인 학습, 훈련한 모델을 버리지 않고 **조금씩 새로운 데이터를 학습**) -> **확률적 경사하강법**\n"
      ],
      "metadata": {
        "id": "fGXyly_BIgUI"
      }
    },
    {
      "cell_type": "code",
      "execution_count": null,
      "metadata": {
        "id": "VD55n2DWHNED"
      },
      "outputs": [],
      "source": [
        "# 확률적 경사 하강법(실제 산에서 내려오는 것처럼 가파른 길을 찾아 천천히 조금씩 내려옴)\n",
        "# 확률적 : 무작위, 랜덤(훈련세트에서 랜덤하게 하나의 샘플을 고름)\n",
        "# 경사 : 기울기\n",
        "# 하강 : 내려가는\n",
        "# 확률적 경사 하강법은 훈련세트에서 랜덤에서 하나의 샘플을 선택해서 가파른 경사를 조금 내려감\n",
        "# 위 방법을 반복수행\n",
        "# 만약 모든 샘플을 다 사용해도 다 내려오지 못할 경우\n",
        "# -> 처음부터 다시 시작\n",
        "# -> 훈련세트에 모든 샘플을 다시 채워 넣음\n",
        "# -> 다시 랜덤하게 하나의 샘플을 선택하여 이어서 경사를 내려감\n",
        "# 만족할 만한 위치에 도달할 때까지 계속 내려감\n",
        "# 훈련세트를 한번 모두 사용하는 과정을 에포크(epoch)라고 함\n",
        "# 일반적인 경사하강법은 수십, 수백번 이상 에포크를 수행함\n",
        "# 만약, 실제로 등산이라고 가정하고 산에서 내려온다고 생각했을 때 집으로 돌아가려면 등산로의 입구까지 내려가야 한다.\n",
        "# 만약 어떤 산길도 척척 내려갈 수 있는 초능력이 있다면 가장 빠른 길을 선택하는 것이 최선임\n",
        "# -> 가장 빠른 길은 경사가 가장 가파른 길!!"
      ]
    },
    {
      "cell_type": "code",
      "source": [
        "# 실제로 산에서 내려올 때는 천천히 조금씩 내려와야 한다. -> 경사하강법\n",
        "# 가장 가파른 길을 찾아 내려오지만 조금씩 내려오는 것이 중요함 -> 훈련법\n",
        "# 훈련세트를 사용해 모델을 훈련하기 때문에 경사하강법도 당연히 가장 가파른 길을 찾을 것!\n",
        "# 그런데 전체 샘플을 사용하지 않고 딱 하나의 샘플을 훈련세트에서 랜덤하게 골라 가장 가파른 길을 찾음 -> 확률적\n",
        "# 결론 : 훈련세트에서 랜덤하게 하나의 샘플을 선택해서 가파른 경사를 조금씩 내려간 다음 훈련세트에서 랜덤하게 또다른 샘플을 하나 선택하여 경사를 조금 내려감\n",
        "# -> 전체 샘플을 모두 사용할 때까지 진행"
      ],
      "metadata": {
        "id": "UMSLRBU6RCjX"
      },
      "execution_count": null,
      "outputs": []
    },
    {
      "cell_type": "markdown",
      "source": [
        "-> 이미지"
      ],
      "metadata": {
        "id": "6BUbTvx2TRpQ"
      }
    },
    {
      "cell_type": "markdown",
      "source": [
        "* 위 방법대로 샘플 1개를 이용하면 너무 무책임하게 내려갈 수 있다.\n",
        "* 잘못된 훈련으로 결과가 나오면 돌아갈 수 없다.\n",
        "* 이러한 문제점을 해소하려고 무작위로 몇개의 샘플을 선택해서 경사를 내려간가면 -> 미니배치 경사하강법\n",
        "  1. 미니배치 경사하강법 : 여러개의 샘플을 사용하여 경사하강 진행\n",
        "  2. 배치 경사하강법  : 극단적으로 한번 경사롤을 따라 이동(전체 샘플 사용)\n",
        "   * 단점 : 컴퓨터 자원을 너무 많이 사용한다.\n",
        "   * 한번에 전체 데이터를 모두 읽을 수 없을 수 있다.\n",
        "\n",
        "* 확률적 경사하강법은 훈련세트를 사용해 산 아래에 있는 최적의 장소로 조금씩 이동\n",
        "* 이 때문에 훈련데이터가 모두 준비되어 있지 않고 매일매일 업데이트 되어도 학습을 이어나갈 수 있다.\n",
        "* 다시 산꼭대기부터 시작할 필요가 없다. -> **신경망 알고리즘**을 사용"
      ],
      "metadata": {
        "id": "PHd2AjS8To_d"
      }
    },
    {
      "cell_type": "markdown",
      "source": [
        "* 손실함수(Loss function) : 머신러닝 알고리즘이 얼마나 엉터리인지 측정하는 기준(작을수록 좋음) -> 이 값을 찾아서 조금씩 이동\n",
        "* 비용함수(Cost function)  : 훈련세트에 있는 모든 샘플에 대한 손실함수의 합\n",
        "* 에포크(epoch : 시대) : 훈련세트를 한번 모두 사용하는 과정\n",
        "\n",
        "> 교재 p.310~"
      ],
      "metadata": {
        "id": "1yDKnkeVUvq-"
      }
    },
    {
      "cell_type": "code",
      "source": [
        "import pandas as pd\n",
        "fish = pd.read_csv('https://bit.ly/fish_csv_data')\n",
        "fish.head() # fish에 있는 리스트 위의 5개 출력"
      ],
      "metadata": {
        "colab": {
          "base_uri": "https://localhost:8080/",
          "height": 206
        },
        "id": "IbuF-mT5VIka",
        "outputId": "a641e8cb-0bd2-4738-9bc2-abfa88b352ba"
      },
      "execution_count": 2,
      "outputs": [
        {
          "output_type": "execute_result",
          "data": {
            "text/plain": [
              "  Species  Weight  Length  Diagonal   Height   Width\n",
              "0   Bream   242.0    25.4      30.0  11.5200  4.0200\n",
              "1   Bream   290.0    26.3      31.2  12.4800  4.3056\n",
              "2   Bream   340.0    26.5      31.1  12.3778  4.6961\n",
              "3   Bream   363.0    29.0      33.5  12.7300  4.4555\n",
              "4   Bream   430.0    29.0      34.0  12.4440  5.1340"
            ],
            "text/html": [
              "\n",
              "  <div id=\"df-9f705ad1-e6db-4124-bcba-0418177a3625\" class=\"colab-df-container\">\n",
              "    <div>\n",
              "<style scoped>\n",
              "    .dataframe tbody tr th:only-of-type {\n",
              "        vertical-align: middle;\n",
              "    }\n",
              "\n",
              "    .dataframe tbody tr th {\n",
              "        vertical-align: top;\n",
              "    }\n",
              "\n",
              "    .dataframe thead th {\n",
              "        text-align: right;\n",
              "    }\n",
              "</style>\n",
              "<table border=\"1\" class=\"dataframe\">\n",
              "  <thead>\n",
              "    <tr style=\"text-align: right;\">\n",
              "      <th></th>\n",
              "      <th>Species</th>\n",
              "      <th>Weight</th>\n",
              "      <th>Length</th>\n",
              "      <th>Diagonal</th>\n",
              "      <th>Height</th>\n",
              "      <th>Width</th>\n",
              "    </tr>\n",
              "  </thead>\n",
              "  <tbody>\n",
              "    <tr>\n",
              "      <th>0</th>\n",
              "      <td>Bream</td>\n",
              "      <td>242.0</td>\n",
              "      <td>25.4</td>\n",
              "      <td>30.0</td>\n",
              "      <td>11.5200</td>\n",
              "      <td>4.0200</td>\n",
              "    </tr>\n",
              "    <tr>\n",
              "      <th>1</th>\n",
              "      <td>Bream</td>\n",
              "      <td>290.0</td>\n",
              "      <td>26.3</td>\n",
              "      <td>31.2</td>\n",
              "      <td>12.4800</td>\n",
              "      <td>4.3056</td>\n",
              "    </tr>\n",
              "    <tr>\n",
              "      <th>2</th>\n",
              "      <td>Bream</td>\n",
              "      <td>340.0</td>\n",
              "      <td>26.5</td>\n",
              "      <td>31.1</td>\n",
              "      <td>12.3778</td>\n",
              "      <td>4.6961</td>\n",
              "    </tr>\n",
              "    <tr>\n",
              "      <th>3</th>\n",
              "      <td>Bream</td>\n",
              "      <td>363.0</td>\n",
              "      <td>29.0</td>\n",
              "      <td>33.5</td>\n",
              "      <td>12.7300</td>\n",
              "      <td>4.4555</td>\n",
              "    </tr>\n",
              "    <tr>\n",
              "      <th>4</th>\n",
              "      <td>Bream</td>\n",
              "      <td>430.0</td>\n",
              "      <td>29.0</td>\n",
              "      <td>34.0</td>\n",
              "      <td>12.4440</td>\n",
              "      <td>5.1340</td>\n",
              "    </tr>\n",
              "  </tbody>\n",
              "</table>\n",
              "</div>\n",
              "    <div class=\"colab-df-buttons\">\n",
              "\n",
              "  <div class=\"colab-df-container\">\n",
              "    <button class=\"colab-df-convert\" onclick=\"convertToInteractive('df-9f705ad1-e6db-4124-bcba-0418177a3625')\"\n",
              "            title=\"Convert this dataframe to an interactive table.\"\n",
              "            style=\"display:none;\">\n",
              "\n",
              "  <svg xmlns=\"http://www.w3.org/2000/svg\" height=\"24px\" viewBox=\"0 -960 960 960\">\n",
              "    <path d=\"M120-120v-720h720v720H120Zm60-500h600v-160H180v160Zm220 220h160v-160H400v160Zm0 220h160v-160H400v160ZM180-400h160v-160H180v160Zm440 0h160v-160H620v160ZM180-180h160v-160H180v160Zm440 0h160v-160H620v160Z\"/>\n",
              "  </svg>\n",
              "    </button>\n",
              "\n",
              "  <style>\n",
              "    .colab-df-container {\n",
              "      display:flex;\n",
              "      gap: 12px;\n",
              "    }\n",
              "\n",
              "    .colab-df-convert {\n",
              "      background-color: #E8F0FE;\n",
              "      border: none;\n",
              "      border-radius: 50%;\n",
              "      cursor: pointer;\n",
              "      display: none;\n",
              "      fill: #1967D2;\n",
              "      height: 32px;\n",
              "      padding: 0 0 0 0;\n",
              "      width: 32px;\n",
              "    }\n",
              "\n",
              "    .colab-df-convert:hover {\n",
              "      background-color: #E2EBFA;\n",
              "      box-shadow: 0px 1px 2px rgba(60, 64, 67, 0.3), 0px 1px 3px 1px rgba(60, 64, 67, 0.15);\n",
              "      fill: #174EA6;\n",
              "    }\n",
              "\n",
              "    .colab-df-buttons div {\n",
              "      margin-bottom: 4px;\n",
              "    }\n",
              "\n",
              "    [theme=dark] .colab-df-convert {\n",
              "      background-color: #3B4455;\n",
              "      fill: #D2E3FC;\n",
              "    }\n",
              "\n",
              "    [theme=dark] .colab-df-convert:hover {\n",
              "      background-color: #434B5C;\n",
              "      box-shadow: 0px 1px 3px 1px rgba(0, 0, 0, 0.15);\n",
              "      filter: drop-shadow(0px 1px 2px rgba(0, 0, 0, 0.3));\n",
              "      fill: #FFFFFF;\n",
              "    }\n",
              "  </style>\n",
              "\n",
              "    <script>\n",
              "      const buttonEl =\n",
              "        document.querySelector('#df-9f705ad1-e6db-4124-bcba-0418177a3625 button.colab-df-convert');\n",
              "      buttonEl.style.display =\n",
              "        google.colab.kernel.accessAllowed ? 'block' : 'none';\n",
              "\n",
              "      async function convertToInteractive(key) {\n",
              "        const element = document.querySelector('#df-9f705ad1-e6db-4124-bcba-0418177a3625');\n",
              "        const dataTable =\n",
              "          await google.colab.kernel.invokeFunction('convertToInteractive',\n",
              "                                                    [key], {});\n",
              "        if (!dataTable) return;\n",
              "\n",
              "        const docLinkHtml = 'Like what you see? Visit the ' +\n",
              "          '<a target=\"_blank\" href=https://colab.research.google.com/notebooks/data_table.ipynb>data table notebook</a>'\n",
              "          + ' to learn more about interactive tables.';\n",
              "        element.innerHTML = '';\n",
              "        dataTable['output_type'] = 'display_data';\n",
              "        await google.colab.output.renderOutput(dataTable, element);\n",
              "        const docLink = document.createElement('div');\n",
              "        docLink.innerHTML = docLinkHtml;\n",
              "        element.appendChild(docLink);\n",
              "      }\n",
              "    </script>\n",
              "  </div>\n",
              "\n",
              "\n",
              "<div id=\"df-84ce2339-fa9e-4f67-ae2a-5dc5ad76da77\">\n",
              "  <button class=\"colab-df-quickchart\" onclick=\"quickchart('df-84ce2339-fa9e-4f67-ae2a-5dc5ad76da77')\"\n",
              "            title=\"Suggest charts\"\n",
              "            style=\"display:none;\">\n",
              "\n",
              "<svg xmlns=\"http://www.w3.org/2000/svg\" height=\"24px\"viewBox=\"0 0 24 24\"\n",
              "     width=\"24px\">\n",
              "    <g>\n",
              "        <path d=\"M19 3H5c-1.1 0-2 .9-2 2v14c0 1.1.9 2 2 2h14c1.1 0 2-.9 2-2V5c0-1.1-.9-2-2-2zM9 17H7v-7h2v7zm4 0h-2V7h2v10zm4 0h-2v-4h2v4z\"/>\n",
              "    </g>\n",
              "</svg>\n",
              "  </button>\n",
              "\n",
              "<style>\n",
              "  .colab-df-quickchart {\n",
              "      --bg-color: #E8F0FE;\n",
              "      --fill-color: #1967D2;\n",
              "      --hover-bg-color: #E2EBFA;\n",
              "      --hover-fill-color: #174EA6;\n",
              "      --disabled-fill-color: #AAA;\n",
              "      --disabled-bg-color: #DDD;\n",
              "  }\n",
              "\n",
              "  [theme=dark] .colab-df-quickchart {\n",
              "      --bg-color: #3B4455;\n",
              "      --fill-color: #D2E3FC;\n",
              "      --hover-bg-color: #434B5C;\n",
              "      --hover-fill-color: #FFFFFF;\n",
              "      --disabled-bg-color: #3B4455;\n",
              "      --disabled-fill-color: #666;\n",
              "  }\n",
              "\n",
              "  .colab-df-quickchart {\n",
              "    background-color: var(--bg-color);\n",
              "    border: none;\n",
              "    border-radius: 50%;\n",
              "    cursor: pointer;\n",
              "    display: none;\n",
              "    fill: var(--fill-color);\n",
              "    height: 32px;\n",
              "    padding: 0;\n",
              "    width: 32px;\n",
              "  }\n",
              "\n",
              "  .colab-df-quickchart:hover {\n",
              "    background-color: var(--hover-bg-color);\n",
              "    box-shadow: 0 1px 2px rgba(60, 64, 67, 0.3), 0 1px 3px 1px rgba(60, 64, 67, 0.15);\n",
              "    fill: var(--button-hover-fill-color);\n",
              "  }\n",
              "\n",
              "  .colab-df-quickchart-complete:disabled,\n",
              "  .colab-df-quickchart-complete:disabled:hover {\n",
              "    background-color: var(--disabled-bg-color);\n",
              "    fill: var(--disabled-fill-color);\n",
              "    box-shadow: none;\n",
              "  }\n",
              "\n",
              "  .colab-df-spinner {\n",
              "    border: 2px solid var(--fill-color);\n",
              "    border-color: transparent;\n",
              "    border-bottom-color: var(--fill-color);\n",
              "    animation:\n",
              "      spin 1s steps(1) infinite;\n",
              "  }\n",
              "\n",
              "  @keyframes spin {\n",
              "    0% {\n",
              "      border-color: transparent;\n",
              "      border-bottom-color: var(--fill-color);\n",
              "      border-left-color: var(--fill-color);\n",
              "    }\n",
              "    20% {\n",
              "      border-color: transparent;\n",
              "      border-left-color: var(--fill-color);\n",
              "      border-top-color: var(--fill-color);\n",
              "    }\n",
              "    30% {\n",
              "      border-color: transparent;\n",
              "      border-left-color: var(--fill-color);\n",
              "      border-top-color: var(--fill-color);\n",
              "      border-right-color: var(--fill-color);\n",
              "    }\n",
              "    40% {\n",
              "      border-color: transparent;\n",
              "      border-right-color: var(--fill-color);\n",
              "      border-top-color: var(--fill-color);\n",
              "    }\n",
              "    60% {\n",
              "      border-color: transparent;\n",
              "      border-right-color: var(--fill-color);\n",
              "    }\n",
              "    80% {\n",
              "      border-color: transparent;\n",
              "      border-right-color: var(--fill-color);\n",
              "      border-bottom-color: var(--fill-color);\n",
              "    }\n",
              "    90% {\n",
              "      border-color: transparent;\n",
              "      border-bottom-color: var(--fill-color);\n",
              "    }\n",
              "  }\n",
              "</style>\n",
              "\n",
              "  <script>\n",
              "    async function quickchart(key) {\n",
              "      const quickchartButtonEl =\n",
              "        document.querySelector('#' + key + ' button');\n",
              "      quickchartButtonEl.disabled = true;  // To prevent multiple clicks.\n",
              "      quickchartButtonEl.classList.add('colab-df-spinner');\n",
              "      try {\n",
              "        const charts = await google.colab.kernel.invokeFunction(\n",
              "            'suggestCharts', [key], {});\n",
              "      } catch (error) {\n",
              "        console.error('Error during call to suggestCharts:', error);\n",
              "      }\n",
              "      quickchartButtonEl.classList.remove('colab-df-spinner');\n",
              "      quickchartButtonEl.classList.add('colab-df-quickchart-complete');\n",
              "    }\n",
              "    (() => {\n",
              "      let quickchartButtonEl =\n",
              "        document.querySelector('#df-84ce2339-fa9e-4f67-ae2a-5dc5ad76da77 button');\n",
              "      quickchartButtonEl.style.display =\n",
              "        google.colab.kernel.accessAllowed ? 'block' : 'none';\n",
              "    })();\n",
              "  </script>\n",
              "</div>\n",
              "\n",
              "    </div>\n",
              "  </div>\n"
            ],
            "application/vnd.google.colaboratory.intrinsic+json": {
              "type": "dataframe",
              "variable_name": "fish",
              "summary": "{\n  \"name\": \"fish\",\n  \"rows\": 159,\n  \"fields\": [\n    {\n      \"column\": \"Species\",\n      \"properties\": {\n        \"dtype\": \"category\",\n        \"num_unique_values\": 7,\n        \"samples\": [\n          \"Bream\",\n          \"Roach\",\n          \"Pike\"\n        ],\n        \"semantic_type\": \"\",\n        \"description\": \"\"\n      }\n    },\n    {\n      \"column\": \"Weight\",\n      \"properties\": {\n        \"dtype\": \"number\",\n        \"std\": 357.9783165508931,\n        \"min\": 0.0,\n        \"max\": 1650.0,\n        \"num_unique_values\": 101,\n        \"samples\": [\n          770.0,\n          51.5,\n          197.0\n        ],\n        \"semantic_type\": \"\",\n        \"description\": \"\"\n      }\n    },\n    {\n      \"column\": \"Length\",\n      \"properties\": {\n        \"dtype\": \"number\",\n        \"std\": 10.716328098884247,\n        \"min\": 8.4,\n        \"max\": 63.4,\n        \"num_unique_values\": 93,\n        \"samples\": [\n          14.7,\n          18.8,\n          19.6\n        ],\n        \"semantic_type\": \"\",\n        \"description\": \"\"\n      }\n    },\n    {\n      \"column\": \"Diagonal\",\n      \"properties\": {\n        \"dtype\": \"number\",\n        \"std\": 11.610245832690964,\n        \"min\": 8.8,\n        \"max\": 68.0,\n        \"num_unique_values\": 124,\n        \"samples\": [\n          39.2,\n          27.2,\n          23.1\n        ],\n        \"semantic_type\": \"\",\n        \"description\": \"\"\n      }\n    },\n    {\n      \"column\": \"Height\",\n      \"properties\": {\n        \"dtype\": \"number\",\n        \"std\": 4.286207619968867,\n        \"min\": 1.7284,\n        \"max\": 18.957,\n        \"num_unique_values\": 154,\n        \"samples\": [\n          15.438,\n          7.293,\n          2.8728\n        ],\n        \"semantic_type\": \"\",\n        \"description\": \"\"\n      }\n    },\n    {\n      \"column\": \"Width\",\n      \"properties\": {\n        \"dtype\": \"number\",\n        \"std\": 1.6858038699921671,\n        \"min\": 1.0476,\n        \"max\": 8.142,\n        \"num_unique_values\": 152,\n        \"samples\": [\n          3.1571,\n          1.3936,\n          3.6835\n        ],\n        \"semantic_type\": \"\",\n        \"description\": \"\"\n      }\n    }\n  ]\n}"
            }
          },
          "metadata": {},
          "execution_count": 2
        }
      ]
    },
    {
      "cell_type": "code",
      "source": [
        "fish.tail(3)"
      ],
      "metadata": {
        "colab": {
          "base_uri": "https://localhost:8080/",
          "height": 143
        },
        "id": "qMxl7hYeZECN",
        "outputId": "2e7ea522-67c6-4f37-9b41-7990c1abad53"
      },
      "execution_count": 3,
      "outputs": [
        {
          "output_type": "execute_result",
          "data": {
            "text/plain": [
              "    Species  Weight  Length  Diagonal  Height   Width\n",
              "156   Smelt    12.2    13.0      13.8  2.2770  1.2558\n",
              "157   Smelt    19.7    14.3      15.2  2.8728  2.0672\n",
              "158   Smelt    19.9    15.0      16.2  2.9322  1.8792"
            ],
            "text/html": [
              "\n",
              "  <div id=\"df-e0ec6370-6d22-478b-877a-5cbca94ed212\" class=\"colab-df-container\">\n",
              "    <div>\n",
              "<style scoped>\n",
              "    .dataframe tbody tr th:only-of-type {\n",
              "        vertical-align: middle;\n",
              "    }\n",
              "\n",
              "    .dataframe tbody tr th {\n",
              "        vertical-align: top;\n",
              "    }\n",
              "\n",
              "    .dataframe thead th {\n",
              "        text-align: right;\n",
              "    }\n",
              "</style>\n",
              "<table border=\"1\" class=\"dataframe\">\n",
              "  <thead>\n",
              "    <tr style=\"text-align: right;\">\n",
              "      <th></th>\n",
              "      <th>Species</th>\n",
              "      <th>Weight</th>\n",
              "      <th>Length</th>\n",
              "      <th>Diagonal</th>\n",
              "      <th>Height</th>\n",
              "      <th>Width</th>\n",
              "    </tr>\n",
              "  </thead>\n",
              "  <tbody>\n",
              "    <tr>\n",
              "      <th>156</th>\n",
              "      <td>Smelt</td>\n",
              "      <td>12.2</td>\n",
              "      <td>13.0</td>\n",
              "      <td>13.8</td>\n",
              "      <td>2.2770</td>\n",
              "      <td>1.2558</td>\n",
              "    </tr>\n",
              "    <tr>\n",
              "      <th>157</th>\n",
              "      <td>Smelt</td>\n",
              "      <td>19.7</td>\n",
              "      <td>14.3</td>\n",
              "      <td>15.2</td>\n",
              "      <td>2.8728</td>\n",
              "      <td>2.0672</td>\n",
              "    </tr>\n",
              "    <tr>\n",
              "      <th>158</th>\n",
              "      <td>Smelt</td>\n",
              "      <td>19.9</td>\n",
              "      <td>15.0</td>\n",
              "      <td>16.2</td>\n",
              "      <td>2.9322</td>\n",
              "      <td>1.8792</td>\n",
              "    </tr>\n",
              "  </tbody>\n",
              "</table>\n",
              "</div>\n",
              "    <div class=\"colab-df-buttons\">\n",
              "\n",
              "  <div class=\"colab-df-container\">\n",
              "    <button class=\"colab-df-convert\" onclick=\"convertToInteractive('df-e0ec6370-6d22-478b-877a-5cbca94ed212')\"\n",
              "            title=\"Convert this dataframe to an interactive table.\"\n",
              "            style=\"display:none;\">\n",
              "\n",
              "  <svg xmlns=\"http://www.w3.org/2000/svg\" height=\"24px\" viewBox=\"0 -960 960 960\">\n",
              "    <path d=\"M120-120v-720h720v720H120Zm60-500h600v-160H180v160Zm220 220h160v-160H400v160Zm0 220h160v-160H400v160ZM180-400h160v-160H180v160Zm440 0h160v-160H620v160ZM180-180h160v-160H180v160Zm440 0h160v-160H620v160Z\"/>\n",
              "  </svg>\n",
              "    </button>\n",
              "\n",
              "  <style>\n",
              "    .colab-df-container {\n",
              "      display:flex;\n",
              "      gap: 12px;\n",
              "    }\n",
              "\n",
              "    .colab-df-convert {\n",
              "      background-color: #E8F0FE;\n",
              "      border: none;\n",
              "      border-radius: 50%;\n",
              "      cursor: pointer;\n",
              "      display: none;\n",
              "      fill: #1967D2;\n",
              "      height: 32px;\n",
              "      padding: 0 0 0 0;\n",
              "      width: 32px;\n",
              "    }\n",
              "\n",
              "    .colab-df-convert:hover {\n",
              "      background-color: #E2EBFA;\n",
              "      box-shadow: 0px 1px 2px rgba(60, 64, 67, 0.3), 0px 1px 3px 1px rgba(60, 64, 67, 0.15);\n",
              "      fill: #174EA6;\n",
              "    }\n",
              "\n",
              "    .colab-df-buttons div {\n",
              "      margin-bottom: 4px;\n",
              "    }\n",
              "\n",
              "    [theme=dark] .colab-df-convert {\n",
              "      background-color: #3B4455;\n",
              "      fill: #D2E3FC;\n",
              "    }\n",
              "\n",
              "    [theme=dark] .colab-df-convert:hover {\n",
              "      background-color: #434B5C;\n",
              "      box-shadow: 0px 1px 3px 1px rgba(0, 0, 0, 0.15);\n",
              "      filter: drop-shadow(0px 1px 2px rgba(0, 0, 0, 0.3));\n",
              "      fill: #FFFFFF;\n",
              "    }\n",
              "  </style>\n",
              "\n",
              "    <script>\n",
              "      const buttonEl =\n",
              "        document.querySelector('#df-e0ec6370-6d22-478b-877a-5cbca94ed212 button.colab-df-convert');\n",
              "      buttonEl.style.display =\n",
              "        google.colab.kernel.accessAllowed ? 'block' : 'none';\n",
              "\n",
              "      async function convertToInteractive(key) {\n",
              "        const element = document.querySelector('#df-e0ec6370-6d22-478b-877a-5cbca94ed212');\n",
              "        const dataTable =\n",
              "          await google.colab.kernel.invokeFunction('convertToInteractive',\n",
              "                                                    [key], {});\n",
              "        if (!dataTable) return;\n",
              "\n",
              "        const docLinkHtml = 'Like what you see? Visit the ' +\n",
              "          '<a target=\"_blank\" href=https://colab.research.google.com/notebooks/data_table.ipynb>data table notebook</a>'\n",
              "          + ' to learn more about interactive tables.';\n",
              "        element.innerHTML = '';\n",
              "        dataTable['output_type'] = 'display_data';\n",
              "        await google.colab.output.renderOutput(dataTable, element);\n",
              "        const docLink = document.createElement('div');\n",
              "        docLink.innerHTML = docLinkHtml;\n",
              "        element.appendChild(docLink);\n",
              "      }\n",
              "    </script>\n",
              "  </div>\n",
              "\n",
              "\n",
              "<div id=\"df-fac352f8-5def-4138-882f-31f43f364d46\">\n",
              "  <button class=\"colab-df-quickchart\" onclick=\"quickchart('df-fac352f8-5def-4138-882f-31f43f364d46')\"\n",
              "            title=\"Suggest charts\"\n",
              "            style=\"display:none;\">\n",
              "\n",
              "<svg xmlns=\"http://www.w3.org/2000/svg\" height=\"24px\"viewBox=\"0 0 24 24\"\n",
              "     width=\"24px\">\n",
              "    <g>\n",
              "        <path d=\"M19 3H5c-1.1 0-2 .9-2 2v14c0 1.1.9 2 2 2h14c1.1 0 2-.9 2-2V5c0-1.1-.9-2-2-2zM9 17H7v-7h2v7zm4 0h-2V7h2v10zm4 0h-2v-4h2v4z\"/>\n",
              "    </g>\n",
              "</svg>\n",
              "  </button>\n",
              "\n",
              "<style>\n",
              "  .colab-df-quickchart {\n",
              "      --bg-color: #E8F0FE;\n",
              "      --fill-color: #1967D2;\n",
              "      --hover-bg-color: #E2EBFA;\n",
              "      --hover-fill-color: #174EA6;\n",
              "      --disabled-fill-color: #AAA;\n",
              "      --disabled-bg-color: #DDD;\n",
              "  }\n",
              "\n",
              "  [theme=dark] .colab-df-quickchart {\n",
              "      --bg-color: #3B4455;\n",
              "      --fill-color: #D2E3FC;\n",
              "      --hover-bg-color: #434B5C;\n",
              "      --hover-fill-color: #FFFFFF;\n",
              "      --disabled-bg-color: #3B4455;\n",
              "      --disabled-fill-color: #666;\n",
              "  }\n",
              "\n",
              "  .colab-df-quickchart {\n",
              "    background-color: var(--bg-color);\n",
              "    border: none;\n",
              "    border-radius: 50%;\n",
              "    cursor: pointer;\n",
              "    display: none;\n",
              "    fill: var(--fill-color);\n",
              "    height: 32px;\n",
              "    padding: 0;\n",
              "    width: 32px;\n",
              "  }\n",
              "\n",
              "  .colab-df-quickchart:hover {\n",
              "    background-color: var(--hover-bg-color);\n",
              "    box-shadow: 0 1px 2px rgba(60, 64, 67, 0.3), 0 1px 3px 1px rgba(60, 64, 67, 0.15);\n",
              "    fill: var(--button-hover-fill-color);\n",
              "  }\n",
              "\n",
              "  .colab-df-quickchart-complete:disabled,\n",
              "  .colab-df-quickchart-complete:disabled:hover {\n",
              "    background-color: var(--disabled-bg-color);\n",
              "    fill: var(--disabled-fill-color);\n",
              "    box-shadow: none;\n",
              "  }\n",
              "\n",
              "  .colab-df-spinner {\n",
              "    border: 2px solid var(--fill-color);\n",
              "    border-color: transparent;\n",
              "    border-bottom-color: var(--fill-color);\n",
              "    animation:\n",
              "      spin 1s steps(1) infinite;\n",
              "  }\n",
              "\n",
              "  @keyframes spin {\n",
              "    0% {\n",
              "      border-color: transparent;\n",
              "      border-bottom-color: var(--fill-color);\n",
              "      border-left-color: var(--fill-color);\n",
              "    }\n",
              "    20% {\n",
              "      border-color: transparent;\n",
              "      border-left-color: var(--fill-color);\n",
              "      border-top-color: var(--fill-color);\n",
              "    }\n",
              "    30% {\n",
              "      border-color: transparent;\n",
              "      border-left-color: var(--fill-color);\n",
              "      border-top-color: var(--fill-color);\n",
              "      border-right-color: var(--fill-color);\n",
              "    }\n",
              "    40% {\n",
              "      border-color: transparent;\n",
              "      border-right-color: var(--fill-color);\n",
              "      border-top-color: var(--fill-color);\n",
              "    }\n",
              "    60% {\n",
              "      border-color: transparent;\n",
              "      border-right-color: var(--fill-color);\n",
              "    }\n",
              "    80% {\n",
              "      border-color: transparent;\n",
              "      border-right-color: var(--fill-color);\n",
              "      border-bottom-color: var(--fill-color);\n",
              "    }\n",
              "    90% {\n",
              "      border-color: transparent;\n",
              "      border-bottom-color: var(--fill-color);\n",
              "    }\n",
              "  }\n",
              "</style>\n",
              "\n",
              "  <script>\n",
              "    async function quickchart(key) {\n",
              "      const quickchartButtonEl =\n",
              "        document.querySelector('#' + key + ' button');\n",
              "      quickchartButtonEl.disabled = true;  // To prevent multiple clicks.\n",
              "      quickchartButtonEl.classList.add('colab-df-spinner');\n",
              "      try {\n",
              "        const charts = await google.colab.kernel.invokeFunction(\n",
              "            'suggestCharts', [key], {});\n",
              "      } catch (error) {\n",
              "        console.error('Error during call to suggestCharts:', error);\n",
              "      }\n",
              "      quickchartButtonEl.classList.remove('colab-df-spinner');\n",
              "      quickchartButtonEl.classList.add('colab-df-quickchart-complete');\n",
              "    }\n",
              "    (() => {\n",
              "      let quickchartButtonEl =\n",
              "        document.querySelector('#df-fac352f8-5def-4138-882f-31f43f364d46 button');\n",
              "      quickchartButtonEl.style.display =\n",
              "        google.colab.kernel.accessAllowed ? 'block' : 'none';\n",
              "    })();\n",
              "  </script>\n",
              "</div>\n",
              "\n",
              "    </div>\n",
              "  </div>\n"
            ],
            "application/vnd.google.colaboratory.intrinsic+json": {
              "type": "dataframe",
              "summary": "{\n  \"name\": \"fish\",\n  \"rows\": 3,\n  \"fields\": [\n    {\n      \"column\": \"Species\",\n      \"properties\": {\n        \"dtype\": \"category\",\n        \"num_unique_values\": 1,\n        \"samples\": [\n          \"Smelt\"\n        ],\n        \"semantic_type\": \"\",\n        \"description\": \"\"\n      }\n    },\n    {\n      \"column\": \"Weight\",\n      \"properties\": {\n        \"dtype\": \"number\",\n        \"std\": 4.3890014050274955,\n        \"min\": 12.2,\n        \"max\": 19.9,\n        \"num_unique_values\": 3,\n        \"samples\": [\n          12.2\n        ],\n        \"semantic_type\": \"\",\n        \"description\": \"\"\n      }\n    },\n    {\n      \"column\": \"Length\",\n      \"properties\": {\n        \"dtype\": \"number\",\n        \"std\": 1.0148891565092222,\n        \"min\": 13.0,\n        \"max\": 15.0,\n        \"num_unique_values\": 3,\n        \"samples\": [\n          13.0\n        ],\n        \"semantic_type\": \"\",\n        \"description\": \"\"\n      }\n    },\n    {\n      \"column\": \"Diagonal\",\n      \"properties\": {\n        \"dtype\": \"number\",\n        \"std\": 1.2055427546683408,\n        \"min\": 13.8,\n        \"max\": 16.2,\n        \"num_unique_values\": 3,\n        \"samples\": [\n          13.8\n        ],\n        \"semantic_type\": \"\",\n        \"description\": \"\"\n      }\n    },\n    {\n      \"column\": \"Height\",\n      \"properties\": {\n        \"dtype\": \"number\",\n        \"std\": 0.3623518179890918,\n        \"min\": 2.277,\n        \"max\": 2.9322,\n        \"num_unique_values\": 3,\n        \"samples\": [\n          2.277\n        ],\n        \"semantic_type\": \"\",\n        \"description\": \"\"\n      }\n    },\n    {\n      \"column\": \"Width\",\n      \"properties\": {\n        \"dtype\": \"number\",\n        \"std\": 0.42472373766171034,\n        \"min\": 1.2558,\n        \"max\": 2.0672,\n        \"num_unique_values\": 3,\n        \"samples\": [\n          1.2558\n        ],\n        \"semantic_type\": \"\",\n        \"description\": \"\"\n      }\n    }\n  ]\n}"
            }
          },
          "metadata": {},
          "execution_count": 3
        }
      ]
    },
    {
      "cell_type": "code",
      "source": [
        "fish_input = fish[['Weight', 'Length', 'Diagonal', 'Height', 'Width']].to_numpy()\n",
        "# Species(어종)을 제외한 나머지 필드를 fish_input 변수에 넣음\n",
        "fish_target = fish['Species'].to_numpy() # Species(어종) 정답파일로 생성\n",
        "print(fish_target)"
      ],
      "metadata": {
        "colab": {
          "base_uri": "https://localhost:8080/"
        },
        "id": "JUpE0WuUZIh8",
        "outputId": "ed6dc9ce-b35c-42a7-c9f5-c08183684577"
      },
      "execution_count": 4,
      "outputs": [
        {
          "output_type": "stream",
          "name": "stdout",
          "text": [
            "['Bream' 'Bream' 'Bream' 'Bream' 'Bream' 'Bream' 'Bream' 'Bream' 'Bream'\n",
            " 'Bream' 'Bream' 'Bream' 'Bream' 'Bream' 'Bream' 'Bream' 'Bream' 'Bream'\n",
            " 'Bream' 'Bream' 'Bream' 'Bream' 'Bream' 'Bream' 'Bream' 'Bream' 'Bream'\n",
            " 'Bream' 'Bream' 'Bream' 'Bream' 'Bream' 'Bream' 'Bream' 'Bream' 'Roach'\n",
            " 'Roach' 'Roach' 'Roach' 'Roach' 'Roach' 'Roach' 'Roach' 'Roach' 'Roach'\n",
            " 'Roach' 'Roach' 'Roach' 'Roach' 'Roach' 'Roach' 'Roach' 'Roach' 'Roach'\n",
            " 'Roach' 'Whitefish' 'Whitefish' 'Whitefish' 'Whitefish' 'Whitefish'\n",
            " 'Whitefish' 'Parkki' 'Parkki' 'Parkki' 'Parkki' 'Parkki' 'Parkki'\n",
            " 'Parkki' 'Parkki' 'Parkki' 'Parkki' 'Parkki' 'Perch' 'Perch' 'Perch'\n",
            " 'Perch' 'Perch' 'Perch' 'Perch' 'Perch' 'Perch' 'Perch' 'Perch' 'Perch'\n",
            " 'Perch' 'Perch' 'Perch' 'Perch' 'Perch' 'Perch' 'Perch' 'Perch' 'Perch'\n",
            " 'Perch' 'Perch' 'Perch' 'Perch' 'Perch' 'Perch' 'Perch' 'Perch' 'Perch'\n",
            " 'Perch' 'Perch' 'Perch' 'Perch' 'Perch' 'Perch' 'Perch' 'Perch' 'Perch'\n",
            " 'Perch' 'Perch' 'Perch' 'Perch' 'Perch' 'Perch' 'Perch' 'Perch' 'Perch'\n",
            " 'Perch' 'Perch' 'Perch' 'Perch' 'Perch' 'Perch' 'Perch' 'Perch' 'Pike'\n",
            " 'Pike' 'Pike' 'Pike' 'Pike' 'Pike' 'Pike' 'Pike' 'Pike' 'Pike' 'Pike'\n",
            " 'Pike' 'Pike' 'Pike' 'Pike' 'Pike' 'Pike' 'Smelt' 'Smelt' 'Smelt' 'Smelt'\n",
            " 'Smelt' 'Smelt' 'Smelt' 'Smelt' 'Smelt' 'Smelt' 'Smelt' 'Smelt' 'Smelt'\n",
            " 'Smelt']\n"
          ]
        }
      ]
    },
    {
      "cell_type": "code",
      "source": [
        "from sklearn.model_selection import train_test_split\n",
        "import numpy as np\n",
        "np.set_printoptions(precision=6, suppress=True) # 지수를 정수로 변환\n",
        "# 사이킷런을 이용해서 훈련자료와 테스트자료를 나눔\n",
        "train_input, test_input, train_target, test_target = train_test_split(fish_input, fish_target, random_state=42)\n",
        "print(train_input)"
      ],
      "metadata": {
        "colab": {
          "base_uri": "https://localhost:8080/"
        },
        "id": "K1479td1ZwnJ",
        "outputId": "b2a0d950-5fae-471d-e6d7-e81012fc6b2c"
      },
      "execution_count": 7,
      "outputs": [
        {
          "output_type": "stream",
          "name": "stdout",
          "text": [
            "[[ 720.       35.       40.6      16.3618    6.09  ]\n",
            " [ 500.       45.       48.        6.96      4.896 ]\n",
            " [   7.5      10.5      11.6       1.972     1.16  ]\n",
            " [ 110.       22.       23.5       5.5225    3.995 ]\n",
            " [ 140.       20.7      23.2       8.5376    3.2944]\n",
            " [  69.       18.2      20.3       5.2983    2.8217]\n",
            " [ 110.       21.       22.5       5.6925    3.555 ]\n",
            " [ 620.       34.5      39.7      15.5227    5.2801]\n",
            " [ 130.       21.3      22.8       6.384     3.534 ]\n",
            " [  85.       20.       21.        5.082     2.772 ]\n",
            " [ 685.       36.5      39.       10.881     6.864 ]\n",
            " [ 500.       31.       36.2      14.3714    4.8146]\n",
            " [ 514.       32.8      34.       10.03      6.018 ]\n",
            " [ 200.       23.       25.8      10.3458    3.6636]\n",
            " [1000.       44.       46.6      12.4888    7.5958]\n",
            " [ 714.       36.       41.5      16.517     5.8515]\n",
            " [   8.7      11.3      12.6       1.9782    1.2852]\n",
            " [1000.       43.       45.2      11.9328    7.2772]\n",
            " [ 110.       20.8      23.1       6.1677    3.3957]\n",
            " [ 430.       29.       34.       12.444     5.134 ]\n",
            " [ 456.       42.5      45.5       7.28      4.3225]\n",
            " [ 925.       39.5      45.3      18.7542    6.7497]\n",
            " [ 950.       51.7      55.1       8.9262    6.1712]\n",
            " [ 250.       27.5      28.9       7.2828    4.5662]\n",
            " [ 170.       20.7      23.2       9.396     3.4104]\n",
            " [ 475.       31.       36.2      14.2628    5.1042]\n",
            " [ 145.       22.7      24.2       5.9532    3.63  ]\n",
            " [ 300.       37.3      39.8       6.2884    4.0198]\n",
            " [ 242.       25.4      30.       11.52      4.02  ]\n",
            " [ 650.       39.       41.4      11.1366    6.003 ]\n",
            " [ 120.       19.       21.3       8.3922    2.9181]\n",
            " [ 145.       22.       24.3       6.6339    3.5478]\n",
            " [ 125.       21.       22.5       5.6925    3.6675]\n",
            " [ 850.       36.       41.6      16.8896    6.1984]\n",
            " [   0.       20.5      22.8       6.4752    3.3516]\n",
            " [ 840.       35.       37.3      11.4884    7.7957]\n",
            " [ 725.       35.       40.9      16.36      6.0532]\n",
            " [ 680.       35.       40.6      15.4686    6.1306]\n",
            " [ 690.       37.       39.3      10.5717    6.3666]\n",
            " [  80.       19.       20.2       5.6358    3.0502]\n",
            " [ 120.       20.       22.2       6.216     3.5742]\n",
            " [1600.       60.       64.        9.6       6.144 ]\n",
            " [ 265.       27.5      28.9       7.0516    4.335 ]\n",
            " [  12.2      12.2      13.4       2.0904    1.3936]\n",
            " [ 345.       38.5      41.        6.396     3.977 ]\n",
            " [ 160.       22.5      25.        6.4       3.8   ]\n",
            " [ 850.       40.       42.3      11.9286    7.1064]\n",
            " [  55.       14.7      16.5       6.8475    2.3265]\n",
            " [  32.       13.7      14.7       3.528     1.9992]\n",
            " [ 975.       41.       45.9      18.6354    6.7473]\n",
            " [ 320.       30.       31.6       7.6156    4.7716]\n",
            " [   9.7      11.       12.        2.196     1.38  ]\n",
            " [1100.       42.       44.6      12.8002    6.8684]\n",
            " [  60.       15.5      17.4       6.5772    2.3142]\n",
            " [  19.7      14.3      15.2       2.8728    2.0672]\n",
            " [ 145.       24.       25.5       6.375     3.825 ]\n",
            " [ 197.       25.6      27.        6.561     4.239 ]\n",
            " [ 272.       27.       30.6       8.568     4.7736]\n",
            " [ 450.       29.7      34.7      13.6024    4.9274]\n",
            " [ 700.       37.       39.4      10.835     6.2646]\n",
            " [ 820.       40.       42.5      11.135     6.63  ]\n",
            " [ 161.       23.4      26.7       6.9153    3.6312]\n",
            " [  40.       14.1      16.2       4.1472    2.268 ]\n",
            " [  85.       19.6      20.8       5.1376    3.0368]\n",
            " [ 100.       18.       19.2       5.2224    3.3216]\n",
            " [ 950.       41.       46.5      17.6235    6.3705]\n",
            " [ 140.       22.5      25.        6.55      3.325 ]\n",
            " [ 390.       30.       35.       12.67      4.69  ]\n",
            " [ 150.       22.       24.7       5.8045    3.7544]\n",
            " [ 273.       25.       28.       11.088     4.144 ]\n",
            " [ 900.       40.       42.5      11.73      7.225 ]\n",
            " [ 556.       34.5      36.5      10.2565    6.3875]\n",
            " [ 130.       22.5      24.        5.856     3.624 ]\n",
            " [ 115.       21.       22.5       5.9175    3.3075]\n",
            " [1550.       60.       64.        9.6       6.144 ]\n",
            " [1650.       63.4      68.       10.812     7.48  ]\n",
            " [ 135.       22.       23.5       5.875     3.525 ]\n",
            " [ 450.       30.       35.1      14.0049    4.8438]\n",
            " [ 700.       36.       38.3      10.6091    6.7408]\n",
            " [ 340.       32.       37.3      13.9129    5.0728]\n",
            " [ 800.       36.4      39.6      11.7612    6.5736]\n",
            " [ 540.       43.       45.8       7.786     5.1296]\n",
            " [ 363.       29.       33.5      12.73      4.4555]\n",
            " [ 700.       33.       38.5      14.938     5.1975]\n",
            " [  87.       19.8      22.2       5.6166    3.1746]\n",
            " [   5.9       8.4       8.8       2.112     1.408 ]\n",
            " [ 770.       48.       51.2       7.68      5.376 ]\n",
            " [ 500.       29.7      34.5      14.1795    5.2785]\n",
            " [ 430.       38.       40.5       7.29      4.5765]\n",
            " [  90.       17.7      19.8       7.4052    2.673 ]\n",
            " [ 390.       31.7      35.        9.485     5.355 ]\n",
            " [ 300.       28.7      30.1       7.5852    4.6354]\n",
            " [ 200.       23.5      26.8       7.3968    4.1272]\n",
            " [  12.2      13.       13.8       2.277     1.2558]\n",
            " [ 540.       31.       34.       10.744     6.562 ]\n",
            " [ 169.       24.       27.2       7.5344    3.8352]\n",
            " [ 130.       22.       23.5       6.11      3.525 ]\n",
            " [ 685.       34.       39.2      15.9936    5.3704]\n",
            " [ 306.       28.       30.8       8.778     4.6816]\n",
            " [   9.8      12.       13.2       2.2044    1.1484]\n",
            " [ 300.       34.       37.8       5.7078    4.158 ]\n",
            " [  78.       18.8      21.2       5.5756    2.9044]\n",
            " [   9.8      11.2      12.4       2.0832    1.2772]\n",
            " [ 290.       26.3      31.2      12.48      4.3056]\n",
            " [ 290.       26.       29.2       8.8768    4.4968]\n",
            " [ 300.       35.       38.8       5.9364    4.3844]\n",
            " [ 260.       27.5      28.9       7.1672    4.335 ]\n",
            " [ 180.       25.       26.5       6.4395    3.6835]\n",
            " [ 900.       39.       41.4      11.1366    7.4934]\n",
            " [ 120.       22.       23.5       5.64      3.525 ]\n",
            " [  40.       15.       16.        3.824     2.432 ]\n",
            " [1015.       40.       42.4      12.3808    7.4624]\n",
            " [  19.9      15.       16.2       2.9322    1.8792]\n",
            " [ 575.       34.       39.5      15.1285    5.5695]\n",
            " [ 300.       26.       29.       11.368     4.234 ]\n",
            " [ 250.       28.       29.4       7.8204    4.2042]\n",
            " [ 600.       32.       37.2      14.9544    5.1708]\n",
            " [ 150.       22.5      24.        6.792     3.624 ]\n",
            " [ 300.       27.3      28.7       8.323     5.1373]]\n"
          ]
        }
      ]
    },
    {
      "cell_type": "code",
      "source": [
        "print(train_input.shape)    # 요소 119, 특성 5\n"
      ],
      "metadata": {
        "colab": {
          "base_uri": "https://localhost:8080/"
        },
        "id": "BzxooNo5dKlo",
        "outputId": "b2711912-70ed-47d1-83fc-de0400dde97b"
      },
      "execution_count": 10,
      "outputs": [
        {
          "output_type": "stream",
          "name": "stdout",
          "text": [
            "(119, 5)\n"
          ]
        }
      ]
    },
    {
      "cell_type": "code",
      "source": [
        "print(test_input)\n",
        "print(test_input.shape)  # 요소 40, 특성 5"
      ],
      "metadata": {
        "colab": {
          "base_uri": "https://localhost:8080/"
        },
        "id": "91yLIgKtdkMk",
        "outputId": "644d74a9-256f-4bb0-8516-be41c933f5ba"
      },
      "execution_count": 11,
      "outputs": [
        {
          "output_type": "stream",
          "name": "stdout",
          "text": [
            "[[  78.       18.7      19.4       5.1992    3.1234]\n",
            " [  13.4      12.4      13.5       2.43      1.269 ]\n",
            " [ 200.       32.3      34.8       5.568     3.3756]\n",
            " [ 270.       26.       28.7       8.3804    4.2476]\n",
            " [ 150.       23.       24.5       5.2185    3.626 ]\n",
            " [1000.       37.       42.6      18.957     6.603 ]\n",
            " [   7.       10.6      11.6       1.7284    1.1484]\n",
            " [ 180.       25.2      27.9       7.0866    3.906 ]\n",
            " [ 188.       24.6      26.2       6.7334    4.1658]\n",
            " [1250.       56.       59.7      10.6863    6.9849]\n",
            " [ 650.       33.5      38.7      14.4738    5.7276]\n",
            " [1000.       40.       43.5      12.354     6.525 ]\n",
            " [ 600.       32.       37.2      15.438     5.58  ]\n",
            " [ 150.       20.       22.4       8.8928    3.2928]\n",
            " [ 700.       35.       40.5      16.2405    5.589 ]\n",
            " [ 920.       38.5      44.1      18.0369    6.3063]\n",
            " [1000.       43.5      46.       12.604     8.142 ]\n",
            " [ 218.       26.5      28.        7.168     4.144 ]\n",
            " [ 225.       24.       25.5       7.293     3.723 ]\n",
            " [ 700.       33.       38.3      14.8604    5.2854]\n",
            " [  10.       11.8      13.1       2.2139    1.2838]\n",
            " [ 610.       33.5      38.6      15.633     5.1338]\n",
            " [ 500.       31.5      36.4      13.7592    4.368 ]\n",
            " [ 500.       30.7      36.2      14.2266    4.9594]\n",
            " [ 955.       38.5      44.       18.084     6.292 ]\n",
            " [1100.       43.       45.5      12.5125    7.4165]\n",
            " [ 170.       23.5      25.        6.275     3.725 ]\n",
            " [ 270.       26.5      29.3       8.1454    4.2485]\n",
            " [   6.7       9.8      10.8       1.7388    1.0476]\n",
            " [   9.9      11.8      13.1       2.2139    1.1659]\n",
            " [ 510.       42.5      45.5       6.825     4.459 ]\n",
            " [  70.       17.4      18.5       4.588     2.9415]\n",
            " [  51.5      16.2      17.2       4.5924    2.6316]\n",
            " [ 567.       46.       48.7       7.792     4.87  ]\n",
            " [ 340.       26.5      31.1      12.3778    4.6961]\n",
            " [ 120.       22.       23.5       6.11      3.4075]\n",
            " [ 160.       22.5      25.3       7.0334    3.8203]\n",
            " [ 120.       21.       23.7       6.1146    3.2943]\n",
            " [ 145.       21.5      24.1       9.7364    3.1571]\n",
            " [ 820.       39.       41.3      12.4313    7.3514]]\n",
            "(40, 5)\n"
          ]
        }
      ]
    },
    {
      "cell_type": "code",
      "source": [
        "print('train_target :'+train_target)    # 훈련정답 : 119개"
      ],
      "metadata": {
        "colab": {
          "base_uri": "https://localhost:8080/"
        },
        "id": "isqGQOEmdtNw",
        "outputId": "5c1d5562-785e-432f-ceb5-80edbc92878a"
      },
      "execution_count": 12,
      "outputs": [
        {
          "output_type": "stream",
          "name": "stdout",
          "text": [
            "['train_target :Bream' 'train_target :Pike' 'train_target :Smelt'\n",
            " 'train_target :Perch' 'train_target :Parkki' 'train_target :Roach'\n",
            " 'train_target :Perch' 'train_target :Bream' 'train_target :Perch'\n",
            " 'train_target :Perch' 'train_target :Perch' 'train_target :Bream'\n",
            " 'train_target :Perch' 'train_target :Parkki' 'train_target :Perch'\n",
            " 'train_target :Bream' 'train_target :Smelt' 'train_target :Perch'\n",
            " 'train_target :Roach' 'train_target :Bream' 'train_target :Pike'\n",
            " 'train_target :Bream' 'train_target :Pike' 'train_target :Perch'\n",
            " 'train_target :Parkki' 'train_target :Bream' 'train_target :Perch'\n",
            " 'train_target :Pike' 'train_target :Bream' 'train_target :Perch'\n",
            " 'train_target :Parkki' 'train_target :Roach' 'train_target :Perch'\n",
            " 'train_target :Bream' 'train_target :Roach' 'train_target :Perch'\n",
            " 'train_target :Bream' 'train_target :Bream' 'train_target :Perch'\n",
            " 'train_target :Perch' 'train_target :Roach' 'train_target :Pike'\n",
            " 'train_target :Perch' 'train_target :Smelt' 'train_target :Pike'\n",
            " 'train_target :Roach' 'train_target :Perch' 'train_target :Parkki'\n",
            " 'train_target :Perch' 'train_target :Bream' 'train_target :Perch'\n",
            " 'train_target :Smelt' 'train_target :Perch' 'train_target :Parkki'\n",
            " 'train_target :Smelt' 'train_target :Perch' 'train_target :Perch'\n",
            " 'train_target :Roach' 'train_target :Bream' 'train_target :Perch'\n",
            " 'train_target :Perch' 'train_target :Roach' 'train_target :Roach'\n",
            " 'train_target :Perch' 'train_target :Perch' 'train_target :Bream'\n",
            " 'train_target :Roach' 'train_target :Bream' 'train_target :Roach'\n",
            " 'train_target :Parkki' 'train_target :Perch' 'train_target :Perch'\n",
            " 'train_target :Perch' 'train_target :Perch' 'train_target :Pike'\n",
            " 'train_target :Pike' 'train_target :Perch' 'train_target :Bream'\n",
            " 'train_target :Perch' 'train_target :Bream' 'train_target :Whitefish'\n",
            " 'train_target :Pike' 'train_target :Bream' 'train_target :Bream'\n",
            " 'train_target :Roach' 'train_target :Perch' 'train_target :Pike'\n",
            " 'train_target :Bream' 'train_target :Pike' 'train_target :Parkki'\n",
            " 'train_target :Roach' 'train_target :Perch' 'train_target :Roach'\n",
            " 'train_target :Smelt' 'train_target :Whitefish' 'train_target :Roach'\n",
            " 'train_target :Perch' 'train_target :Bream' 'train_target :Whitefish'\n",
            " 'train_target :Smelt' 'train_target :Pike' 'train_target :Roach'\n",
            " 'train_target :Smelt' 'train_target :Bream' 'train_target :Roach'\n",
            " 'train_target :Pike' 'train_target :Perch' 'train_target :Perch'\n",
            " 'train_target :Perch' 'train_target :Perch' 'train_target :Perch'\n",
            " 'train_target :Perch' 'train_target :Smelt' 'train_target :Bream'\n",
            " 'train_target :Parkki' 'train_target :Perch' 'train_target :Bream'\n",
            " 'train_target :Perch' 'train_target :Perch']\n"
          ]
        }
      ]
    },
    {
      "cell_type": "code",
      "source": [
        "print(train_target.shape)"
      ],
      "metadata": {
        "colab": {
          "base_uri": "https://localhost:8080/"
        },
        "id": "5UzXQpB7d5Km",
        "outputId": "7667d40e-42f6-4d92-ce3b-c538f5994fa6"
      },
      "execution_count": 13,
      "outputs": [
        {
          "output_type": "stream",
          "name": "stdout",
          "text": [
            "(119,)\n"
          ]
        }
      ]
    },
    {
      "cell_type": "code",
      "source": [
        "print(test_target)\n",
        "print(test_target.shape)    # 테스트정답 40개"
      ],
      "metadata": {
        "colab": {
          "base_uri": "https://localhost:8080/"
        },
        "id": "flDqlo5QeCPQ",
        "outputId": "a3a735c0-760c-44b0-dd83-c222c90372a5"
      },
      "execution_count": 15,
      "outputs": [
        {
          "output_type": "stream",
          "name": "stdout",
          "text": [
            "['Perch' 'Smelt' 'Pike' 'Whitefish' 'Perch' 'Bream' 'Smelt' 'Roach'\n",
            " 'Perch' 'Pike' 'Bream' 'Whitefish' 'Bream' 'Parkki' 'Bream' 'Bream'\n",
            " 'Perch' 'Perch' 'Perch' 'Bream' 'Smelt' 'Bream' 'Bream' 'Bream' 'Bream'\n",
            " 'Perch' 'Perch' 'Whitefish' 'Smelt' 'Smelt' 'Pike' 'Perch' 'Perch' 'Pike'\n",
            " 'Bream' 'Perch' 'Roach' 'Roach' 'Parkki' 'Perch']\n",
            "(40,)\n"
          ]
        }
      ]
    },
    {
      "cell_type": "code",
      "source": [
        "from sklearn.preprocessing import StandardScaler\n",
        "# 훈련세트를 표준점수화\n",
        "ss = StandardScaler()\n",
        "ss.fit(train_input)\n",
        "train_scaled = ss.transform(train_input)\n",
        "test_scaled = ss.transform(test_input)\n",
        "print(train_scaled[:5])"
      ],
      "metadata": {
        "colab": {
          "base_uri": "https://localhost:8080/"
        },
        "id": "BOHsmljJePRY",
        "outputId": "a4a4153f-900d-4c90-ec4a-b060105ec7e3"
      },
      "execution_count": 18,
      "outputs": [
        {
          "output_type": "stream",
          "name": "stdout",
          "text": [
            "[[ 0.919658  0.609432  0.810412  1.851949  1.000757]\n",
            " [ 0.300412  1.546534  1.453166 -0.469817  0.272917]\n",
            " [-1.085854 -1.68647  -1.708486 -1.701598 -2.004476]\n",
            " [-0.797341 -0.608802 -0.674869 -0.824806 -0.276315]\n",
            " [-0.712899 -0.730625 -0.700927 -0.08023  -0.703387]]\n"
          ]
        }
      ]
    },
    {
      "cell_type": "code",
      "source": [
        "print(test_scaled[:5])"
      ],
      "metadata": {
        "colab": {
          "base_uri": "https://localhost:8080/"
        },
        "id": "vXt1MY_-e4g9",
        "outputId": "47c34c93-215d-4043-d795-77b726dc7132"
      },
      "execution_count": 19,
      "outputs": [
        {
          "output_type": "stream",
          "name": "stdout",
          "text": [
            "[[-0.887414 -0.918046 -1.030989 -0.904645 -0.807625]\n",
            " [-1.069247 -1.50842  -1.543455 -1.588496 -1.938032]\n",
            " [-0.544014  0.356414  0.306633 -0.81357  -0.653889]\n",
            " [-0.346981 -0.233961 -0.223205 -0.11905  -0.122335]\n",
            " [-0.684751 -0.515091 -0.588011 -0.899878 -0.50125 ]]\n"
          ]
        }
      ]
    },
    {
      "cell_type": "code",
      "source": [
        "from sklearn.linear_model import SGDClassifier\n",
        "# SGDClassifier : 사이킷런의 확률적 경사하강법 제공, 2개의 매개변수를 지정\n",
        "# loss = 'log_loss' : 로지스틱 손실함수 지정\n",
        "# max_iter = 10 : 10회 에포크 반복(전체 훈련세트를 10회 반복)\n",
        "\n",
        "sc = SGDClassifier(loss = 'log_loss', max_iter=10, random_state=42)\n",
        "sc.fit(train_scaled, train_target)\n",
        "\n",
        "print(sc.score(train_scaled, train_target)) # 77.31%\n",
        "print(sc.score(test_scaled, test_target))   # 77.5% -> 반복회수 부족으로 max_iter를 향상후 훈련"
      ],
      "metadata": {
        "colab": {
          "base_uri": "https://localhost:8080/"
        },
        "id": "wMxcRndie9iw",
        "outputId": "822d6885-cb20-4895-e85d-da57dcad3442"
      },
      "execution_count": 20,
      "outputs": [
        {
          "output_type": "stream",
          "name": "stdout",
          "text": [
            "0.773109243697479\n",
            "0.775\n"
          ]
        },
        {
          "output_type": "stream",
          "name": "stderr",
          "text": [
            "/usr/local/lib/python3.10/dist-packages/sklearn/linear_model/_stochastic_gradient.py:738: ConvergenceWarning: Maximum number of iteration reached before convergence. Consider increasing max_iter to improve the fit.\n",
            "  warnings.warn(\n"
          ]
        }
      ]
    },
    {
      "cell_type": "code",
      "source": [
        "# 확률적 경사하강법은 점진적 학습이 가능\n",
        "# SGDClassifier 객체를 또 만들지 말고 훈련할 모델을 sc로 추가하여 훈련을 추가한다.\n",
        "\n",
        "sc.partial_fit(train_scaled, train_target)  # 부분적인 학습\n",
        "\n",
        "print(sc.score(train_scaled, train_target)) # 79.8% -> 정확도가 향상되고 있음\n",
        "print(sc.score(test_scaled, test_target))   # 77.5%\n",
        "# 퍼센트가 증가 -> 무작정 부분적인 학습을 계속하는 것은 의미가 없음(에포크를 늘리는 것이 좋음) -> 기준점을 제공해야 함\n",
        "# 현재는 등산 내려오다가 정지된 느낌"
      ],
      "metadata": {
        "colab": {
          "base_uri": "https://localhost:8080/"
        },
        "id": "REP5AkuagrHQ",
        "outputId": "f3112b0a-b9ae-4dba-e9fc-3902a9c6bd35"
      },
      "execution_count": 21,
      "outputs": [
        {
          "output_type": "stream",
          "name": "stdout",
          "text": [
            "0.7983193277310925\n",
            "0.775\n"
          ]
        }
      ]
    },
    {
      "cell_type": "markdown",
      "source": [
        "## 에포크와 과대/과소적합\n",
        "-> 이미지\n",
        "\n",
        "\n",
        "* 확률적 경사하강법을 사용한 모델은 에포크 횟수에 따라 과소, 과대 적합이 될 수 있다.\n",
        "* 에포크 횟수가 적으면 훈련세트를 덜 학습한다.(119개에서 10번만 랜덤 추출하고 정지)\n",
        "* 에포크 횟수가 충분히 많으면 훈련세트를 완전히 학습할 것이다.(good!)\n",
        "\n",
        "* 바꾸어 말하면 적은 에포크 횟수 동안에 훈련된 모델은 훈련세트와 테스트 세트에 맞지 않음(과소적합)\n",
        "* 반대로 에포크 횟수가 많은 훈련 모델인 경우 너무 잘 맞아 테스트 세트에는 오히려 점수가 나쁨(과대적합)\n",
        "\n",
        "* 과대적합이 되기 전에 훈련을 멈추는 것을 **조기 종료**라고 함"
      ],
      "metadata": {
        "id": "B02Gxn7ziNlW"
      }
    },
    {
      "cell_type": "code",
      "source": [
        "sc = SGDClassifier(loss='log_loss', random_state=42)\n",
        "\n",
        "train_score = []    # 훈련세트 점수를 누적하는 빈 리스트\n",
        "test_score = [] # 테스트 세트 점수 누적하는 빈 리스트\n",
        "# train_target에 있는 7개의 생선 목록을 제공\n",
        "classes = np.unique(train_target)\n",
        "\n",
        "# 파이썬의 _ 변수는 1회용\n",
        "for _ in range(0, 300): # 300번의 에포크동안 훈련진행\n",
        "    sc.partial_fit(train_scaled, train_target, classes=classes)\n",
        "\n",
        "    train_score.append(sc.score(train_scaled, train_target))\n",
        "    test_score.append(sc.score(test_scaled, test_target))"
      ],
      "metadata": {
        "id": "-viZK8eviI6U"
      },
      "execution_count": 22,
      "outputs": []
    },
    {
      "cell_type": "code",
      "source": [
        "print(train_score)"
      ],
      "metadata": {
        "colab": {
          "base_uri": "https://localhost:8080/"
        },
        "id": "nBbmkC6FmL6H",
        "outputId": "28d663d5-0946-4629-e161-167ff8ba872b"
      },
      "execution_count": 23,
      "outputs": [
        {
          "output_type": "stream",
          "name": "stdout",
          "text": [
            "[0.5294117647058824, 0.6218487394957983, 0.6386554621848739, 0.7142857142857143, 0.7142857142857143, 0.7394957983193278, 0.7058823529411765, 0.7226890756302521, 0.7563025210084033, 0.8067226890756303, 0.8151260504201681, 0.8487394957983193, 0.8403361344537815, 0.8571428571428571, 0.8739495798319328, 0.8571428571428571, 0.8571428571428571, 0.8739495798319328, 0.8739495798319328, 0.8739495798319328, 0.8907563025210085, 0.8739495798319328, 0.8739495798319328, 0.8823529411764706, 0.8907563025210085, 0.8907563025210085, 0.8739495798319328, 0.8991596638655462, 0.8991596638655462, 0.8991596638655462, 0.8991596638655462, 0.8907563025210085, 0.8907563025210085, 0.8823529411764706, 0.907563025210084, 0.8991596638655462, 0.9243697478991597, 0.907563025210084, 0.9243697478991597, 0.9159663865546218, 0.9159663865546218, 0.9243697478991597, 0.9327731092436975, 0.9243697478991597, 0.9327731092436975, 0.9243697478991597, 0.9327731092436975, 0.9327731092436975, 0.9327731092436975, 0.9327731092436975, 0.9327731092436975, 0.9327731092436975, 0.9327731092436975, 0.9327731092436975, 0.9327731092436975, 0.9327731092436975, 0.9327731092436975, 0.9327731092436975, 0.9495798319327731, 0.9495798319327731, 0.9495798319327731, 0.9495798319327731, 0.9495798319327731, 0.9495798319327731, 0.9495798319327731, 0.9495798319327731, 0.9495798319327731, 0.9495798319327731, 0.9495798319327731, 0.9495798319327731, 0.9495798319327731, 0.9495798319327731, 0.9495798319327731, 0.9411764705882353, 0.9411764705882353, 0.9411764705882353, 0.9411764705882353, 0.9411764705882353, 0.9411764705882353, 0.9411764705882353, 0.9411764705882353, 0.9411764705882353, 0.9411764705882353, 0.9411764705882353, 0.9411764705882353, 0.9411764705882353, 0.9411764705882353, 0.9411764705882353, 0.9411764705882353, 0.9411764705882353, 0.9411764705882353, 0.9411764705882353, 0.9411764705882353, 0.9411764705882353, 0.9411764705882353, 0.9411764705882353, 0.9411764705882353, 0.9411764705882353, 0.9411764705882353, 0.9411764705882353, 0.9411764705882353, 0.9411764705882353, 0.9411764705882353, 0.9411764705882353, 0.9495798319327731, 0.9495798319327731, 0.9495798319327731, 0.9495798319327731, 0.9495798319327731, 0.9495798319327731, 0.9495798319327731, 0.9495798319327731, 0.957983193277311, 0.957983193277311, 0.957983193277311, 0.957983193277311, 0.957983193277311, 0.957983193277311, 0.957983193277311, 0.957983193277311, 0.957983193277311, 0.957983193277311, 0.957983193277311, 0.957983193277311, 0.957983193277311, 0.957983193277311, 0.957983193277311, 0.957983193277311, 0.957983193277311, 0.957983193277311, 0.957983193277311, 0.957983193277311, 0.957983193277311, 0.957983193277311, 0.957983193277311, 0.957983193277311, 0.957983193277311, 0.957983193277311, 0.957983193277311, 0.957983193277311, 0.957983193277311, 0.957983193277311, 0.957983193277311, 0.957983193277311, 0.957983193277311, 0.957983193277311, 0.957983193277311, 0.957983193277311, 0.957983193277311, 0.957983193277311, 0.957983193277311, 0.957983193277311, 0.957983193277311, 0.957983193277311, 0.957983193277311, 0.957983193277311, 0.957983193277311, 0.957983193277311, 0.957983193277311, 0.957983193277311, 0.957983193277311, 0.957983193277311, 0.957983193277311, 0.957983193277311, 0.957983193277311, 0.957983193277311, 0.957983193277311, 0.957983193277311, 0.957983193277311, 0.957983193277311, 0.957983193277311, 0.957983193277311, 0.957983193277311, 0.957983193277311, 0.957983193277311, 0.957983193277311, 0.957983193277311, 0.957983193277311, 0.957983193277311, 0.957983193277311, 0.957983193277311, 0.957983193277311, 0.957983193277311, 0.957983193277311, 0.957983193277311, 0.957983193277311, 0.957983193277311, 0.957983193277311, 0.957983193277311, 0.957983193277311, 0.957983193277311, 0.957983193277311, 0.957983193277311, 0.957983193277311, 0.957983193277311, 0.957983193277311, 0.957983193277311, 0.957983193277311, 0.957983193277311, 0.957983193277311, 0.957983193277311, 0.957983193277311, 0.957983193277311, 0.957983193277311, 0.957983193277311, 0.957983193277311, 0.957983193277311, 0.957983193277311, 0.957983193277311, 0.957983193277311, 0.957983193277311, 0.957983193277311, 0.957983193277311, 0.957983193277311, 0.957983193277311, 0.957983193277311, 0.957983193277311, 0.957983193277311, 0.957983193277311, 0.957983193277311, 0.957983193277311, 0.957983193277311, 0.957983193277311, 0.957983193277311, 0.957983193277311, 0.957983193277311, 0.957983193277311, 0.957983193277311, 0.957983193277311, 0.957983193277311, 0.957983193277311, 0.957983193277311, 0.957983193277311, 0.957983193277311, 0.957983193277311, 0.957983193277311, 0.957983193277311, 0.957983193277311, 0.957983193277311, 0.957983193277311, 0.957983193277311, 0.957983193277311, 0.957983193277311, 0.957983193277311, 0.957983193277311, 0.957983193277311, 0.957983193277311, 0.957983193277311, 0.957983193277311, 0.957983193277311, 0.957983193277311, 0.957983193277311, 0.957983193277311, 0.957983193277311, 0.957983193277311, 0.957983193277311, 0.957983193277311, 0.957983193277311, 0.957983193277311, 0.957983193277311, 0.957983193277311, 0.957983193277311, 0.957983193277311, 0.957983193277311, 0.957983193277311, 0.957983193277311, 0.957983193277311, 0.957983193277311, 0.957983193277311, 0.957983193277311, 0.9663865546218487, 0.9663865546218487, 0.9663865546218487, 0.9663865546218487, 0.9663865546218487, 0.9663865546218487, 0.9663865546218487, 0.9663865546218487, 0.9663865546218487, 0.9663865546218487, 0.9663865546218487, 0.9663865546218487, 0.9663865546218487, 0.9663865546218487, 0.9663865546218487, 0.9663865546218487, 0.9663865546218487, 0.9663865546218487, 0.9663865546218487, 0.9663865546218487, 0.9663865546218487, 0.9663865546218487, 0.9663865546218487, 0.9663865546218487, 0.9663865546218487, 0.9663865546218487, 0.9663865546218487, 0.9663865546218487, 0.9663865546218487, 0.9663865546218487]\n"
          ]
        }
      ]
    },
    {
      "cell_type": "code",
      "source": [
        "import matplotlib.pyplot as plt\n",
        "\n",
        "plt.plot(train_score)   # 훈련세트 점수\n",
        "plt.plot(test_score)    # 테스트세트 점수\n",
        "plt.xlabel('epoch') # 에포크 횟수\n",
        "plt.ylabel('accuracy')  # 정확도\n",
        "plt.show()"
      ],
      "metadata": {
        "colab": {
          "base_uri": "https://localhost:8080/",
          "height": 449
        },
        "id": "HOJEWVtwmQbF",
        "outputId": "17440be9-c1b6-4bac-9e6f-72434f4fd99e"
      },
      "execution_count": 24,
      "outputs": [
        {
          "output_type": "display_data",
          "data": {
            "text/plain": [
              "<Figure size 640x480 with 1 Axes>"
            ],
            "image/png": "[encoded data removed]"
          },
          "metadata": {}
        }
      ]
    },
    {
      "cell_type": "code",
      "source": [
        "# 결론 : 에포크 횟수를 100번 정도 돌리니 차트상으로 과대, 과소 적합이 아님(최상 good)\n",
        "\n",
        "sc = SGDClassifier(loss='log_loss', max_iter=100, tol=None, random_state=42)    # tol=None : 조기종료 안함\n",
        "# 확률적 경사 하강법은 일정 에포크동안 성능이 향상되지 않으면 더이상 훈련하지 않고 자동으로 멈춤\n",
        "sc.fit(train_scaled, train_target)\n",
        "\n",
        "print(sc.score(train_scaled, train_target)) # 95.79%\n",
        "print(sc.score(test_scaled, test_target))   # 92.5% 로 최적의 상태로 분석됨"
      ],
      "metadata": {
        "colab": {
          "base_uri": "https://localhost:8080/"
        },
        "id": "YT-LdJmZnC1x",
        "outputId": "83cd1e10-72dc-4b2c-9b41-013c55f3e396"
      },
      "execution_count": 25,
      "outputs": [
        {
          "output_type": "stream",
          "name": "stdout",
          "text": [
            "0.957983193277311\n",
            "0.925\n"
          ]
        }
      ]
    },
    {
      "cell_type": "code",
      "source": [
        "sc.predict(test_scaled[:5])\n",
        "\n",
        "proba = sc.predict_proba(test_scaled[:5])\n",
        "np.round(proba, decimals=3)"
      ],
      "metadata": {
        "colab": {
          "base_uri": "https://localhost:8080/"
        },
        "id": "8tEmeE66oWTl",
        "outputId": "cec31403-a4e7-4cbb-872e-ef940e4fa91e"
      },
      "execution_count": 26,
      "outputs": [
        {
          "output_type": "execute_result",
          "data": {
            "text/plain": [
              "array([[0.   , 0.003, 0.774, 0.   , 0.219, 0.   , 0.005],\n",
              "       [0.   , 0.001, 0.015, 0.   , 0.04 , 0.945, 0.   ],\n",
              "       [0.   , 0.   , 0.011, 0.96 , 0.02 , 0.008, 0.001],\n",
              "       [0.   , 0.   , 0.525, 0.   , 0.423, 0.   , 0.052],\n",
              "       [0.   , 0.   , 0.688, 0.   , 0.306, 0.   , 0.006]])"
            ]
          },
          "metadata": {},
          "execution_count": 26
        }
      ]
    },
    {
      "cell_type": "code",
      "source": [
        "sc.classes_"
      ],
      "metadata": {
        "colab": {
          "base_uri": "https://localhost:8080/"
        },
        "id": "UjuxkkwSqth1",
        "outputId": "d4fdb5f3-7ab3-458f-9653-199a4bc721f2"
      },
      "execution_count": 27,
      "outputs": [
        {
          "output_type": "execute_result",
          "data": {
            "text/plain": [
              "array(['Bream', 'Parkki', 'Perch', 'Pike', 'Roach', 'Smelt', 'Whitefish'],\n",
              "      dtype='<U9')"
            ]
          },
          "metadata": {},
          "execution_count": 27
        }
      ]
    },
    {
      "cell_type": "markdown",
      "source": [
        "## 손실함수에 대한 loss 매개값\n",
        "* loss 매개값의 기본값은 loss= hinge(힌지손실) -> 서포트 백터 머신이라고 불림\n",
        "* 또다른 머신러닝 알고리즘을 위한 손실함수이다.\n",
        "* hinge : 이미지, 텍스트 인식 등에 유용\n",
        "\n",
        "* 참고 : https://velog.io/@lee9843/Word2Vec%EC%9D%84-%EC%9D%B4%ED%95%B4%ED%95%98%EA%B8%B0-%EC%9C%84%ED%95%9C-%EB%82%B4%EC%9A%A94-hinge-loss-%ED%9E%8C%EC%A7%80-%EC%86%90%EC%8B%A4"
      ],
      "metadata": {
        "id": "QZsQloiRq4jf"
      }
    },
    {
      "cell_type": "code",
      "source": [
        "sc = SGDClassifier(loss='hinge', max_iter=100, tol=None, random_state=42)\n",
        "sc.fit(train_scaled, train_target)\n",
        "\n",
        "print(sc.score(train_scaled, train_target)) # 95.79% ->94.95%\n",
        "print(sc.score(test_scaled, test_target))   # 92.5% 로 최적의 상태로 분석됨"
      ],
      "metadata": {
        "colab": {
          "base_uri": "https://localhost:8080/"
        },
        "id": "Oe_m3SBBq056",
        "outputId": "8001e3cd-6fa0-432f-a7be-d358d2c069a8"
      },
      "execution_count": 29,
      "outputs": [
        {
          "output_type": "stream",
          "name": "stdout",
          "text": [
            "0.9495798319327731\n",
            "0.925\n"
          ]
        }
      ]
    }
  ]
}