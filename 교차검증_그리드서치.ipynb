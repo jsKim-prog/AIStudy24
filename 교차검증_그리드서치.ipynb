{
  "nbformat": 4,
  "nbformat_minor": 0,
  "metadata": {
    "colab": {
      "provenance": [],
      "authorship_tag": "ABX9TyMQoizaSlFroKFHAc1lD+Gz",
      "include_colab_link": true
    },
    "kernelspec": {
      "name": "python3",
      "display_name": "Python 3"
    },
    "language_info": {
      "name": "python"
    }
  },
  "cells": [
    {
      "cell_type": "markdown",
      "metadata": {
        "id": "view-in-github",
        "colab_type": "text"
      },
      "source": [
        "<a href=\"https://colab.research.google.com/github/jsKim-prog/AIStudy24/blob/master/%EA%B5%90%EC%B0%A8%EA%B2%80%EC%A6%9D_%EA%B7%B8%EB%A6%AC%EB%93%9C%EC%84%9C%EC%B9%98.ipynb\" target=\"_parent\"><img src=\"https://colab.research.google.com/assets/colab-badge.svg\" alt=\"Open In Colab\"/></a>"
      ]
    },
    {
      "cell_type": "markdown",
      "source": [
        "> 지금까지 배운 알고리즘은 훈련세트와 테스트 세트를 나누어 평가를 진행하는데, 결국 테스트 세트로 평가를 하면 테스트 세트에 맞는 모델이 만들어지는 결론이 나온다.\n",
        "\n",
        "> 테스트 세트의 일반화 성능을 올바르게 예측하려면 가능한 한 테스트세트를 사용하지 말아야 한다.\n",
        "> -> 모델을 만들고 나서 마지막에 딱 한번 사용하는 것이 좋다.\n",
        "\n",
        "> 결정트리에서 max_depth 매개변수를 사용한 하이퍼파라미터 튜닝을 해보자."
      ],
      "metadata": {
        "id": "n0VSlmpGdkgT"
      }
    },
    {
      "cell_type": "markdown",
      "source": [
        "### 검증세트\n",
        "-> 이미지"
      ],
      "metadata": {
        "id": "ZQw-Dis9fZCn"
      }
    },
    {
      "cell_type": "code",
      "execution_count": null,
      "metadata": {
        "id": "O5OKmqgmdWhq"
      },
      "outputs": [],
      "source": [
        "# 검증세트\n",
        "# 테스트 세트를 사용하지 않으려면 모델이 과대적합인지 과소적합인지 판단하기 어렵다.\n",
        "# 테스트 세트를 사용하지 않고 측정하는 간단한 방법은 훈련세트를 또 나누는 것이다.\n",
        "# 훈련세트 60%, 검증세트 20%, 테스트세트 20% -> 실무에서 많이 쓰는 기법\n",
        "\n",
        "# 테스트하고 싶은 매개변수를 바꿔가면서 가장 좋은 모델이 나올 수 있음\n",
        "# 이 매개변수를 사용해 훈련세트와 검증세트를 합쳐 전체 훈련데이터에서 모델을 다시 훈련함\n",
        "# 마지막 테스트에서 최종 점수를 평가함\n",
        "# 훈련세트에서 모델을 훈련하고 검증세트로 모델을 평가함\n",
        "# 마지막 세트에서 테스트세트를 이용해 최종 점수를 평가함"
      ]
    },
    {
      "cell_type": "code",
      "source": [
        "import pandas as pd\n",
        "wine = pd.read_csv('https://bit.ly/wine_csv_data')\n",
        "\n",
        "data = wine[['alcohol', 'sugar', 'pH']].to_numpy()\n",
        "target = wine['class'].to_numpy()\n",
        "\n",
        "from sklearn.model_selection import train_test_split\n",
        "#훈련세트와 테스트 세트를 나눔\n",
        "train_input, test_input, train_target, test_target = train_test_split(data, target, test_size=0.2, random_state=42) #20%\n",
        "# 원본데이터 6497개 20% = train(5197), test(1300)\n",
        "# 검증세트 20% 생성\n",
        "sub_input, val_input, sub_target, val_target = train_test_split(train_input, train_target, test_size=0.2, random_state=42)\n",
        "\n",
        "print(sub_input.shape, val_input.shape) # 원래 훈련세트 5,197 개 -> 4,157 / 검증세트  1,040개 생성\n",
        "print(train_input.shape, test_input.shape)"
      ],
      "metadata": {
        "colab": {
          "base_uri": "https://localhost:8080/"
        },
        "id": "0BxcswtDfdy6",
        "outputId": "9faf6b62-958a-43e2-f4f9-e8095c9fbd65"
      },
      "execution_count": 2,
      "outputs": [
        {
          "output_type": "stream",
          "name": "stdout",
          "text": [
            "(4157, 3) (1040, 3)\n",
            "(5197, 3) (1300, 3)\n"
          ]
        }
      ]
    },
    {
      "cell_type": "code",
      "source": [
        "# sub_input, val_input, sub_target, val_target을 사용해 모델을 만들고 평가함\n",
        "from sklearn.tree import DecisionTreeClassifier\n",
        "\n",
        "dt = DecisionTreeClassifier(random_state=42)\n",
        "dt.fit(sub_input, sub_target)   # 훈련\n",
        "\n",
        "print(dt.score(sub_input, sub_target))  # 출력 0.997 : 과대적합\n",
        "print(dt.score(val_input, val_target))  # 검증 0.864\n",
        "# 매개변수를 바꾸어 더 좋은 모델을 찾아야 함"
      ],
      "metadata": {
        "colab": {
          "base_uri": "https://localhost:8080/"
        },
        "id": "gdCeu6VPiTuJ",
        "outputId": "a53349eb-60cc-460e-d836-ed61ede7010e"
      },
      "execution_count": 3,
      "outputs": [
        {
          "output_type": "stream",
          "name": "stdout",
          "text": [
            "0.9971133028626413\n",
            "0.864423076923077\n"
          ]
        }
      ]
    },
    {
      "cell_type": "markdown",
      "source": [
        "### 교차검증\n",
        "->이미지"
      ],
      "metadata": {
        "id": "219p9PJ2j0kO"
      }
    },
    {
      "cell_type": "code",
      "source": [
        "# 검증세트를 만들기 위해 훈련세트가 줄었음(이럴 때 많은 데이터를 훈련하면 좋은 결과가 나옴)\n",
        "# 교차검증 : 검증세트를 떼어내어 평가하는 과정을 여러번 반복\n",
        "# [훈련세트, 훈련세트, 검증세트]\n",
        "# [훈련세트, 검증세트, 훈련세트]\n",
        "# [검증세트, 훈련세트, 훈련세트] -> 패리티 방식(3-폴드 교차 검증)\n",
        "# 5-폴드, 10폴드도 있음\n",
        "# 사이킷런에는 cross-validation() 이라는 교차검증 함수를 사용"
      ],
      "metadata": {
        "id": "GBQZNhfDjyFj"
      },
      "execution_count": null,
      "outputs": []
    },
    {
      "cell_type": "code",
      "source": [
        "from sklearn.model_selection import cross_validate\n",
        "# 평가할 모델 객체를 첫번째 매개변수로 전달(직접 검증세트를 떼지 않고 훈련세트 전체를 전달)\n",
        "scores = cross_validate(dt, train_input, train_target)\n",
        "# scores = cross_validate(dt, test_input, train_target, cv=5)\n",
        "# cv 매개변수를 이용해 폴드 수를 변경 : cv=5(기본값)\n",
        "\n",
        "print(scores)\n",
        "# fit_time(훈련시간), score_time(검증시간), test_score(최종점수) 키를 가진 딕셔너리를 반환\n",
        "# {'fit_time': array([0.03500152, 0.0531528 , 0.04666734, 0.03814721, 0.02323508]),\n",
        "# 'score_time': array([0.00220728, 0.02044535, 0.00211883, 0.00210214, 0.00575471]),\n",
        "# 'test_score': array([0.86923077, 0.84615385, 0.87680462, 0.84889317, 0.83541867])}"
      ],
      "metadata": {
        "colab": {
          "base_uri": "https://localhost:8080/"
        },
        "id": "oStfz6XOktxX",
        "outputId": "e3a6047b-0687-4c0e-f2e7-8a402327b05c"
      },
      "execution_count": 5,
      "outputs": [
        {
          "output_type": "stream",
          "name": "stdout",
          "text": [
            "{'fit_time': array([0.03500152, 0.0531528 , 0.04666734, 0.03814721, 0.02323508]), 'score_time': array([0.00220728, 0.02044535, 0.00211883, 0.00210214, 0.00575471]), 'test_score': array([0.86923077, 0.84615385, 0.87680462, 0.84889317, 0.83541867])}\n"
          ]
        }
      ]
    },
    {
      "cell_type": "code",
      "source": [
        "import numpy as np\n",
        "\n",
        "print(np.mean(scores['test_score']))    # test_score 검증폴드의 점수\n",
        "# 5개의 검증 점수를 평균을 내어 최종 점수를 얻는다. -> 85.53%"
      ],
      "metadata": {
        "colab": {
          "base_uri": "https://localhost:8080/"
        },
        "id": "GNWfVGX-mxHm",
        "outputId": "a4798392-5602-448c-a2eb-5a46c0d137aa"
      },
      "execution_count": 6,
      "outputs": [
        {
          "output_type": "stream",
          "name": "stdout",
          "text": [
            "0.855300214703487\n"
          ]
        }
      ]
    },
    {
      "cell_type": "markdown",
      "source": [
        "### 주의\n",
        "* cross_validate()는 훈련세트를 섞어서 폴드를 나누지 않음 -> 분할기 사용(splitter)\n",
        "* 앞서 우리는 train_test_split() 함수로 전체 데이터를 섞은 후 훈련세트를 준비했음\n",
        "* 만약 교차 검증을 할 때 훈련세트를 섞으려면 분할기(splitter)를 지정해야 한다.\n",
        "\n",
        "* 사이킷런의 분할기는 교차검증에서 폴드를 어떻게 나눌지를 결정함\n",
        "* cross_validate()는 기본적으로 회귀모델인 **KFold 분할기**를 사용함\n",
        "* 분류 모델일 경우 타깃 클래스를 골고루 나누기 위해서 STartfiedKFold를 사용"
      ],
      "metadata": {
        "id": "R4lkY9vXnmhI"
      }
    },
    {
      "cell_type": "code",
      "source": [
        "from sklearn.model_selection import StratifiedKFold\n",
        "\n",
        "scores = cross_validate(dt, train_input, train_target, cv =StratifiedKFold())\n",
        "print(np.mean(scores['test_score']))"
      ],
      "metadata": {
        "colab": {
          "base_uri": "https://localhost:8080/"
        },
        "id": "SeOyfuyNnkQc",
        "outputId": "0deacdba-d104-409f-b7f4-912be086ff91"
      },
      "execution_count": 7,
      "outputs": [
        {
          "output_type": "stream",
          "name": "stdout",
          "text": [
            "0.855300214703487\n"
          ]
        }
      ]
    },
    {
      "cell_type": "code",
      "source": [
        "splitter = StratifiedKFold(n_splits=10, shuffle=True, random_state=42)  # 10-폴드 교차검증 수행\n",
        "scores = cross_validate(dt, train_input, train_target, cv=splitter)\n",
        "print(np.mean(scores['test_score']))"
      ],
      "metadata": {
        "colab": {
          "base_uri": "https://localhost:8080/"
        },
        "id": "xgLKIrlQqyKL",
        "outputId": "fa6a6b29-e46a-4f65-bf7f-0c16815d999e"
      },
      "execution_count": 8,
      "outputs": [
        {
          "output_type": "stream",
          "name": "stdout",
          "text": [
            "0.8574181117533719\n"
          ]
        }
      ]
    }
  ]
}