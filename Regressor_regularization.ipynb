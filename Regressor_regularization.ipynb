{
  "nbformat": 4,
  "nbformat_minor": 0,
  "metadata": {
    "colab": {
      "provenance": [],
      "authorship_tag": "ABX9TyPXrUgLYMbNUgm3Qo/5PTkp",
      "include_colab_link": true
    },
    "kernelspec": {
      "name": "python3",
      "display_name": "Python 3"
    },
    "language_info": {
      "name": "python"
    }
  },
  "cells": [
    {
      "cell_type": "markdown",
      "metadata": {
        "id": "view-in-github",
        "colab_type": "text"
      },
      "source": [
        "<a href=\"https://colab.research.google.com/github/jsKim-prog/AIStudy24/blob/master/Regressor_regularization.ipynb\" target=\"_parent\"><img src=\"https://colab.research.google.com/assets/colab-badge.svg\" alt=\"Open In Colab\"/></a>"
      ]
    },
    {
      "cell_type": "code",
      "source": [
        "!sudo apt-get install -y fonts-nanum\n",
        "!sudo fc-cache -fv\n",
        "!rm ~/.cache/matplotlib -rf"
      ],
      "metadata": {
        "colab": {
          "base_uri": "https://localhost:8080/"
        },
        "id": "sPU_50FbIt7v",
        "outputId": "428fab5a-6e12-41c3-f976-d43833e981a2"
      },
      "execution_count": 21,
      "outputs": [
        {
          "output_type": "stream",
          "name": "stdout",
          "text": [
            "Reading package lists... Done\n",
            "Building dependency tree... Done\n",
            "Reading state information... Done\n",
            "The following NEW packages will be installed:\n",
            "  fonts-nanum\n",
            "0 upgraded, 1 newly installed, 0 to remove and 49 not upgraded.\n",
            "Need to get 10.3 MB of archives.\n",
            "After this operation, 34.1 MB of additional disk space will be used.\n",
            "Get:1 http://archive.ubuntu.com/ubuntu jammy/universe amd64 fonts-nanum all 20200506-1 [10.3 MB]\n",
            "Fetched 10.3 MB in 2s (6,081 kB/s)\n",
            "debconf: unable to initialize frontend: Dialog\n",
            "debconf: (No usable dialog-like program is installed, so the dialog based frontend cannot be used. at /usr/share/perl5/Debconf/FrontEnd/Dialog.pm line 78, <> line 1.)\n",
            "debconf: falling back to frontend: Readline\n",
            "debconf: unable to initialize frontend: Readline\n",
            "debconf: (This frontend requires a controlling tty.)\n",
            "debconf: falling back to frontend: Teletype\n",
            "dpkg-preconfigure: unable to re-open stdin: \n",
            "Selecting previously unselected package fonts-nanum.\n",
            "(Reading database ... 123634 files and directories currently installed.)\n",
            "Preparing to unpack .../fonts-nanum_20200506-1_all.deb ...\n",
            "Unpacking fonts-nanum (20200506-1) ...\n",
            "Setting up fonts-nanum (20200506-1) ...\n",
            "Processing triggers for fontconfig (2.13.1-4.2ubuntu5) ...\n",
            "/usr/share/fonts: caching, new cache contents: 0 fonts, 1 dirs\n",
            "/usr/share/fonts/truetype: caching, new cache contents: 0 fonts, 3 dirs\n",
            "/usr/share/fonts/truetype/humor-sans: caching, new cache contents: 1 fonts, 0 dirs\n",
            "/usr/share/fonts/truetype/liberation: caching, new cache contents: 16 fonts, 0 dirs\n",
            "/usr/share/fonts/truetype/nanum: caching, new cache contents: 12 fonts, 0 dirs\n",
            "/usr/local/share/fonts: caching, new cache contents: 0 fonts, 0 dirs\n",
            "/root/.local/share/fonts: skipping, no such directory\n",
            "/root/.fonts: skipping, no such directory\n",
            "/usr/share/fonts/truetype: skipping, looped directory detected\n",
            "/usr/share/fonts/truetype/humor-sans: skipping, looped directory detected\n",
            "/usr/share/fonts/truetype/liberation: skipping, looped directory detected\n",
            "/usr/share/fonts/truetype/nanum: skipping, looped directory detected\n",
            "/var/cache/fontconfig: cleaning cache directory\n",
            "/root/.cache/fontconfig: not cleaning non-existent cache directory\n",
            "/root/.fontconfig: not cleaning non-existent cache directory\n",
            "fc-cache: succeeded\n"
          ]
        }
      ]
    },
    {
      "cell_type": "code",
      "source": [
        "# perch_full.csv : 길이, 높이, 두께 56 개 -> input\n",
        "# perch_weight.csv : 무게 -> target\n",
        "\n",
        "# csv 가져오기 : pandas\n",
        "import pandas as pd\n",
        "\n",
        "df = pd.read_csv('/content/perch_full.csv')   # 세선 저장소 업로드 시 부모경로(../) 붙여주기\n",
        "perch_full = df.to_numpy()  # 배열로\n",
        "print(perch_full[:5])\n",
        "print(perch_full.shape)"
      ],
      "metadata": {
        "colab": {
          "base_uri": "https://localhost:8080/"
        },
        "id": "31L0LGLpMOvl",
        "outputId": "9ebc981a-c06b-4de5-9bb5-eb40d2558436"
      },
      "execution_count": 3,
      "outputs": [
        {
          "output_type": "stream",
          "name": "stdout",
          "text": [
            "[[ 8.4   2.11  1.41]\n",
            " [13.7   3.53  2.  ]\n",
            " [15.    3.82  2.43]\n",
            " [16.2   4.59  2.63]\n",
            " [17.4   4.59  2.94]]\n",
            "(56, 3)\n"
          ]
        }
      ]
    },
    {
      "cell_type": "code",
      "source": [
        "df = pd.read_csv('/content/perch_weight.csv')\n",
        "perch_weight = df.to_numpy()\n",
        "print(perch_weight[:5])\n",
        "print(perch_weight.shape)"
      ],
      "metadata": {
        "colab": {
          "base_uri": "https://localhost:8080/"
        },
        "id": "YKcGeITGNe2y",
        "outputId": "281b4967-e2fc-4621-b552-8411723febbf"
      },
      "execution_count": 4,
      "outputs": [
        {
          "output_type": "stream",
          "name": "stdout",
          "text": [
            "[[ 5.9]\n",
            " [32. ]\n",
            " [40. ]\n",
            " [51.5]\n",
            " [70. ]]\n",
            "(56, 1)\n"
          ]
        }
      ]
    },
    {
      "cell_type": "code",
      "source": [
        "# 훈련세트와 테스트세트 나누기\n",
        "from sklearn.model_selection import train_test_split\n",
        "\n",
        "tr_input, ts_input, tr_target, ts_target = train_test_split(perch_full, perch_weight)\n",
        "\n",
        "print(tr_input.shape, ts_input.shape)   # -> perch_full에서 나뉘어짐\n",
        "print(tr_target.shape, ts_target.shape) # -> perch_weight에서 나뉘어짐"
      ],
      "metadata": {
        "colab": {
          "base_uri": "https://localhost:8080/"
        },
        "id": "odDWPKBfN7JW",
        "outputId": "b8719641-4ad4-4ee2-9f3e-2d5e20b84549"
      },
      "execution_count": 5,
      "outputs": [
        {
          "output_type": "stream",
          "name": "stdout",
          "text": [
            "(42, 3) (14, 3)\n",
            "(42, 1) (14, 1)\n"
          ]
        }
      ]
    },
    {
      "cell_type": "code",
      "source": [
        "# 사이킷런 변환기로 특성 적용\n",
        "from sklearn.preprocessing import PolynomialFeatures    # Polynomial : 다항\n",
        "\n",
        "poly = PolynomialFeatures(include_bias=False)\n",
        "poly.fit(tr_input)  # 훈련먼저\n",
        "train_poly = poly.transform(tr_input)   # 특성적용하여 변환\n",
        "test_poly = poly.transform(ts_input)\n",
        "print(train_poly.shape, test_poly.shape)"
      ],
      "metadata": {
        "id": "A8Zp5lIEO1T9",
        "colab": {
          "base_uri": "https://localhost:8080/"
        },
        "outputId": "b3c31a1b-e900-460d-bca6-e3ed7243fa54"
      },
      "execution_count": 6,
      "outputs": [
        {
          "output_type": "stream",
          "name": "stdout",
          "text": [
            "(42, 9) (14, 9)\n"
          ]
        }
      ]
    },
    {
      "cell_type": "code",
      "source": [
        "poly.get_feature_names_out()    # 특성 알아내기"
      ],
      "metadata": {
        "colab": {
          "base_uri": "https://localhost:8080/"
        },
        "id": "btW62Nk0kWn9",
        "outputId": "d57d8357-cb40-4c60-dc69-37e294b6107f"
      },
      "execution_count": 13,
      "outputs": [
        {
          "output_type": "execute_result",
          "data": {
            "text/plain": [
              "array(['x0', 'x1', 'x2', 'x0^2', 'x0 x1', 'x0 x2', 'x1^2', 'x1 x2',\n",
              "       'x2^2'], dtype=object)"
            ]
          },
          "metadata": {},
          "execution_count": 13
        }
      ]
    },
    {
      "cell_type": "code",
      "source": [
        "# 훈련시키고 평가결과 보기\n",
        "from sklearn.linear_model import LinearRegression   # 선형회귀 모델\n",
        "lr = LinearRegression()\n",
        "lr.fit(train_poly, tr_target)\n",
        "\n",
        "print(lr.score(train_poly, tr_target))\n",
        "print(lr.score(test_poly, ts_target))\n",
        "# 과소적합 : test가 약간 더 높게 나옴"
      ],
      "metadata": {
        "colab": {
          "base_uri": "https://localhost:8080/"
        },
        "id": "e5ydd_OSkkqD",
        "outputId": "88ba60e0-2e85-455b-ded9-bc41358b37a2"
      },
      "execution_count": 7,
      "outputs": [
        {
          "output_type": "stream",
          "name": "stdout",
          "text": [
            "0.9934456001907315\n",
            "0.9589380858893807\n"
          ]
        }
      ]
    },
    {
      "cell_type": "code",
      "source": [
        "# 특성 개수에 따라 평가결과는???\n",
        "import numpy as np\n",
        "\n",
        "train_scores=[]\n",
        "test_scores=[]\n",
        "\n",
        "degrees = np.arange(2, 6)   #[2, 3, 4, 5]\n",
        "#print(degrees)\n",
        "\n",
        "for dg in degrees:\n",
        "    poly = PolynomialFeatures(degree=dg, include_bias=False)    # 특성 조합 변경\n",
        "    poly.fit(tr_input)\n",
        "    tr_poly = poly.transform(tr_input)  # 특성적용한 변환\n",
        "    ts_poly = poly.transform(ts_input)\n",
        "    # 훈련\n",
        "    lr = LinearRegression()\n",
        "    lr.fit(tr_poly, tr_target)\n",
        "    train_scores.append(lr.score(tr_poly, tr_target))\n",
        "    test_scores.append(lr.score(ts_poly, ts_target))\n",
        "\n",
        "print(train_scores)\n",
        "print(test_scores)"
      ],
      "metadata": {
        "colab": {
          "base_uri": "https://localhost:8080/"
        },
        "id": "cMPk9bVvBf3E",
        "outputId": "3aa78fa7-c99d-4b41-dbce-d8c8465bcd08"
      },
      "execution_count": 8,
      "outputs": [
        {
          "output_type": "stream",
          "name": "stdout",
          "text": [
            "[0.9934456001907315, 0.9975175852373542, 0.9998574737728704, 0.9999999999999825]\n",
            "[0.9589380858893807, 0.944008807878406, -1.4624510671931805, -302.2867954009156]\n"
          ]
        }
      ]
    },
    {
      "cell_type": "code",
      "source": [
        "# 결과 그래프화\n",
        "import matplotlib.pyplot as plt\n",
        "\n",
        "plt.plot(degrees, train_scores)\n",
        "plt.plot(degrees, test_scores)\n",
        "plt.ylim(0, 1)\n",
        "plt.xlabel('degree')\n",
        "plt.ylabel('score')\n",
        "plt.show()"
      ],
      "metadata": {
        "colab": {
          "base_uri": "https://localhost:8080/",
          "height": 455
        },
        "id": "Ap7o0SP0ErfP",
        "outputId": "b96cf6a1-d87b-4561-8596-c1a2d3c741bc"
      },
      "execution_count": 9,
      "outputs": [
        {
          "output_type": "display_data",
          "data": {
            "text/plain": [
              "<Figure size 640x480 with 1 Axes>"
            ],
            "image/png": "[encoded data removed]"
          },
          "metadata": {}
        }
      ]
    },
    {
      "cell_type": "code",
      "source": [
        "# 특성이 많아지면 결과는 정확해지나 평가 결과가 좋지 않다.(과대적합)\n",
        "# 정규화를 통해 과대적합 방지\n",
        "# 정규화 이전 degree = 5로  훈련세트 설정(tr_poly, ts_poly)\n",
        "\n",
        "poly = PolynomialFeatures(degree=5, include_bias=False)\n",
        "poly.fit(tr_input)\n",
        "tr_poly = poly.transform(tr_input)\n",
        "ts_poly = poly.transform(ts_input)\n",
        "\n",
        "poly.get_feature_names_out()"
      ],
      "metadata": {
        "colab": {
          "base_uri": "https://localhost:8080/"
        },
        "id": "q3yQfqOTOkL8",
        "outputId": "75cb161f-0c8b-4df5-983a-7f5046fb8d9c"
      },
      "execution_count": 10,
      "outputs": [
        {
          "output_type": "execute_result",
          "data": {
            "text/plain": [
              "array(['x0', 'x1', 'x2', 'x0^2', 'x0 x1', 'x0 x2', 'x1^2', 'x1 x2',\n",
              "       'x2^2', 'x0^3', 'x0^2 x1', 'x0^2 x2', 'x0 x1^2', 'x0 x1 x2',\n",
              "       'x0 x2^2', 'x1^3', 'x1^2 x2', 'x1 x2^2', 'x2^3', 'x0^4', 'x0^3 x1',\n",
              "       'x0^3 x2', 'x0^2 x1^2', 'x0^2 x1 x2', 'x0^2 x2^2', 'x0 x1^3',\n",
              "       'x0 x1^2 x2', 'x0 x1 x2^2', 'x0 x2^3', 'x1^4', 'x1^3 x2',\n",
              "       'x1^2 x2^2', 'x1 x2^3', 'x2^4', 'x0^5', 'x0^4 x1', 'x0^4 x2',\n",
              "       'x0^3 x1^2', 'x0^3 x1 x2', 'x0^3 x2^2', 'x0^2 x1^3',\n",
              "       'x0^2 x1^2 x2', 'x0^2 x1 x2^2', 'x0^2 x2^3', 'x0 x1^4',\n",
              "       'x0 x1^3 x2', 'x0 x1^2 x2^2', 'x0 x1 x2^3', 'x0 x2^4', 'x1^5',\n",
              "       'x1^4 x2', 'x1^3 x2^2', 'x1^2 x2^3', 'x1 x2^4', 'x2^5'],\n",
              "      dtype=object)"
            ]
          },
          "metadata": {},
          "execution_count": 10
        }
      ]
    },
    {
      "cell_type": "markdown",
      "source": [
        "## 정규화\n",
        "* 특징의 영향을 줄여 과적합 방지\n",
        "* 특징에 곱해지는 w를 줄임 -> 모델을 심플하게 만들고 특징을 줄인다.\n",
        "\n",
        "## 정규화 방식\n",
        "* L1 정규화(Lasso)\n",
        "* L2 정규화(Ridge)\n",
        "\n"
      ],
      "metadata": {
        "id": "C8ussOFFJKI9"
      }
    },
    {
      "cell_type": "code",
      "source": [
        "# 먼저 훈련세트를 표준점수화(스케일 조정)\n",
        "from sklearn.preprocessing import StandardScaler\n",
        "ss = StandardScaler()\n",
        "ss.fit(tr_poly)\n",
        "\n",
        "tr_scaled = ss.transform(tr_poly)\n",
        "ts_scaled = ss.transform(ts_poly)\n",
        "\n",
        "print(tr_scaled.shape, ts_scaled.shape) # 55개의 특성이 적용됨\n",
        "print(tr_scaled[0])"
      ],
      "metadata": {
        "colab": {
          "base_uri": "https://localhost:8080/"
        },
        "id": "GiHaw09VITNb",
        "outputId": "5507304e-1abe-4ffe-fc19-78d0aa3049a5"
      },
      "execution_count": 11,
      "outputs": [
        {
          "output_type": "stream",
          "name": "stdout",
          "text": [
            "(42, 55) (14, 55)\n",
            "[-1.19241622 -1.15934994 -1.02425054 -1.06973286 -1.04521989 -0.99640184\n",
            " -1.01731866 -0.97214451 -0.92346089 -0.93843062 -0.92200495 -0.90130619\n",
            " -0.90467497 -0.88494147 -0.86263941 -0.88622163 -0.86726759 -0.84564307\n",
            " -0.82144112 -0.82692084 -0.81753597 -0.80817212 -0.80784723 -0.79887956\n",
            " -0.78791537 -0.79749115 -0.78883921 -0.77807914 -0.76507876 -0.78610152\n",
            " -0.77765935 -0.76697766 -0.75392393 -0.73847913 -0.73905466 -0.73488077\n",
            " -0.73042787 -0.73057447 -0.72639677 -0.72062163 -0.7258157  -0.72188768\n",
            " -0.71627069 -0.70880365 -0.72027067 -0.7165429  -0.71101471 -0.70351554\n",
            " -0.69395142 -0.71360542 -0.71000335 -0.70446931 -0.69682486 -0.6869784\n",
            " -0.67494022]\n"
          ]
        }
      ]
    },
    {
      "cell_type": "code",
      "source": [
        "# L2 정규화 : Ridge\n",
        "from sklearn.linear_model import Ridge\n",
        "\n",
        "l2 = Ridge()\n",
        "l2.fit(tr_scaled, tr_target)\n",
        "ridge_score=[]\n",
        "ridge_score.append(l2.score(tr_scaled, tr_target))\n",
        "ridge_score.append(l2.score(ts_scaled, ts_target))"
      ],
      "metadata": {
        "id": "Nd4Gu9GCQRhw"
      },
      "execution_count": 12,
      "outputs": []
    },
    {
      "cell_type": "code",
      "source": [
        "# L1 정규화 : Lasso\n",
        "from sklearn.linear_model import Lasso\n",
        "\n",
        "l1 = Lasso()\n",
        "l1.fit(tr_scaled, tr_target)\n",
        "\n",
        "lasso_score=[]\n",
        "lasso_score.append(l1.score(tr_scaled, tr_target))\n",
        "lasso_score.append(l1.score(ts_scaled, ts_target))"
      ],
      "metadata": {
        "id": "_LURKhjBRkJo"
      },
      "execution_count": 13,
      "outputs": []
    },
    {
      "cell_type": "code",
      "source": [
        "plt.rc('font', family = 'NanumBarunGothic')\n",
        "xlist = ['train', 'test']\n",
        "plt.plot(xlist, ridge_score)\n",
        "plt.plot(xlist, lasso_score)\n",
        "plt.xlabel('훈련데이터')\n",
        "plt.ylabel('훈련결과')\n",
        "print(f\"Ridge : {ridge_score[0]:.1%} / {ridge_score[1]:.1%}\")\n",
        "print(f\"Lasso : {lasso_score[0]:.1%} / {lasso_score[1]:.1%}\")"
      ],
      "metadata": {
        "colab": {
          "base_uri": "https://localhost:8080/",
          "height": 485
        },
        "id": "ifgHGBK5SGb6",
        "outputId": "c8695134-5e67-4a6f-836a-290a8cbc7a0d"
      },
      "execution_count": 14,
      "outputs": [
        {
          "output_type": "stream",
          "name": "stdout",
          "text": [
            "Ridge : 99.1% / 97.8%\n",
            "Lasso : 99.0% / 97.7%\n"
          ]
        },
        {
          "output_type": "display_data",
          "data": {
            "text/plain": [
              "<Figure size 640x480 with 1 Axes>"
            ],
            "image/png": "[encoded data removed]"
          },
          "metadata": {}
        }
      ]
    },
    {
      "cell_type": "code",
      "source": [
        "# L1, L2 정규화 자체의 차이는 크게 없음\n",
        "# 각 규제의 강도 조절 : alpha\n",
        "\n",
        "alpha_list = [0.001, 0.01, 0.1, 1, 10, 100] # 10배씩 증가\n",
        "r_tr_scores = []    # 훈련점수 담을 리스트(릿지)\n",
        "r_ts_scores = []    # 테스트 점수 담을 리스트(릿지)\n",
        "ls_tr_score = []    # 훈련점수 담을 리스트(라쏘)\n",
        "ls_ts_score = []    # 테스트 점수 담을 리스트(라쏘)"
      ],
      "metadata": {
        "id": "AtvumkMuVFMX"
      },
      "execution_count": 15,
      "outputs": []
    },
    {
      "cell_type": "code",
      "source": [
        "for ap in alpha_list:\n",
        "    ridge = Ridge(alpha=ap)\n",
        "    ridge.fit(tr_scaled, tr_target)\n",
        "    r_tr_scores.append(ridge.score(tr_scaled, tr_target))\n",
        "    r_ts_scores.append(ridge.score(ts_scaled, ts_target))"
      ],
      "metadata": {
        "id": "XM-R4AfEW6EM"
      },
      "execution_count": 16,
      "outputs": []
    },
    {
      "cell_type": "code",
      "source": [
        "for ap in alpha_list:\n",
        "    lasso = Lasso(alpha=ap, max_iter=10000)\n",
        "    lasso.fit(tr_scaled, tr_target)\n",
        "    ls_tr_score.append(lasso.score(tr_scaled, tr_target))\n",
        "    ls_ts_score.append(lasso.score(ts_scaled, ts_target))"
      ],
      "metadata": {
        "colab": {
          "base_uri": "https://localhost:8080/"
        },
        "id": "mB7TEbqJXizZ",
        "outputId": "a39b21fb-9ecd-424e-a509-6e481f72697e"
      },
      "execution_count": 17,
      "outputs": [
        {
          "output_type": "stream",
          "name": "stderr",
          "text": [
            "/usr/local/lib/python3.10/dist-packages/sklearn/linear_model/_coordinate_descent.py:695: ConvergenceWarning: Objective did not converge. You might want to increase the number of iterations, check the scale of the features or consider increasing regularisation. Duality gap: 8.062e+03, tolerance: 4.533e+02\n",
            "  model = cd_fast.enet_coordinate_descent(\n",
            "/usr/local/lib/python3.10/dist-packages/sklearn/linear_model/_coordinate_descent.py:695: ConvergenceWarning: Objective did not converge. You might want to increase the number of iterations, check the scale of the features or consider increasing regularisation. Duality gap: 7.093e+03, tolerance: 4.533e+02\n",
            "  model = cd_fast.enet_coordinate_descent(\n",
            "/usr/local/lib/python3.10/dist-packages/sklearn/linear_model/_coordinate_descent.py:695: ConvergenceWarning: Objective did not converge. You might want to increase the number of iterations, check the scale of the features or consider increasing regularisation. Duality gap: 7.983e+02, tolerance: 4.533e+02\n",
            "  model = cd_fast.enet_coordinate_descent(\n"
          ]
        }
      ]
    },
    {
      "cell_type": "code",
      "source": [
        "# 결과보기\n",
        "plt.plot(alpha_list, r_tr_scores, c=\"b\")\n",
        "plt.plot(alpha_list, r_ts_scores, c=\"g\")\n",
        "\n",
        "plt.xlabel('alpha')\n",
        "plt.ylabel('score')\n",
        "plt.show()"
      ],
      "metadata": {
        "colab": {
          "base_uri": "https://localhost:8080/",
          "height": 452
        },
        "id": "O2lv45rTXyIn",
        "outputId": "4a187081-119a-4ab3-9b89-a24dcbb82c1b"
      },
      "execution_count": 18,
      "outputs": [
        {
          "output_type": "display_data",
          "data": {
            "text/plain": [
              "<Figure size 640x480 with 1 Axes>"
            ],
            "image/png": "[encoded data removed]"
          },
          "metadata": {}
        }
      ]
    },
    {
      "cell_type": "code",
      "source": [
        "plt.plot(alpha_list, ls_tr_score, c=\"r\")\n",
        "plt.plot(alpha_list, ls_ts_score, c=\"m\")\n",
        "plt.xlabel('alpha')\n",
        "plt.ylabel('score')\n",
        "plt.show()"
      ],
      "metadata": {
        "colab": {
          "base_uri": "https://localhost:8080/",
          "height": 449
        },
        "id": "8a71Z4tOY3NG",
        "outputId": "239fa96b-f6c9-4689-e242-0fd3ed5f5695"
      },
      "execution_count": 19,
      "outputs": [
        {
          "output_type": "display_data",
          "data": {
            "text/plain": [
              "<Figure size 640x480 with 1 Axes>"
            ],
            "image/png": "[encoded data removed]"
          },
          "metadata": {}
        }
      ]
    },
    {
      "cell_type": "code",
      "source": [
        "# alpha = 0.01 적용하여 훈련, 점수 출력\n",
        "ridge = Ridge(alpha=0.01)\n",
        "ridge.fit(tr_scaled, tr_target)\n",
        "print(ridge.score(tr_scaled, tr_target))\n",
        "print(ridge.score(ts_scaled, ts_target))\n"
      ],
      "metadata": {
        "colab": {
          "base_uri": "https://localhost:8080/"
        },
        "id": "9pvQH2Np4sN2",
        "outputId": "4bfbcb02-9cba-49f7-be26-942be5edfdf4"
      },
      "execution_count": 20,
      "outputs": [
        {
          "output_type": "stream",
          "name": "stdout",
          "text": [
            "0.9952739953427335\n",
            "0.9740712384784922\n"
          ]
        }
      ]
    },
    {
      "cell_type": "code",
      "source": [
        "lasso = Lasso(alpha=0.01, max_iter=10000)\n",
        "lasso.fit(tr_scaled, tr_target)\n",
        "print(lasso.score(tr_scaled, tr_target))\n",
        "print(lasso.score(ts_scaled, ts_target))"
      ],
      "metadata": {
        "colab": {
          "base_uri": "https://localhost:8080/"
        },
        "id": "hytRAb8m5CnV",
        "outputId": "75bc1c96-8ba0-49c8-8be6-c4a716978d04"
      },
      "execution_count": 21,
      "outputs": [
        {
          "output_type": "stream",
          "name": "stdout",
          "text": [
            "0.995969134834452\n",
            "0.9596004848177184\n"
          ]
        },
        {
          "output_type": "stream",
          "name": "stderr",
          "text": [
            "/usr/local/lib/python3.10/dist-packages/sklearn/linear_model/_coordinate_descent.py:695: ConvergenceWarning: Objective did not converge. You might want to increase the number of iterations, check the scale of the features or consider increasing regularisation. Duality gap: 7.093e+03, tolerance: 4.533e+02\n",
            "  model = cd_fast.enet_coordinate_descent(\n"
          ]
        }
      ]
    }
  ]
}