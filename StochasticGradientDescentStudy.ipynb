{
  "nbformat": 4,
  "nbformat_minor": 0,
  "metadata": {
    "colab": {
      "provenance": [],
      "authorship_tag": "ABX9TyPV1spMwotfzjGUrkNn5OfN",
      "include_colab_link": true
    },
    "kernelspec": {
      "name": "python3",
      "display_name": "Python 3"
    },
    "language_info": {
      "name": "python"
    }
  },
  "cells": [
    {
      "cell_type": "markdown",
      "metadata": {
        "id": "view-in-github",
        "colab_type": "text"
      },
      "source": [
        "<a href=\"https://colab.research.google.com/github/jsKim-prog/AIStudy24/blob/master/StochasticGradientDescentStudy.ipynb\" target=\"_parent\"><img src=\"https://colab.research.google.com/assets/colab-badge.svg\" alt=\"Open In Colab\"/></a>"
      ]
    },
    {
      "cell_type": "markdown",
      "source": [
        "## 데이터 전처리"
      ],
      "metadata": {
        "id": "vaQmD74HwTj3"
      }
    },
    {
      "cell_type": "code",
      "execution_count": null,
      "metadata": {
        "colab": {
          "base_uri": "https://localhost:8080/",
          "height": 363
        },
        "id": "kMNG90Fjuho5",
        "outputId": "163854c4-15e1-4b9f-8503-cdcdfa04af3e"
      },
      "outputs": [
        {
          "output_type": "execute_result",
          "data": {
            "text/plain": [
              "  Species  Weight  Length  Diagonal   Height   Width\n",
              "0   Bream   242.0    25.4      30.0  11.5200  4.0200\n",
              "1   Bream   290.0    26.3      31.2  12.4800  4.3056\n",
              "2   Bream   340.0    26.5      31.1  12.3778  4.6961\n",
              "3   Bream   363.0    29.0      33.5  12.7300  4.4555\n",
              "4   Bream   430.0    29.0      34.0  12.4440  5.1340\n",
              "5   Bream   450.0    29.7      34.7  13.6024  4.9274\n",
              "6   Bream   500.0    29.7      34.5  14.1795  5.2785\n",
              "7   Bream   390.0    30.0      35.0  12.6700  4.6900\n",
              "8   Bream   450.0    30.0      35.1  14.0049  4.8438\n",
              "9   Bream   500.0    30.7      36.2  14.2266  4.9594"
            ],
            "text/html": [
              "\n",
              "  <div id=\"df-05db1516-fe38-4c4e-8aab-04d502dfb022\" class=\"colab-df-container\">\n",
              "    <div>\n",
              "<style scoped>\n",
              "    .dataframe tbody tr th:only-of-type {\n",
              "        vertical-align: middle;\n",
              "    }\n",
              "\n",
              "    .dataframe tbody tr th {\n",
              "        vertical-align: top;\n",
              "    }\n",
              "\n",
              "    .dataframe thead th {\n",
              "        text-align: right;\n",
              "    }\n",
              "</style>\n",
              "<table border=\"1\" class=\"dataframe\">\n",
              "  <thead>\n",
              "    <tr style=\"text-align: right;\">\n",
              "      <th></th>\n",
              "      <th>Species</th>\n",
              "      <th>Weight</th>\n",
              "      <th>Length</th>\n",
              "      <th>Diagonal</th>\n",
              "      <th>Height</th>\n",
              "      <th>Width</th>\n",
              "    </tr>\n",
              "  </thead>\n",
              "  <tbody>\n",
              "    <tr>\n",
              "      <th>0</th>\n",
              "      <td>Bream</td>\n",
              "      <td>242.0</td>\n",
              "      <td>25.4</td>\n",
              "      <td>30.0</td>\n",
              "      <td>11.5200</td>\n",
              "      <td>4.0200</td>\n",
              "    </tr>\n",
              "    <tr>\n",
              "      <th>1</th>\n",
              "      <td>Bream</td>\n",
              "      <td>290.0</td>\n",
              "      <td>26.3</td>\n",
              "      <td>31.2</td>\n",
              "      <td>12.4800</td>\n",
              "      <td>4.3056</td>\n",
              "    </tr>\n",
              "    <tr>\n",
              "      <th>2</th>\n",
              "      <td>Bream</td>\n",
              "      <td>340.0</td>\n",
              "      <td>26.5</td>\n",
              "      <td>31.1</td>\n",
              "      <td>12.3778</td>\n",
              "      <td>4.6961</td>\n",
              "    </tr>\n",
              "    <tr>\n",
              "      <th>3</th>\n",
              "      <td>Bream</td>\n",
              "      <td>363.0</td>\n",
              "      <td>29.0</td>\n",
              "      <td>33.5</td>\n",
              "      <td>12.7300</td>\n",
              "      <td>4.4555</td>\n",
              "    </tr>\n",
              "    <tr>\n",
              "      <th>4</th>\n",
              "      <td>Bream</td>\n",
              "      <td>430.0</td>\n",
              "      <td>29.0</td>\n",
              "      <td>34.0</td>\n",
              "      <td>12.4440</td>\n",
              "      <td>5.1340</td>\n",
              "    </tr>\n",
              "    <tr>\n",
              "      <th>5</th>\n",
              "      <td>Bream</td>\n",
              "      <td>450.0</td>\n",
              "      <td>29.7</td>\n",
              "      <td>34.7</td>\n",
              "      <td>13.6024</td>\n",
              "      <td>4.9274</td>\n",
              "    </tr>\n",
              "    <tr>\n",
              "      <th>6</th>\n",
              "      <td>Bream</td>\n",
              "      <td>500.0</td>\n",
              "      <td>29.7</td>\n",
              "      <td>34.5</td>\n",
              "      <td>14.1795</td>\n",
              "      <td>5.2785</td>\n",
              "    </tr>\n",
              "    <tr>\n",
              "      <th>7</th>\n",
              "      <td>Bream</td>\n",
              "      <td>390.0</td>\n",
              "      <td>30.0</td>\n",
              "      <td>35.0</td>\n",
              "      <td>12.6700</td>\n",
              "      <td>4.6900</td>\n",
              "    </tr>\n",
              "    <tr>\n",
              "      <th>8</th>\n",
              "      <td>Bream</td>\n",
              "      <td>450.0</td>\n",
              "      <td>30.0</td>\n",
              "      <td>35.1</td>\n",
              "      <td>14.0049</td>\n",
              "      <td>4.8438</td>\n",
              "    </tr>\n",
              "    <tr>\n",
              "      <th>9</th>\n",
              "      <td>Bream</td>\n",
              "      <td>500.0</td>\n",
              "      <td>30.7</td>\n",
              "      <td>36.2</td>\n",
              "      <td>14.2266</td>\n",
              "      <td>4.9594</td>\n",
              "    </tr>\n",
              "  </tbody>\n",
              "</table>\n",
              "</div>\n",
              "    <div class=\"colab-df-buttons\">\n",
              "\n",
              "  <div class=\"colab-df-container\">\n",
              "    <button class=\"colab-df-convert\" onclick=\"convertToInteractive('df-05db1516-fe38-4c4e-8aab-04d502dfb022')\"\n",
              "            title=\"Convert this dataframe to an interactive table.\"\n",
              "            style=\"display:none;\">\n",
              "\n",
              "  <svg xmlns=\"http://www.w3.org/2000/svg\" height=\"24px\" viewBox=\"0 -960 960 960\">\n",
              "    <path d=\"M120-120v-720h720v720H120Zm60-500h600v-160H180v160Zm220 220h160v-160H400v160Zm0 220h160v-160H400v160ZM180-400h160v-160H180v160Zm440 0h160v-160H620v160ZM180-180h160v-160H180v160Zm440 0h160v-160H620v160Z\"/>\n",
              "  </svg>\n",
              "    </button>\n",
              "\n",
              "  <style>\n",
              "    .colab-df-container {\n",
              "      display:flex;\n",
              "      gap: 12px;\n",
              "    }\n",
              "\n",
              "    .colab-df-convert {\n",
              "      background-color: #E8F0FE;\n",
              "      border: none;\n",
              "      border-radius: 50%;\n",
              "      cursor: pointer;\n",
              "      display: none;\n",
              "      fill: #1967D2;\n",
              "      height: 32px;\n",
              "      padding: 0 0 0 0;\n",
              "      width: 32px;\n",
              "    }\n",
              "\n",
              "    .colab-df-convert:hover {\n",
              "      background-color: #E2EBFA;\n",
              "      box-shadow: 0px 1px 2px rgba(60, 64, 67, 0.3), 0px 1px 3px 1px rgba(60, 64, 67, 0.15);\n",
              "      fill: #174EA6;\n",
              "    }\n",
              "\n",
              "    .colab-df-buttons div {\n",
              "      margin-bottom: 4px;\n",
              "    }\n",
              "\n",
              "    [theme=dark] .colab-df-convert {\n",
              "      background-color: #3B4455;\n",
              "      fill: #D2E3FC;\n",
              "    }\n",
              "\n",
              "    [theme=dark] .colab-df-convert:hover {\n",
              "      background-color: #434B5C;\n",
              "      box-shadow: 0px 1px 3px 1px rgba(0, 0, 0, 0.15);\n",
              "      filter: drop-shadow(0px 1px 2px rgba(0, 0, 0, 0.3));\n",
              "      fill: #FFFFFF;\n",
              "    }\n",
              "  </style>\n",
              "\n",
              "    <script>\n",
              "      const buttonEl =\n",
              "        document.querySelector('#df-05db1516-fe38-4c4e-8aab-04d502dfb022 button.colab-df-convert');\n",
              "      buttonEl.style.display =\n",
              "        google.colab.kernel.accessAllowed ? 'block' : 'none';\n",
              "\n",
              "      async function convertToInteractive(key) {\n",
              "        const element = document.querySelector('#df-05db1516-fe38-4c4e-8aab-04d502dfb022');\n",
              "        const dataTable =\n",
              "          await google.colab.kernel.invokeFunction('convertToInteractive',\n",
              "                                                    [key], {});\n",
              "        if (!dataTable) return;\n",
              "\n",
              "        const docLinkHtml = 'Like what you see? Visit the ' +\n",
              "          '<a target=\"_blank\" href=https://colab.research.google.com/notebooks/data_table.ipynb>data table notebook</a>'\n",
              "          + ' to learn more about interactive tables.';\n",
              "        element.innerHTML = '';\n",
              "        dataTable['output_type'] = 'display_data';\n",
              "        await google.colab.output.renderOutput(dataTable, element);\n",
              "        const docLink = document.createElement('div');\n",
              "        docLink.innerHTML = docLinkHtml;\n",
              "        element.appendChild(docLink);\n",
              "      }\n",
              "    </script>\n",
              "  </div>\n",
              "\n",
              "\n",
              "<div id=\"df-57bdf33a-d77f-4806-88e6-07a1a340d06a\">\n",
              "  <button class=\"colab-df-quickchart\" onclick=\"quickchart('df-57bdf33a-d77f-4806-88e6-07a1a340d06a')\"\n",
              "            title=\"Suggest charts\"\n",
              "            style=\"display:none;\">\n",
              "\n",
              "<svg xmlns=\"http://www.w3.org/2000/svg\" height=\"24px\"viewBox=\"0 0 24 24\"\n",
              "     width=\"24px\">\n",
              "    <g>\n",
              "        <path d=\"M19 3H5c-1.1 0-2 .9-2 2v14c0 1.1.9 2 2 2h14c1.1 0 2-.9 2-2V5c0-1.1-.9-2-2-2zM9 17H7v-7h2v7zm4 0h-2V7h2v10zm4 0h-2v-4h2v4z\"/>\n",
              "    </g>\n",
              "</svg>\n",
              "  </button>\n",
              "\n",
              "<style>\n",
              "  .colab-df-quickchart {\n",
              "      --bg-color: #E8F0FE;\n",
              "      --fill-color: #1967D2;\n",
              "      --hover-bg-color: #E2EBFA;\n",
              "      --hover-fill-color: #174EA6;\n",
              "      --disabled-fill-color: #AAA;\n",
              "      --disabled-bg-color: #DDD;\n",
              "  }\n",
              "\n",
              "  [theme=dark] .colab-df-quickchart {\n",
              "      --bg-color: #3B4455;\n",
              "      --fill-color: #D2E3FC;\n",
              "      --hover-bg-color: #434B5C;\n",
              "      --hover-fill-color: #FFFFFF;\n",
              "      --disabled-bg-color: #3B4455;\n",
              "      --disabled-fill-color: #666;\n",
              "  }\n",
              "\n",
              "  .colab-df-quickchart {\n",
              "    background-color: var(--bg-color);\n",
              "    border: none;\n",
              "    border-radius: 50%;\n",
              "    cursor: pointer;\n",
              "    display: none;\n",
              "    fill: var(--fill-color);\n",
              "    height: 32px;\n",
              "    padding: 0;\n",
              "    width: 32px;\n",
              "  }\n",
              "\n",
              "  .colab-df-quickchart:hover {\n",
              "    background-color: var(--hover-bg-color);\n",
              "    box-shadow: 0 1px 2px rgba(60, 64, 67, 0.3), 0 1px 3px 1px rgba(60, 64, 67, 0.15);\n",
              "    fill: var(--button-hover-fill-color);\n",
              "  }\n",
              "\n",
              "  .colab-df-quickchart-complete:disabled,\n",
              "  .colab-df-quickchart-complete:disabled:hover {\n",
              "    background-color: var(--disabled-bg-color);\n",
              "    fill: var(--disabled-fill-color);\n",
              "    box-shadow: none;\n",
              "  }\n",
              "\n",
              "  .colab-df-spinner {\n",
              "    border: 2px solid var(--fill-color);\n",
              "    border-color: transparent;\n",
              "    border-bottom-color: var(--fill-color);\n",
              "    animation:\n",
              "      spin 1s steps(1) infinite;\n",
              "  }\n",
              "\n",
              "  @keyframes spin {\n",
              "    0% {\n",
              "      border-color: transparent;\n",
              "      border-bottom-color: var(--fill-color);\n",
              "      border-left-color: var(--fill-color);\n",
              "    }\n",
              "    20% {\n",
              "      border-color: transparent;\n",
              "      border-left-color: var(--fill-color);\n",
              "      border-top-color: var(--fill-color);\n",
              "    }\n",
              "    30% {\n",
              "      border-color: transparent;\n",
              "      border-left-color: var(--fill-color);\n",
              "      border-top-color: var(--fill-color);\n",
              "      border-right-color: var(--fill-color);\n",
              "    }\n",
              "    40% {\n",
              "      border-color: transparent;\n",
              "      border-right-color: var(--fill-color);\n",
              "      border-top-color: var(--fill-color);\n",
              "    }\n",
              "    60% {\n",
              "      border-color: transparent;\n",
              "      border-right-color: var(--fill-color);\n",
              "    }\n",
              "    80% {\n",
              "      border-color: transparent;\n",
              "      border-right-color: var(--fill-color);\n",
              "      border-bottom-color: var(--fill-color);\n",
              "    }\n",
              "    90% {\n",
              "      border-color: transparent;\n",
              "      border-bottom-color: var(--fill-color);\n",
              "    }\n",
              "  }\n",
              "</style>\n",
              "\n",
              "  <script>\n",
              "    async function quickchart(key) {\n",
              "      const quickchartButtonEl =\n",
              "        document.querySelector('#' + key + ' button');\n",
              "      quickchartButtonEl.disabled = true;  // To prevent multiple clicks.\n",
              "      quickchartButtonEl.classList.add('colab-df-spinner');\n",
              "      try {\n",
              "        const charts = await google.colab.kernel.invokeFunction(\n",
              "            'suggestCharts', [key], {});\n",
              "      } catch (error) {\n",
              "        console.error('Error during call to suggestCharts:', error);\n",
              "      }\n",
              "      quickchartButtonEl.classList.remove('colab-df-spinner');\n",
              "      quickchartButtonEl.classList.add('colab-df-quickchart-complete');\n",
              "    }\n",
              "    (() => {\n",
              "      let quickchartButtonEl =\n",
              "        document.querySelector('#df-57bdf33a-d77f-4806-88e6-07a1a340d06a button');\n",
              "      quickchartButtonEl.style.display =\n",
              "        google.colab.kernel.accessAllowed ? 'block' : 'none';\n",
              "    })();\n",
              "  </script>\n",
              "</div>\n",
              "\n",
              "    </div>\n",
              "  </div>\n"
            ],
            "application/vnd.google.colaboratory.intrinsic+json": {
              "type": "dataframe",
              "variable_name": "data",
              "summary": "{\n  \"name\": \"data\",\n  \"rows\": 159,\n  \"fields\": [\n    {\n      \"column\": \"Species\",\n      \"properties\": {\n        \"dtype\": \"category\",\n        \"num_unique_values\": 7,\n        \"samples\": [\n          \"Bream\",\n          \"Roach\",\n          \"Pike\"\n        ],\n        \"semantic_type\": \"\",\n        \"description\": \"\"\n      }\n    },\n    {\n      \"column\": \"Weight\",\n      \"properties\": {\n        \"dtype\": \"number\",\n        \"std\": 357.9783165508931,\n        \"min\": 0.0,\n        \"max\": 1650.0,\n        \"num_unique_values\": 101,\n        \"samples\": [\n          770.0,\n          51.5,\n          197.0\n        ],\n        \"semantic_type\": \"\",\n        \"description\": \"\"\n      }\n    },\n    {\n      \"column\": \"Length\",\n      \"properties\": {\n        \"dtype\": \"number\",\n        \"std\": 10.716328098884247,\n        \"min\": 8.4,\n        \"max\": 63.4,\n        \"num_unique_values\": 93,\n        \"samples\": [\n          14.7,\n          18.8,\n          19.6\n        ],\n        \"semantic_type\": \"\",\n        \"description\": \"\"\n      }\n    },\n    {\n      \"column\": \"Diagonal\",\n      \"properties\": {\n        \"dtype\": \"number\",\n        \"std\": 11.610245832690964,\n        \"min\": 8.8,\n        \"max\": 68.0,\n        \"num_unique_values\": 124,\n        \"samples\": [\n          39.2,\n          27.2,\n          23.1\n        ],\n        \"semantic_type\": \"\",\n        \"description\": \"\"\n      }\n    },\n    {\n      \"column\": \"Height\",\n      \"properties\": {\n        \"dtype\": \"number\",\n        \"std\": 4.286207619968867,\n        \"min\": 1.7284,\n        \"max\": 18.957,\n        \"num_unique_values\": 154,\n        \"samples\": [\n          15.438,\n          7.293,\n          2.8728\n        ],\n        \"semantic_type\": \"\",\n        \"description\": \"\"\n      }\n    },\n    {\n      \"column\": \"Width\",\n      \"properties\": {\n        \"dtype\": \"number\",\n        \"std\": 1.6858038699921671,\n        \"min\": 1.0476,\n        \"max\": 8.142,\n        \"num_unique_values\": 152,\n        \"samples\": [\n          3.1571,\n          1.3936,\n          3.6835\n        ],\n        \"semantic_type\": \"\",\n        \"description\": \"\"\n      }\n    }\n  ]\n}"
            }
          },
          "metadata": {},
          "execution_count": 1
        }
      ],
      "source": [
        "import pandas as pd\n",
        "data = pd.read_csv('https://bit.ly/fish_csv_data')\n",
        "data.head(10)"
      ]
    },
    {
      "cell_type": "code",
      "source": [
        "# data를 Species -> target / 나머지 -> input으로 분리\n",
        "d_input = data[['Weight', 'Length', 'Diagonal','Height', 'Width']].to_numpy()\n",
        "d_target = data['Species'].to_numpy()\n",
        "print(d_input.shape, d_target.shape)"
      ],
      "metadata": {
        "colab": {
          "base_uri": "https://localhost:8080/"
        },
        "id": "trnNwnGrvMmM",
        "outputId": "d952c9f1-695f-4b79-d3c3-9fe77c4b4b90"
      },
      "execution_count": null,
      "outputs": [
        {
          "output_type": "stream",
          "name": "stdout",
          "text": [
            "(159, 5) (159,)\n"
          ]
        }
      ]
    },
    {
      "cell_type": "code",
      "source": [
        "# 훈련세트와 테스트 세트로 분리 -> 119, 40개 씩으로 분리(특성: 5개)\n",
        "from sklearn.model_selection import train_test_split\n",
        "\n",
        "tr_input, ts_input, tr_target, ts_target = train_test_split(d_input, d_target)\n",
        "print(tr_input.shape, ts_input.shape)\n",
        "print(tr_target.shape, ts_target.shape)"
      ],
      "metadata": {
        "colab": {
          "base_uri": "https://localhost:8080/"
        },
        "id": "4dFiZdOWwLnk",
        "outputId": "aa9d588e-97b6-49ee-9db4-9e7c9fb3e1f2"
      },
      "execution_count": null,
      "outputs": [
        {
          "output_type": "stream",
          "name": "stdout",
          "text": [
            "(119, 5) (40, 5)\n",
            "(119,) (40,)\n"
          ]
        }
      ]
    },
    {
      "cell_type": "code",
      "source": [
        "import numpy as np\n",
        "print(np.unique(tr_target))\n",
        "print(tr_target[:5])\n",
        "print(tr_input[:5])"
      ],
      "metadata": {
        "colab": {
          "base_uri": "https://localhost:8080/"
        },
        "id": "dVB8XlAxxXFE",
        "outputId": "f882b51e-6207-4998-9129-2ff90d241109"
      },
      "execution_count": null,
      "outputs": [
        {
          "output_type": "stream",
          "name": "stdout",
          "text": [
            "['Bream' 'Parkki' 'Perch' 'Pike' 'Roach' 'Smelt' 'Whitefish']\n",
            "['Bream' 'Perch' 'Perch' 'Bream' 'Roach']\n",
            "[[430.      29.      34.      12.444    5.134 ]\n",
            " [820.      39.      41.3     12.4313   7.3514]\n",
            " [690.      37.      39.3     10.5717   6.3666]\n",
            " [450.      29.7     34.7     13.6024   4.9274]\n",
            " [110.      20.8     23.1      6.1677   3.3957]]\n"
          ]
        }
      ]
    },
    {
      "cell_type": "code",
      "source": [
        "# input 데이터의 표준점수화\n",
        "from sklearn.preprocessing import StandardScaler\n",
        "ss = StandardScaler()\n",
        "\n",
        "ss.fit(tr_input)\n",
        "tr_scaled = ss.transform(tr_input)  # 변형\n",
        "ts_scaled = ss.transform(ts_input)\n",
        "\n",
        "print(tr_scaled.shape, ts_scaled.shape)\n",
        "print(tr_scaled[:5])"
      ],
      "metadata": {
        "colab": {
          "base_uri": "https://localhost:8080/"
        },
        "id": "uhoRASSWxdzo",
        "outputId": "ba58ff3c-64c6-46ba-bee2-8e0194ef6bae"
      },
      "execution_count": null,
      "outputs": [
        {
          "output_type": "stream",
          "name": "stdout",
          "text": [
            "(119, 5) (40, 5)\n",
            "[[ 0.01874378  0.01650663  0.18838089  0.74028582  0.37559713]\n",
            " [ 1.04215437  0.89342114  0.78023074  0.73744472  1.62357034]\n",
            " [ 0.70101751  0.71803824  0.6180801   0.32143619  1.0693158 ]\n",
            " [ 0.07122638  0.07789064  0.24513362  0.99942988  0.25932074]\n",
            " [-0.82097772 -0.70256328 -0.69534011 -0.66377654 -0.60273417]]\n"
          ]
        }
      ]
    },
    {
      "cell_type": "markdown",
      "source": [
        "## 훈련 및 평가\n",
        "알고리즘 : 확률적 경사하강법\n",
        "* 손실함수 : loss = 'log_loss'\n",
        "* 에포크 회수 : max_iter=number\n",
        "* 조기종료 여부 : tol=None\n",
        "\n"
      ],
      "metadata": {
        "id": "RG2UhWFEzj0S"
      }
    },
    {
      "cell_type": "code",
      "source": [
        "# 손실함수 비교 log_loss / hinge\n",
        "from sklearn.linear_model import SGDClassifier\n",
        "\n",
        "sc_log = SGDClassifier(loss='log_loss', max_iter=100)\n",
        "sc_log.fit(tr_scaled, tr_target)\n",
        "\n",
        "print(sc_log.score(tr_scaled, tr_target))\n",
        "print(sc_log.score(ts_scaled, ts_target))"
      ],
      "metadata": {
        "id": "bnAjcax5zu5s",
        "colab": {
          "base_uri": "https://localhost:8080/"
        },
        "outputId": "5171dafe-1a02-4e29-800a-2b384ce146db"
      },
      "execution_count": null,
      "outputs": [
        {
          "output_type": "stream",
          "name": "stdout",
          "text": [
            "0.8487394957983193\n",
            "0.825\n"
          ]
        }
      ]
    },
    {
      "cell_type": "code",
      "source": [
        "sc_hg = SGDClassifier(loss='hinge', max_iter=100)\n",
        "sc_hg.fit(tr_scaled, tr_target)\n",
        "\n",
        "print(sc_hg.score(tr_scaled, tr_target))\n",
        "print(sc_hg.score(ts_scaled, ts_target))"
      ],
      "metadata": {
        "colab": {
          "base_uri": "https://localhost:8080/"
        },
        "id": "9bKPqGWuu_mN",
        "outputId": "8a998724-fb79-4b58-8e4d-fcde34bc6543"
      },
      "execution_count": null,
      "outputs": [
        {
          "output_type": "stream",
          "name": "stdout",
          "text": [
            "0.8907563025210085\n",
            "0.9\n"
          ]
        }
      ]
    },
    {
      "cell_type": "code",
      "source": [
        "# 점진적 학습 효과\n",
        "sc_log.partial_fit(tr_scaled, tr_target)\n",
        "\n",
        "print(sc_log.score(tr_scaled, tr_target))\n",
        "print(sc_log.score(ts_scaled, ts_target))\n",
        "# -> 정확도가 떨어짐"
      ],
      "metadata": {
        "colab": {
          "base_uri": "https://localhost:8080/"
        },
        "id": "KPrcT3HqwUy5",
        "outputId": "a07582f4-f6dd-4fc2-e808-977a6fd1cd5d"
      },
      "execution_count": null,
      "outputs": [
        {
          "output_type": "stream",
          "name": "stdout",
          "text": [
            "0.7899159663865546\n",
            "0.725\n"
          ]
        }
      ]
    },
    {
      "cell_type": "code",
      "source": [
        "sc_hg.partial_fit(tr_scaled, tr_target)\n",
        "\n",
        "print(sc_hg.score(tr_scaled, tr_target))\n",
        "print(sc_hg.score(ts_scaled, ts_target))"
      ],
      "metadata": {
        "colab": {
          "base_uri": "https://localhost:8080/"
        },
        "id": "XTvNhf5gwtA1",
        "outputId": "d4ab0d8e-5518-43a3-89bd-1614005a1317"
      },
      "execution_count": null,
      "outputs": [
        {
          "output_type": "stream",
          "name": "stdout",
          "text": [
            "0.8319327731092437\n",
            "0.875\n"
          ]
        }
      ]
    },
    {
      "cell_type": "code",
      "source": [
        "# 에포크 횟수 비교\n",
        "sc = SGDClassifier(loss = 'log_loss')\n",
        "# 결과 누적할 리스트\n",
        "tr_scores = []\n",
        "ts_scores = []\n",
        "cl = np.unique(tr_target)\n",
        "\n",
        "# 파이썬의 1회용 변수 사용하여 0~300번의 에포크 훈련 점수 비교\n",
        "for _ in range(0, 300):\n",
        "    sc.partial_fit(tr_scaled, tr_target, classes=cl)\n",
        "    tr_scores.append(sc.score(tr_scaled, tr_target))\n",
        "    ts_scores.append(sc.score(ts_scaled, ts_target))\n"
      ],
      "metadata": {
        "id": "wFWoYSzMxG0o"
      },
      "execution_count": null,
      "outputs": []
    },
    {
      "cell_type": "code",
      "source": [
        "import matplotlib.pyplot as plt\n",
        "\n",
        "plt.plot(tr_scores, c='b')\n",
        "plt.plot(ts_scores, c='m')\n",
        "plt.xlabel('epoch')\n",
        "plt.ylabel('accuracy')\n",
        "plt.show()"
      ],
      "metadata": {
        "colab": {
          "base_uri": "https://localhost:8080/",
          "height": 449
        },
        "id": "Youe8RnaydWV",
        "outputId": "f72291b2-3eac-4cb3-febd-c890caae3252"
      },
      "execution_count": null,
      "outputs": [
        {
          "output_type": "display_data",
          "data": {
            "text/plain": [
              "<Figure size 640x480 with 1 Axes>"
            ],
            "image/png": "[encoded data removed]"
          },
          "metadata": {}
        }
      ]
    },
    {
      "cell_type": "code",
      "source": [
        "print(tr_scores)"
      ],
      "metadata": {
        "colab": {
          "base_uri": "https://localhost:8080/"
        },
        "id": "mBLx4P6e06BE",
        "outputId": "72406943-e942-4568-a32b-8e5912d7d498"
      },
      "execution_count": null,
      "outputs": [
        {
          "output_type": "stream",
          "name": "stdout",
          "text": [
            "[0.5546218487394958, 0.7563025210084033, 0.7142857142857143, 0.6974789915966386, 0.7899159663865546, 0.8235294117647058, 0.773109243697479, 0.7899159663865546, 0.7226890756302521, 0.8571428571428571, 0.8235294117647058, 0.773109243697479, 0.8403361344537815, 0.8151260504201681, 0.8319327731092437, 0.7226890756302521, 0.8067226890756303, 0.8319327731092437, 0.8823529411764706, 0.8403361344537815, 0.8487394957983193, 0.8571428571428571, 0.865546218487395, 0.8991596638655462, 0.7394957983193278, 0.8319327731092437, 0.8067226890756303, 0.8739495798319328, 0.773109243697479, 0.8235294117647058, 0.8151260504201681, 0.8319327731092437, 0.8319327731092437, 0.8823529411764706, 0.8319327731092437, 0.907563025210084, 0.7899159663865546, 0.7983193277310925, 0.7815126050420168, 0.8739495798319328, 0.9327731092436975, 0.9159663865546218, 0.8571428571428571, 0.907563025210084, 0.8823529411764706, 0.8235294117647058, 0.8571428571428571, 0.8487394957983193, 0.8571428571428571, 0.8403361344537815, 0.8487394957983193, 0.8739495798319328, 0.8571428571428571, 0.8823529411764706, 0.8487394957983193, 0.8067226890756303, 0.8739495798319328, 0.9243697478991597, 0.907563025210084, 0.9243697478991597, 0.9159663865546218, 0.8907563025210085, 0.8403361344537815, 0.8823529411764706, 0.9327731092436975, 0.8907563025210085, 0.8991596638655462, 0.907563025210084, 0.9411764705882353, 0.8067226890756303, 0.9327731092436975, 0.9243697478991597, 0.8991596638655462, 0.8403361344537815, 0.7899159663865546, 0.8991596638655462, 0.865546218487395, 0.9411764705882353, 0.8571428571428571, 0.8403361344537815, 0.907563025210084, 0.9159663865546218, 0.9327731092436975, 0.8991596638655462, 0.9327731092436975, 0.8487394957983193, 0.9411764705882353, 0.9411764705882353, 0.9327731092436975, 0.907563025210084, 0.8907563025210085, 0.9327731092436975, 0.9327731092436975, 0.9327731092436975, 0.8823529411764706, 0.9327731092436975, 0.8319327731092437, 0.9411764705882353, 0.8991596638655462, 0.9327731092436975, 0.9327731092436975, 0.8907563025210085, 0.957983193277311, 0.9243697478991597, 0.9327731092436975, 0.9411764705882353, 0.9159663865546218, 0.8991596638655462, 0.9159663865546218, 0.8907563025210085, 0.9411764705882353, 0.8991596638655462, 0.9327731092436975, 0.9327731092436975, 0.907563025210084, 0.9327731092436975, 0.9327731092436975, 0.8319327731092437, 0.9411764705882353, 0.9495798319327731, 0.8907563025210085, 0.9411764705882353, 0.9411764705882353, 0.8571428571428571, 0.9411764705882353, 0.9411764705882353, 0.9327731092436975, 0.9243697478991597, 0.9159663865546218, 0.9411764705882353, 0.9159663865546218, 0.8151260504201681, 0.9495798319327731, 0.8907563025210085, 0.9411764705882353, 0.907563025210084, 0.8991596638655462, 0.8907563025210085, 0.9411764705882353, 0.865546218487395, 0.9327731092436975, 0.9327731092436975, 0.8571428571428571, 0.8571428571428571, 0.9411764705882353, 0.9159663865546218, 0.8823529411764706, 0.8991596638655462, 0.9411764705882353, 0.9411764705882353, 0.9411764705882353, 0.8571428571428571, 0.9411764705882353, 0.9411764705882353, 0.9327731092436975, 0.8403361344537815, 0.9327731092436975, 0.9327731092436975, 0.9327731092436975, 0.9327731092436975, 0.9327731092436975, 0.9159663865546218, 0.9327731092436975, 0.8907563025210085, 0.9411764705882353, 0.9495798319327731, 0.9159663865546218, 0.9327731092436975, 0.9411764705882353, 0.9411764705882353, 0.9411764705882353, 0.9159663865546218, 0.9411764705882353, 0.9327731092436975, 0.907563025210084, 0.9411764705882353, 0.9411764705882353, 0.9411764705882353, 0.9327731092436975, 0.907563025210084, 0.9327731092436975, 0.9411764705882353, 0.9159663865546218, 0.9411764705882353, 0.9411764705882353, 0.9411764705882353, 0.9411764705882353, 0.8991596638655462, 0.9327731092436975, 0.9411764705882353, 0.9159663865546218, 0.9411764705882353, 0.9243697478991597, 0.9327731092436975, 0.8991596638655462, 0.9327731092436975, 0.9411764705882353, 0.8991596638655462, 0.9411764705882353, 0.9243697478991597, 0.8991596638655462, 0.9327731092436975, 0.9411764705882353, 0.9411764705882353, 0.9411764705882353, 0.9159663865546218, 0.9243697478991597, 0.8991596638655462, 0.8991596638655462, 0.9411764705882353, 0.9243697478991597, 0.9243697478991597, 0.9411764705882353, 0.9411764705882353, 0.9327731092436975, 0.9411764705882353, 0.907563025210084, 0.9327731092436975, 0.9411764705882353, 0.9159663865546218, 0.9411764705882353, 0.9327731092436975, 0.9411764705882353, 0.9411764705882353, 0.907563025210084, 0.9411764705882353, 0.9411764705882353, 0.907563025210084, 0.9411764705882353, 0.9411764705882353, 0.907563025210084, 0.9243697478991597, 0.9411764705882353, 0.9243697478991597, 0.8907563025210085, 0.9327731092436975, 0.865546218487395, 0.9411764705882353, 0.9411764705882353, 0.9411764705882353, 0.9411764705882353, 0.9327731092436975, 0.9411764705882353, 0.8907563025210085, 0.9411764705882353, 0.9159663865546218, 0.9411764705882353, 0.9411764705882353, 0.9411764705882353, 0.9411764705882353, 0.9411764705882353, 0.9327731092436975, 0.9411764705882353, 0.9411764705882353, 0.9411764705882353, 0.9411764705882353, 0.9327731092436975, 0.9243697478991597, 0.9411764705882353, 0.9411764705882353, 0.8739495798319328, 0.9411764705882353, 0.9411764705882353, 0.9411764705882353, 0.907563025210084, 0.9411764705882353, 0.9243697478991597, 0.9411764705882353, 0.9159663865546218, 0.9411764705882353, 0.9411764705882353, 0.9411764705882353, 0.9411764705882353, 0.9411764705882353, 0.9411764705882353, 0.8907563025210085, 0.907563025210084, 0.9411764705882353, 0.9411764705882353, 0.9159663865546218, 0.9411764705882353, 0.9411764705882353, 0.9411764705882353, 0.9411764705882353, 0.9411764705882353, 0.8991596638655462, 0.9411764705882353, 0.9411764705882353, 0.9411764705882353, 0.9411764705882353, 0.8823529411764706, 0.8991596638655462, 0.9411764705882353, 0.9411764705882353, 0.9411764705882353, 0.9411764705882353, 0.9411764705882353, 0.9411764705882353, 0.9411764705882353, 0.9411764705882353]\n"
          ]
        }
      ]
    },
    {
      "cell_type": "code",
      "source": [
        "sc = SGDClassifier(loss='log_loss', max_iter=120, tol=None)\n",
        "sc.fit(tr_scaled, tr_target)\n",
        "print(sc.score(tr_scaled, tr_target))\n",
        "print(sc.score(ts_scaled, ts_target))"
      ],
      "metadata": {
        "colab": {
          "base_uri": "https://localhost:8080/"
        },
        "id": "R7Yli0rr1WtV",
        "outputId": "16ef0e2d-d946-4fba-981b-b48de3431993"
      },
      "execution_count": null,
      "outputs": [
        {
          "output_type": "stream",
          "name": "stdout",
          "text": [
            "0.8151260504201681\n",
            "0.75\n"
          ]
        }
      ]
    }
  ]
}