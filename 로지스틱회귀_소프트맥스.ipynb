{
  "nbformat": 4,
  "nbformat_minor": 0,
  "metadata": {
    "colab": {
      "provenance": [],
      "authorship_tag": "ABX9TyPzXupvV5F2Zb+yXjQz8+BL",
      "include_colab_link": true
    },
    "kernelspec": {
      "name": "python3",
      "display_name": "Python 3"
    },
    "language_info": {
      "name": "python"
    }
  },
  "cells": [
    {
      "cell_type": "markdown",
      "metadata": {
        "id": "view-in-github",
        "colab_type": "text"
      },
      "source": [
        "<a href=\"https://colab.research.google.com/github/jsKim-prog/AIStudy24/blob/master/%EB%A1%9C%EC%A7%80%EC%8A%A4%ED%8B%B1%ED%9A%8C%EA%B7%80_%EC%86%8C%ED%94%84%ED%8A%B8%EB%A7%A5%EC%8A%A4.ipynb\" target=\"_parent\"><img src=\"https://colab.research.google.com/assets/colab-badge.svg\" alt=\"Open In Colab\"/></a>"
      ]
    },
    {
      "cell_type": "markdown",
      "source": [
        "* MBC 쇼핑몰에서 럭키백을 판매하기로 하였다.\n",
        "* 럭키백에는 생선이 들어있는데 종류가 7가지로 랜덤하게 들어 있다.\n",
        "* 럭키백에 확률을 표시해야 함 : 들어있는 7가지의 생선의 확률이 필요함"
      ],
      "metadata": {
        "id": "BohGMN_Qqlqx"
      }
    },
    {
      "cell_type": "code",
      "execution_count": null,
      "metadata": {
        "id": "d4gz-3qXqRRy"
      },
      "outputs": [],
      "source": [
        "# 럭키백의 확률 : 생선 7마리라고 가정함\n",
        "# 생선의 크기, 무게(길이, 높이, 두께, 대각선의 길이, 무게)\n",
        "# + 이미지"
      ]
    },
    {
      "cell_type": "markdown",
      "source": [
        "k-최근접 알고리즘을 이용해보면 회귀? 분류?\n",
        "-> 확률을 알고 싶은 것이므로 회귀를 사용\n",
        "\n",
        "* 샘플 10개 중 농어 3개면? 3 /10 = 0.3\n",
        "* 빙어가 5면 ? 5 / 10 = 0.5\n",
        "* 도미가 2개면 ? 2 / 10 = 0.2\n",
        "* total = 100%\n",
        "\n",
        "사이킷런의 k-최근접 이웃 분리기도 이와 동일한 방식으로 확률 계산도 해줌"
      ],
      "metadata": {
        "id": "XCcGAEsJzLNO"
      }
    },
    {
      "cell_type": "code",
      "source": [
        "# 샘플데이터 준비\n",
        "# 로지스틱 회귀 : 럭키백 확률\n",
        "import pandas as pd # 판다스로 csv 처리\n",
        "fish = pd.read_csv('https://bit.ly/fish_csv_data')  # 웹에 있는 파일 가져옴\n",
        "fish.head() # 제일 위쪽 5개 데이터를 보여줌\n",
        "# 어종, 무게, 길이, 대각선, 높이, 너비(두께)"
      ],
      "metadata": {
        "colab": {
          "base_uri": "https://localhost:8080/",
          "height": 206
        },
        "id": "a9blJdnCyWue",
        "outputId": "5cf64be1-2a17-4f63-cb1c-207cd66102e3"
      },
      "execution_count": 2,
      "outputs": [
        {
          "output_type": "execute_result",
          "data": {
            "text/plain": [
              "  Species  Weight  Length  Diagonal   Height   Width\n",
              "0   Bream   242.0    25.4      30.0  11.5200  4.0200\n",
              "1   Bream   290.0    26.3      31.2  12.4800  4.3056\n",
              "2   Bream   340.0    26.5      31.1  12.3778  4.6961\n",
              "3   Bream   363.0    29.0      33.5  12.7300  4.4555\n",
              "4   Bream   430.0    29.0      34.0  12.4440  5.1340"
            ],
            "text/html": [
              "\n",
              "  <div id=\"df-efcd5d54-71a1-47ce-8f3c-b6572e9fdc52\" class=\"colab-df-container\">\n",
              "    <div>\n",
              "<style scoped>\n",
              "    .dataframe tbody tr th:only-of-type {\n",
              "        vertical-align: middle;\n",
              "    }\n",
              "\n",
              "    .dataframe tbody tr th {\n",
              "        vertical-align: top;\n",
              "    }\n",
              "\n",
              "    .dataframe thead th {\n",
              "        text-align: right;\n",
              "    }\n",
              "</style>\n",
              "<table border=\"1\" class=\"dataframe\">\n",
              "  <thead>\n",
              "    <tr style=\"text-align: right;\">\n",
              "      <th></th>\n",
              "      <th>Species</th>\n",
              "      <th>Weight</th>\n",
              "      <th>Length</th>\n",
              "      <th>Diagonal</th>\n",
              "      <th>Height</th>\n",
              "      <th>Width</th>\n",
              "    </tr>\n",
              "  </thead>\n",
              "  <tbody>\n",
              "    <tr>\n",
              "      <th>0</th>\n",
              "      <td>Bream</td>\n",
              "      <td>242.0</td>\n",
              "      <td>25.4</td>\n",
              "      <td>30.0</td>\n",
              "      <td>11.5200</td>\n",
              "      <td>4.0200</td>\n",
              "    </tr>\n",
              "    <tr>\n",
              "      <th>1</th>\n",
              "      <td>Bream</td>\n",
              "      <td>290.0</td>\n",
              "      <td>26.3</td>\n",
              "      <td>31.2</td>\n",
              "      <td>12.4800</td>\n",
              "      <td>4.3056</td>\n",
              "    </tr>\n",
              "    <tr>\n",
              "      <th>2</th>\n",
              "      <td>Bream</td>\n",
              "      <td>340.0</td>\n",
              "      <td>26.5</td>\n",
              "      <td>31.1</td>\n",
              "      <td>12.3778</td>\n",
              "      <td>4.6961</td>\n",
              "    </tr>\n",
              "    <tr>\n",
              "      <th>3</th>\n",
              "      <td>Bream</td>\n",
              "      <td>363.0</td>\n",
              "      <td>29.0</td>\n",
              "      <td>33.5</td>\n",
              "      <td>12.7300</td>\n",
              "      <td>4.4555</td>\n",
              "    </tr>\n",
              "    <tr>\n",
              "      <th>4</th>\n",
              "      <td>Bream</td>\n",
              "      <td>430.0</td>\n",
              "      <td>29.0</td>\n",
              "      <td>34.0</td>\n",
              "      <td>12.4440</td>\n",
              "      <td>5.1340</td>\n",
              "    </tr>\n",
              "  </tbody>\n",
              "</table>\n",
              "</div>\n",
              "    <div class=\"colab-df-buttons\">\n",
              "\n",
              "  <div class=\"colab-df-container\">\n",
              "    <button class=\"colab-df-convert\" onclick=\"convertToInteractive('df-efcd5d54-71a1-47ce-8f3c-b6572e9fdc52')\"\n",
              "            title=\"Convert this dataframe to an interactive table.\"\n",
              "            style=\"display:none;\">\n",
              "\n",
              "  <svg xmlns=\"http://www.w3.org/2000/svg\" height=\"24px\" viewBox=\"0 -960 960 960\">\n",
              "    <path d=\"M120-120v-720h720v720H120Zm60-500h600v-160H180v160Zm220 220h160v-160H400v160Zm0 220h160v-160H400v160ZM180-400h160v-160H180v160Zm440 0h160v-160H620v160ZM180-180h160v-160H180v160Zm440 0h160v-160H620v160Z\"/>\n",
              "  </svg>\n",
              "    </button>\n",
              "\n",
              "  <style>\n",
              "    .colab-df-container {\n",
              "      display:flex;\n",
              "      gap: 12px;\n",
              "    }\n",
              "\n",
              "    .colab-df-convert {\n",
              "      background-color: #E8F0FE;\n",
              "      border: none;\n",
              "      border-radius: 50%;\n",
              "      cursor: pointer;\n",
              "      display: none;\n",
              "      fill: #1967D2;\n",
              "      height: 32px;\n",
              "      padding: 0 0 0 0;\n",
              "      width: 32px;\n",
              "    }\n",
              "\n",
              "    .colab-df-convert:hover {\n",
              "      background-color: #E2EBFA;\n",
              "      box-shadow: 0px 1px 2px rgba(60, 64, 67, 0.3), 0px 1px 3px 1px rgba(60, 64, 67, 0.15);\n",
              "      fill: #174EA6;\n",
              "    }\n",
              "\n",
              "    .colab-df-buttons div {\n",
              "      margin-bottom: 4px;\n",
              "    }\n",
              "\n",
              "    [theme=dark] .colab-df-convert {\n",
              "      background-color: #3B4455;\n",
              "      fill: #D2E3FC;\n",
              "    }\n",
              "\n",
              "    [theme=dark] .colab-df-convert:hover {\n",
              "      background-color: #434B5C;\n",
              "      box-shadow: 0px 1px 3px 1px rgba(0, 0, 0, 0.15);\n",
              "      filter: drop-shadow(0px 1px 2px rgba(0, 0, 0, 0.3));\n",
              "      fill: #FFFFFF;\n",
              "    }\n",
              "  </style>\n",
              "\n",
              "    <script>\n",
              "      const buttonEl =\n",
              "        document.querySelector('#df-efcd5d54-71a1-47ce-8f3c-b6572e9fdc52 button.colab-df-convert');\n",
              "      buttonEl.style.display =\n",
              "        google.colab.kernel.accessAllowed ? 'block' : 'none';\n",
              "\n",
              "      async function convertToInteractive(key) {\n",
              "        const element = document.querySelector('#df-efcd5d54-71a1-47ce-8f3c-b6572e9fdc52');\n",
              "        const dataTable =\n",
              "          await google.colab.kernel.invokeFunction('convertToInteractive',\n",
              "                                                    [key], {});\n",
              "        if (!dataTable) return;\n",
              "\n",
              "        const docLinkHtml = 'Like what you see? Visit the ' +\n",
              "          '<a target=\"_blank\" href=https://colab.research.google.com/notebooks/data_table.ipynb>data table notebook</a>'\n",
              "          + ' to learn more about interactive tables.';\n",
              "        element.innerHTML = '';\n",
              "        dataTable['output_type'] = 'display_data';\n",
              "        await google.colab.output.renderOutput(dataTable, element);\n",
              "        const docLink = document.createElement('div');\n",
              "        docLink.innerHTML = docLinkHtml;\n",
              "        element.appendChild(docLink);\n",
              "      }\n",
              "    </script>\n",
              "  </div>\n",
              "\n",
              "\n",
              "<div id=\"df-d85f62b1-cfeb-4300-b597-74838fef786e\">\n",
              "  <button class=\"colab-df-quickchart\" onclick=\"quickchart('df-d85f62b1-cfeb-4300-b597-74838fef786e')\"\n",
              "            title=\"Suggest charts\"\n",
              "            style=\"display:none;\">\n",
              "\n",
              "<svg xmlns=\"http://www.w3.org/2000/svg\" height=\"24px\"viewBox=\"0 0 24 24\"\n",
              "     width=\"24px\">\n",
              "    <g>\n",
              "        <path d=\"M19 3H5c-1.1 0-2 .9-2 2v14c0 1.1.9 2 2 2h14c1.1 0 2-.9 2-2V5c0-1.1-.9-2-2-2zM9 17H7v-7h2v7zm4 0h-2V7h2v10zm4 0h-2v-4h2v4z\"/>\n",
              "    </g>\n",
              "</svg>\n",
              "  </button>\n",
              "\n",
              "<style>\n",
              "  .colab-df-quickchart {\n",
              "      --bg-color: #E8F0FE;\n",
              "      --fill-color: #1967D2;\n",
              "      --hover-bg-color: #E2EBFA;\n",
              "      --hover-fill-color: #174EA6;\n",
              "      --disabled-fill-color: #AAA;\n",
              "      --disabled-bg-color: #DDD;\n",
              "  }\n",
              "\n",
              "  [theme=dark] .colab-df-quickchart {\n",
              "      --bg-color: #3B4455;\n",
              "      --fill-color: #D2E3FC;\n",
              "      --hover-bg-color: #434B5C;\n",
              "      --hover-fill-color: #FFFFFF;\n",
              "      --disabled-bg-color: #3B4455;\n",
              "      --disabled-fill-color: #666;\n",
              "  }\n",
              "\n",
              "  .colab-df-quickchart {\n",
              "    background-color: var(--bg-color);\n",
              "    border: none;\n",
              "    border-radius: 50%;\n",
              "    cursor: pointer;\n",
              "    display: none;\n",
              "    fill: var(--fill-color);\n",
              "    height: 32px;\n",
              "    padding: 0;\n",
              "    width: 32px;\n",
              "  }\n",
              "\n",
              "  .colab-df-quickchart:hover {\n",
              "    background-color: var(--hover-bg-color);\n",
              "    box-shadow: 0 1px 2px rgba(60, 64, 67, 0.3), 0 1px 3px 1px rgba(60, 64, 67, 0.15);\n",
              "    fill: var(--button-hover-fill-color);\n",
              "  }\n",
              "\n",
              "  .colab-df-quickchart-complete:disabled,\n",
              "  .colab-df-quickchart-complete:disabled:hover {\n",
              "    background-color: var(--disabled-bg-color);\n",
              "    fill: var(--disabled-fill-color);\n",
              "    box-shadow: none;\n",
              "  }\n",
              "\n",
              "  .colab-df-spinner {\n",
              "    border: 2px solid var(--fill-color);\n",
              "    border-color: transparent;\n",
              "    border-bottom-color: var(--fill-color);\n",
              "    animation:\n",
              "      spin 1s steps(1) infinite;\n",
              "  }\n",
              "\n",
              "  @keyframes spin {\n",
              "    0% {\n",
              "      border-color: transparent;\n",
              "      border-bottom-color: var(--fill-color);\n",
              "      border-left-color: var(--fill-color);\n",
              "    }\n",
              "    20% {\n",
              "      border-color: transparent;\n",
              "      border-left-color: var(--fill-color);\n",
              "      border-top-color: var(--fill-color);\n",
              "    }\n",
              "    30% {\n",
              "      border-color: transparent;\n",
              "      border-left-color: var(--fill-color);\n",
              "      border-top-color: var(--fill-color);\n",
              "      border-right-color: var(--fill-color);\n",
              "    }\n",
              "    40% {\n",
              "      border-color: transparent;\n",
              "      border-right-color: var(--fill-color);\n",
              "      border-top-color: var(--fill-color);\n",
              "    }\n",
              "    60% {\n",
              "      border-color: transparent;\n",
              "      border-right-color: var(--fill-color);\n",
              "    }\n",
              "    80% {\n",
              "      border-color: transparent;\n",
              "      border-right-color: var(--fill-color);\n",
              "      border-bottom-color: var(--fill-color);\n",
              "    }\n",
              "    90% {\n",
              "      border-color: transparent;\n",
              "      border-bottom-color: var(--fill-color);\n",
              "    }\n",
              "  }\n",
              "</style>\n",
              "\n",
              "  <script>\n",
              "    async function quickchart(key) {\n",
              "      const quickchartButtonEl =\n",
              "        document.querySelector('#' + key + ' button');\n",
              "      quickchartButtonEl.disabled = true;  // To prevent multiple clicks.\n",
              "      quickchartButtonEl.classList.add('colab-df-spinner');\n",
              "      try {\n",
              "        const charts = await google.colab.kernel.invokeFunction(\n",
              "            'suggestCharts', [key], {});\n",
              "      } catch (error) {\n",
              "        console.error('Error during call to suggestCharts:', error);\n",
              "      }\n",
              "      quickchartButtonEl.classList.remove('colab-df-spinner');\n",
              "      quickchartButtonEl.classList.add('colab-df-quickchart-complete');\n",
              "    }\n",
              "    (() => {\n",
              "      let quickchartButtonEl =\n",
              "        document.querySelector('#df-d85f62b1-cfeb-4300-b597-74838fef786e button');\n",
              "      quickchartButtonEl.style.display =\n",
              "        google.colab.kernel.accessAllowed ? 'block' : 'none';\n",
              "    })();\n",
              "  </script>\n",
              "</div>\n",
              "\n",
              "    </div>\n",
              "  </div>\n"
            ],
            "application/vnd.google.colaboratory.intrinsic+json": {
              "type": "dataframe",
              "variable_name": "fish",
              "summary": "{\n  \"name\": \"fish\",\n  \"rows\": 159,\n  \"fields\": [\n    {\n      \"column\": \"Species\",\n      \"properties\": {\n        \"dtype\": \"category\",\n        \"num_unique_values\": 7,\n        \"samples\": [\n          \"Bream\",\n          \"Roach\",\n          \"Pike\"\n        ],\n        \"semantic_type\": \"\",\n        \"description\": \"\"\n      }\n    },\n    {\n      \"column\": \"Weight\",\n      \"properties\": {\n        \"dtype\": \"number\",\n        \"std\": 357.9783165508931,\n        \"min\": 0.0,\n        \"max\": 1650.0,\n        \"num_unique_values\": 101,\n        \"samples\": [\n          770.0,\n          51.5,\n          197.0\n        ],\n        \"semantic_type\": \"\",\n        \"description\": \"\"\n      }\n    },\n    {\n      \"column\": \"Length\",\n      \"properties\": {\n        \"dtype\": \"number\",\n        \"std\": 10.716328098884247,\n        \"min\": 8.4,\n        \"max\": 63.4,\n        \"num_unique_values\": 93,\n        \"samples\": [\n          14.7,\n          18.8,\n          19.6\n        ],\n        \"semantic_type\": \"\",\n        \"description\": \"\"\n      }\n    },\n    {\n      \"column\": \"Diagonal\",\n      \"properties\": {\n        \"dtype\": \"number\",\n        \"std\": 11.610245832690964,\n        \"min\": 8.8,\n        \"max\": 68.0,\n        \"num_unique_values\": 124,\n        \"samples\": [\n          39.2,\n          27.2,\n          23.1\n        ],\n        \"semantic_type\": \"\",\n        \"description\": \"\"\n      }\n    },\n    {\n      \"column\": \"Height\",\n      \"properties\": {\n        \"dtype\": \"number\",\n        \"std\": 4.286207619968867,\n        \"min\": 1.7284,\n        \"max\": 18.957,\n        \"num_unique_values\": 154,\n        \"samples\": [\n          15.438,\n          7.293,\n          2.8728\n        ],\n        \"semantic_type\": \"\",\n        \"description\": \"\"\n      }\n    },\n    {\n      \"column\": \"Width\",\n      \"properties\": {\n        \"dtype\": \"number\",\n        \"std\": 1.6858038699921671,\n        \"min\": 1.0476,\n        \"max\": 8.142,\n        \"num_unique_values\": 152,\n        \"samples\": [\n          3.1571,\n          1.3936,\n          3.6835\n        ],\n        \"semantic_type\": \"\",\n        \"description\": \"\"\n      }\n    }\n  ]\n}"
            }
          },
          "metadata": {},
          "execution_count": 2
        }
      ]
    },
    {
      "cell_type": "code",
      "source": [
        "print(pd.unique(fish['Species']))   # 유니크하게 종류를 출력(unique : 유일한)\n",
        "#  어종 7개 있음\n",
        "# Bream : 도미 / Roach : 대구 / Whitefish : 잉어 / Parkki : 붕어 / Perch : 농어 / Pike : 가물치 / Smelt : 빙어"
      ],
      "metadata": {
        "colab": {
          "base_uri": "https://localhost:8080/"
        },
        "id": "CxlFuY0R0Xf1",
        "outputId": "e8829f88-c4ec-4e2e-d96c-e0c1e3c8aa56"
      },
      "execution_count": 3,
      "outputs": [
        {
          "output_type": "stream",
          "name": "stdout",
          "text": [
            "['Bream' 'Roach' 'Whitefish' 'Parkki' 'Perch' 'Pike' 'Smelt']\n"
          ]
        }
      ]
    },
    {
      "cell_type": "code",
      "source": [
        "# 분석용 입력 리스트 값 생성\n",
        "fish_input = fish[['Weight', 'Length', 'Diagonal', 'Height', 'Width']].to_numpy()\n",
        "# 원하는 필드를 넣어 필터링\n",
        "print(fish_input[:5])"
      ],
      "metadata": {
        "colab": {
          "base_uri": "https://localhost:8080/"
        },
        "id": "GewWdywy19oU",
        "outputId": "34d15610-fb27-44eb-b9c3-23bd2bd81a85"
      },
      "execution_count": 4,
      "outputs": [
        {
          "output_type": "stream",
          "name": "stdout",
          "text": [
            "[[242.      25.4     30.      11.52     4.02  ]\n",
            " [290.      26.3     31.2     12.48     4.3056]\n",
            " [340.      26.5     31.1     12.3778   4.6961]\n",
            " [363.      29.      33.5     12.73     4.4555]\n",
            " [430.      29.      34.      12.444    5.134 ]]\n"
          ]
        }
      ]
    },
    {
      "cell_type": "code",
      "source": [
        "# 정답 리스트 생성\n",
        "fish_target = fish['Species'].to_numpy()\n",
        "# fish[['Species']] -> 2차원배열이 됨(금지)\n",
        "print(fish_target[:5])"
      ],
      "metadata": {
        "colab": {
          "base_uri": "https://localhost:8080/"
        },
        "id": "wVQ6_lD63f6M",
        "outputId": "bc7d40e0-b80d-4ccc-b70a-28b655cf29b4"
      },
      "execution_count": 5,
      "outputs": [
        {
          "output_type": "stream",
          "name": "stdout",
          "text": [
            "['Bream' 'Bream' 'Bream' 'Bream' 'Bream']\n"
          ]
        }
      ]
    },
    {
      "cell_type": "code",
      "source": [
        "# 훈련세트 생성\n",
        "from sklearn.model_selection import train_test_split\n",
        "\n",
        "train_input, test_input, train_target, test_target = train_test_split(fish_input, fish_target, random_state=42)\n",
        "\n",
        "print(train_input.shape, test_input.shape)\n",
        "# 훈련용 119개의 5개의 특성\n",
        "# 테스트용 40개의 5개의 특성"
      ],
      "metadata": {
        "colab": {
          "base_uri": "https://localhost:8080/"
        },
        "id": "VwLnwXSx30GB",
        "outputId": "03087bea-5717-445a-931d-2d5ab873e235"
      },
      "execution_count": 6,
      "outputs": [
        {
          "output_type": "stream",
          "name": "stdout",
          "text": [
            "(119, 5) (40, 5)\n"
          ]
        }
      ]
    },
    {
      "cell_type": "code",
      "source": [
        "from sklearn.preprocessing import StandardScaler\n",
        "\n",
        "ss = StandardScaler()   # 사이킷런의 전처리용(스케일 조정) -> 표준점수화\n",
        "ss.fit(train_input)\n",
        "train_scaled = ss.transform(train_input)\n",
        "test_scaled = ss.transform(test_input)"
      ],
      "metadata": {
        "id": "CcGB4cTs45Kt"
      },
      "execution_count": 7,
      "outputs": []
    },
    {
      "cell_type": "code",
      "source": [
        "print(train_scaled[:5])"
      ],
      "metadata": {
        "colab": {
          "base_uri": "https://localhost:8080/"
        },
        "id": "IMgxykEx51Ac",
        "outputId": "5a58182c-b42b-46b7-f305-01406b98f3ec"
      },
      "execution_count": 8,
      "outputs": [
        {
          "output_type": "stream",
          "name": "stdout",
          "text": [
            "[[ 0.91965782  0.60943175  0.81041221  1.85194896  1.00075672]\n",
            " [ 0.30041219  1.54653445  1.45316551 -0.46981663  0.27291745]\n",
            " [-1.0858536  -1.68646987 -1.70848587 -1.70159849 -2.0044758 ]\n",
            " [-0.79734143 -0.60880176 -0.67486907 -0.82480589 -0.27631471]\n",
            " [-0.71289885 -0.73062511 -0.70092664 -0.0802298  -0.7033869 ]]\n"
          ]
        }
      ]
    },
    {
      "cell_type": "code",
      "source": [
        "# k-최근접 이웃 분류기의 확률 예측\n",
        "from sklearn.neighbors import KNeighborsClassifier  #분류용\n",
        "\n",
        "kn = KNeighborsClassifier(n_neighbors=3)    # 이웃 3개 참고\n",
        "kn.fit(train_scaled, train_target)          # 훈련시작\n",
        "\n",
        "print(kn.score(train_scaled, train_target)) # 훈련점수 : 0.89\n",
        "print(kn.score(test_scaled, test_target))   # 테스트점수 : 0.85"
      ],
      "metadata": {
        "colab": {
          "base_uri": "https://localhost:8080/"
        },
        "id": "STT2XBha6KAZ",
        "outputId": "2f59b923-4f3c-48ed-a7f8-c976553650b6"
      },
      "execution_count": 9,
      "outputs": [
        {
          "output_type": "stream",
          "name": "stdout",
          "text": [
            "0.8907563025210085\n",
            "0.85\n"
          ]
        }
      ]
    },
    {
      "cell_type": "code",
      "source": [
        "# 전에는 0과 1을 찾는 이진 분류 였지만 지금 타겟에 7개의 어종을 넣었음\n",
        "print(kn.classes_)  # 타겟의 어종 확인\n",
        "# 7개의 생선 종류 -> 2개 이상 클래스가 포함된 문제를 다중분류 라고 함"
      ],
      "metadata": {
        "colab": {
          "base_uri": "https://localhost:8080/"
        },
        "id": "tGWrgxRS7Hy_",
        "outputId": "b756e9b2-e462-4404-f9f2-50af26534440"
      },
      "execution_count": 10,
      "outputs": [
        {
          "output_type": "stream",
          "name": "stdout",
          "text": [
            "['Bream' 'Parkki' 'Perch' 'Pike' 'Roach' 'Smelt' 'Whitefish']\n"
          ]
        }
      ]
    },
    {
      "cell_type": "code",
      "source": [
        "print(kn.predict(test_scaled[:5]))"
      ],
      "metadata": {
        "colab": {
          "base_uri": "https://localhost:8080/"
        },
        "id": "CsiqWFU47r4f",
        "outputId": "3baec0ac-22e3-4833-a0f8-2bbb9be92672"
      },
      "execution_count": 11,
      "outputs": [
        {
          "output_type": "stream",
          "name": "stdout",
          "text": [
            "['Perch' 'Smelt' 'Pike' 'Perch' 'Perch']\n"
          ]
        }
      ]
    },
    {
      "cell_type": "code",
      "source": [
        "print(test_scaled[:5])"
      ],
      "metadata": {
        "colab": {
          "base_uri": "https://localhost:8080/"
        },
        "id": "d57eXXK974uO",
        "outputId": "86452f90-eea8-4bfd-cc35-6edd243b99b4"
      },
      "execution_count": 12,
      "outputs": [
        {
          "output_type": "stream",
          "name": "stdout",
          "text": [
            "[[-0.88741352 -0.91804565 -1.03098914 -0.90464451 -0.80762518]\n",
            " [-1.06924656 -1.50842035 -1.54345461 -1.58849582 -1.93803151]\n",
            " [-0.54401367  0.35641402  0.30663259 -0.8135697  -0.65388895]\n",
            " [-0.34698097 -0.23396068 -0.22320459 -0.11905019 -0.12233464]\n",
            " [-0.68475132 -0.51509149 -0.58801052 -0.8998784  -0.50124996]]\n"
          ]
        }
      ]
    },
    {
      "cell_type": "code",
      "source": [
        "import numpy as np\n",
        "\n",
        "proba = kn.predict_proba(test_scaled[:5])\n",
        "# 사이킷런이 번거로운 연산을 수행해주어 쉽게 결과가 나옴\n",
        "\n",
        "print(np.round(proba, decimals=4))\n",
        "# 소수점 네번째 자리까지 표시(다섯번째에서 반올림)\n",
        "# ['Bream' 'Parkki' 'Perch' 'Pike' 'Roach' 'Smelt' 'Whitefish']-> 순서\n",
        "# ['Perch' 'Smelt' 'Pike' 'Perch' 'Perch'] -> 확률계산 결과"
      ],
      "metadata": {
        "colab": {
          "base_uri": "https://localhost:8080/"
        },
        "id": "NlJ_agwL8IQI",
        "outputId": "b9a6f4e3-0f1a-4b94-8a98-0b4d11d5445c"
      },
      "execution_count": 13,
      "outputs": [
        {
          "output_type": "stream",
          "name": "stdout",
          "text": [
            "[[0.     0.     1.     0.     0.     0.     0.    ]\n",
            " [0.     0.     0.     0.     0.     1.     0.    ]\n",
            " [0.     0.     0.     1.     0.     0.     0.    ]\n",
            " [0.     0.     0.6667 0.     0.3333 0.     0.    ]\n",
            " [0.     0.     0.6667 0.     0.3333 0.     0.    ]]\n"
          ]
        }
      ]
    },
    {
      "cell_type": "code",
      "source": [
        "# 이 모델이 계산한 확률이 가장 가까운 이웃의 비율이 맞는지 확인 필요함\n",
        "distance, indexes = kn.kneighbors(test_scaled[3:4]) # 4번째 값을 자세히 보자\n",
        "print(train_target[indexes])\n",
        "#                 Perch         Roach\n",
        "#  [0.     0.     0.6667 0.     0.3333 0.     0.    ]\n",
        "# Perch = 2/3, Roach = 1/3 이기 때문에 7개를 확률로 제공되지 못함\n",
        "# 이유 : n_neighbors=3 으로 했기 때문에"
      ],
      "metadata": {
        "colab": {
          "base_uri": "https://localhost:8080/"
        },
        "id": "FY0W2TcXAMff",
        "outputId": "404e1599-2889-41e0-c6c2-8b6279d93712"
      },
      "execution_count": 14,
      "outputs": [
        {
          "output_type": "stream",
          "name": "stdout",
          "text": [
            "[['Roach' 'Perch' 'Perch']]\n"
          ]
        }
      ]
    },
    {
      "cell_type": "markdown",
      "source": [
        "> 알고리즘을 변경 해보자.\n",
        "## 로지스틱 회귀(LogisticRegression)\n",
        "* 로지스틱 회귀는 사이킷런에서 제공함 from sklearn.linear_model import LogisticRegression\n",
        "* 로지스틱 회귀는 이름은 회귀이지만 분류 모델임(회귀를 이용해서 분류)\n",
        "* 선형회귀와 동일하게 선형방정식을 학습한다.\n",
        "```\n",
        "z = a * (Weight) + b * (Length) + c * (Diagonal) + d * (Height) + e * (Width) + f\n",
        "```\n",
        "  - a~f 는 각 항목에 대한 가중치(중요도, 계수)\n",
        "  - z는 어떤 값도 가능함. 하지만 확률이 되려면 0 ~ 1(0% ~ 100%) 사이값\n",
        "  - z가 아주 큰 음수일 때 0, 아주 큰 양수일 때 1이 되도록 바꾸는 방법은 시그모이드 함수, 로지스틱 함수"
      ],
      "metadata": {
        "id": "ng2UwOQWC9YG"
      }
    },
    {
      "cell_type": "code",
      "source": [
        "import numpy as np\n",
        "import matplotlib.pyplot as plt\n",
        "\n",
        "# 시그모이드 함수용 : z가 무한하게 큰 음수일 경우 0에 가까워짐, z가 무한하게 큰 양수일 경우 1에 가까워짐\n",
        "z = np.arange(-5, 5, 0.1) # -5~5까지 0.1간격으로 배열 생성\n",
        "phi = 1 / (1 + np.exp(-z)) #np.exp() 함수로 시그모이드 적용\n",
        "\n",
        "plt.plot(z, phi)\n",
        "plt.xlabel('z')\n",
        "plt.ylabel('phi')\n",
        "plt.show()"
      ],
      "metadata": {
        "colab": {
          "base_uri": "https://localhost:8080/",
          "height": 449
        },
        "id": "WwKlaudTDPf5",
        "outputId": "b70f6e57-b44f-4319-d196-8754c41ed6cb"
      },
      "execution_count": 16,
      "outputs": [
        {
          "output_type": "display_data",
          "data": {
            "text/plain": [
              "<Figure size 640x480 with 1 Axes>"
            ],
            "image/png": "[encoded data removed]"
          },
          "metadata": {}
        }
      ]
    },
    {
      "cell_type": "code",
      "source": [
        "# 선형방정식의 출력 z의 음수를 사용해 자연 상수 e를 거듭제곱하고 1을 더한 값의 역수를 취함\n",
        "# 이렇게 하면 0~1 사이 값을 0~100% 확률로 해석할 수 있다.\n",
        "\n",
        "# 훈련전에 2진분류부터 알아보자.\n",
        "# 2진분류인 경우에는 시그모이드 함수 출력이 0.5보다 크면 양성, 0.5보다 작으면 음성으로 판단\n",
        "# 단, 0.5가 나오면 라이브러리마다 좀 다른데 사이킷런은 음성으로 판단함"
      ],
      "metadata": {
        "id": "6fADihTaFJBB"
      },
      "execution_count": null,
      "outputs": []
    },
    {
      "cell_type": "code",
      "source": [
        "# 로지스틱 회귀로 이진 분류 수행 테스트\n",
        "\n",
        "# 넘파이 배열은 True, False 값을 전달하여 행을 선택할 수 있다. (boolean indexing)\n",
        "char_arr = np.array(['A', 'B', 'C', 'D','E'])\n",
        "print(char_arr[[True, False, True, False, False]])  # boolean indexing\n",
        "# 결과 : True 값만 출력됨"
      ],
      "metadata": {
        "colab": {
          "base_uri": "https://localhost:8080/"
        },
        "id": "jM9y_4-pGJBx",
        "outputId": "1d9bf12f-8804-4bdf-d63e-3130ba8a76f1"
      },
      "execution_count": 17,
      "outputs": [
        {
          "output_type": "stream",
          "name": "stdout",
          "text": [
            "['A' 'C']\n"
          ]
        }
      ]
    },
    {
      "cell_type": "code",
      "source": [
        "# 위와 같은 방식으로 훈련 세트에서 도미(Bream)와 빙어(Smelt)의 행만 골라내보자.\n",
        "\n",
        "bream_smelt_indexes = (train_target=='Bream') | (train_target=='Smelt')\n",
        "\n",
        "# bream_smelt_indexes에  도미와 빙어일 경우 True, 나머지는 False\n",
        "# 이 배열을 사용해서 train_scaled, train_target 배열에 인덱싱 적용\n",
        "train_bream_smelt = train_scaled[bream_smelt_indexes]\n",
        "target_bream_smelt = train_target[bream_smelt_indexes]\n",
        "\n",
        "# 손쉽게 도미와 빙어 데이터만 골라낼 수 있다.\n",
        "print(target_bream_smelt)"
      ],
      "metadata": {
        "colab": {
          "base_uri": "https://localhost:8080/"
        },
        "id": "FOi9SRp4G6Lv",
        "outputId": "1b17f3e3-4947-4f2a-c04c-109bed685c73"
      },
      "execution_count": 20,
      "outputs": [
        {
          "output_type": "stream",
          "name": "stdout",
          "text": [
            "['Bream' 'Smelt' 'Bream' 'Bream' 'Bream' 'Smelt' 'Bream' 'Bream' 'Bream'\n",
            " 'Bream' 'Bream' 'Bream' 'Bream' 'Smelt' 'Bream' 'Smelt' 'Smelt' 'Bream'\n",
            " 'Bream' 'Bream' 'Bream' 'Bream' 'Bream' 'Bream' 'Bream' 'Smelt' 'Bream'\n",
            " 'Smelt' 'Smelt' 'Bream' 'Smelt' 'Bream' 'Bream']\n"
          ]
        }
      ]
    },
    {
      "cell_type": "code",
      "source": [
        "# 사이킷런에 선형모델에 로지스틱 회귀 클래스를 사용\n",
        "from sklearn.linear_model import LogisticRegression\n",
        "\n",
        "lr = LogisticRegression()\n",
        "lr.fit(train_bream_smelt, target_bream_smelt)   # 훈련시작 -> 2진분류로 나옴"
      ],
      "metadata": {
        "colab": {
          "base_uri": "https://localhost:8080/",
          "height": 80
        },
        "id": "Vt6DkmfZKtQl",
        "outputId": "b3b5f568-7bc8-4b10-d8f2-e0d4b8a144cf"
      },
      "execution_count": 21,
      "outputs": [
        {
          "output_type": "execute_result",
          "data": {
            "text/plain": [
              "LogisticRegression()"
            ],
            "text/html": [
              "<style>#sk-container-id-1 {\n",
              "  /* Definition of color scheme common for light and dark mode */\n",
              "  --sklearn-color-text: #000;\n",
              "  --sklearn-color-text-muted: #666;\n",
              "  --sklearn-color-line: gray;\n",
              "  /* Definition of color scheme for unfitted estimators */\n",
              "  --sklearn-color-unfitted-level-0: #fff5e6;\n",
              "  --sklearn-color-unfitted-level-1: #f6e4d2;\n",
              "  --sklearn-color-unfitted-level-2: #ffe0b3;\n",
              "  --sklearn-color-unfitted-level-3: chocolate;\n",
              "  /* Definition of color scheme for fitted estimators */\n",
              "  --sklearn-color-fitted-level-0: #f0f8ff;\n",
              "  --sklearn-color-fitted-level-1: #d4ebff;\n",
              "  --sklearn-color-fitted-level-2: #b3dbfd;\n",
              "  --sklearn-color-fitted-level-3: cornflowerblue;\n",
              "\n",
              "  /* Specific color for light theme */\n",
              "  --sklearn-color-text-on-default-background: var(--sg-text-color, var(--theme-code-foreground, var(--jp-content-font-color1, black)));\n",
              "  --sklearn-color-background: var(--sg-background-color, var(--theme-background, var(--jp-layout-color0, white)));\n",
              "  --sklearn-color-border-box: var(--sg-text-color, var(--theme-code-foreground, var(--jp-content-font-color1, black)));\n",
              "  --sklearn-color-icon: #696969;\n",
              "\n",
              "  @media (prefers-color-scheme: dark) {\n",
              "    /* Redefinition of color scheme for dark theme */\n",
              "    --sklearn-color-text-on-default-background: var(--sg-text-color, var(--theme-code-foreground, var(--jp-content-font-color1, white)));\n",
              "    --sklearn-color-background: var(--sg-background-color, var(--theme-background, var(--jp-layout-color0, #111)));\n",
              "    --sklearn-color-border-box: var(--sg-text-color, var(--theme-code-foreground, var(--jp-content-font-color1, white)));\n",
              "    --sklearn-color-icon: #878787;\n",
              "  }\n",
              "}\n",
              "\n",
              "#sk-container-id-1 {\n",
              "  color: var(--sklearn-color-text);\n",
              "}\n",
              "\n",
              "#sk-container-id-1 pre {\n",
              "  padding: 0;\n",
              "}\n",
              "\n",
              "#sk-container-id-1 input.sk-hidden--visually {\n",
              "  border: 0;\n",
              "  clip: rect(1px 1px 1px 1px);\n",
              "  clip: rect(1px, 1px, 1px, 1px);\n",
              "  height: 1px;\n",
              "  margin: -1px;\n",
              "  overflow: hidden;\n",
              "  padding: 0;\n",
              "  position: absolute;\n",
              "  width: 1px;\n",
              "}\n",
              "\n",
              "#sk-container-id-1 div.sk-dashed-wrapped {\n",
              "  border: 1px dashed var(--sklearn-color-line);\n",
              "  margin: 0 0.4em 0.5em 0.4em;\n",
              "  box-sizing: border-box;\n",
              "  padding-bottom: 0.4em;\n",
              "  background-color: var(--sklearn-color-background);\n",
              "}\n",
              "\n",
              "#sk-container-id-1 div.sk-container {\n",
              "  /* jupyter's `normalize.less` sets `[hidden] { display: none; }`\n",
              "     but bootstrap.min.css set `[hidden] { display: none !important; }`\n",
              "     so we also need the `!important` here to be able to override the\n",
              "     default hidden behavior on the sphinx rendered scikit-learn.org.\n",
              "     See: https://github.com/scikit-learn/scikit-learn/issues/21755 */\n",
              "  display: inline-block !important;\n",
              "  position: relative;\n",
              "}\n",
              "\n",
              "#sk-container-id-1 div.sk-text-repr-fallback {\n",
              "  display: none;\n",
              "}\n",
              "\n",
              "div.sk-parallel-item,\n",
              "div.sk-serial,\n",
              "div.sk-item {\n",
              "  /* draw centered vertical line to link estimators */\n",
              "  background-image: linear-gradient(var(--sklearn-color-text-on-default-background), var(--sklearn-color-text-on-default-background));\n",
              "  background-size: 2px 100%;\n",
              "  background-repeat: no-repeat;\n",
              "  background-position: center center;\n",
              "}\n",
              "\n",
              "/* Parallel-specific style estimator block */\n",
              "\n",
              "#sk-container-id-1 div.sk-parallel-item::after {\n",
              "  content: \"\";\n",
              "  width: 100%;\n",
              "  border-bottom: 2px solid var(--sklearn-color-text-on-default-background);\n",
              "  flex-grow: 1;\n",
              "}\n",
              "\n",
              "#sk-container-id-1 div.sk-parallel {\n",
              "  display: flex;\n",
              "  align-items: stretch;\n",
              "  justify-content: center;\n",
              "  background-color: var(--sklearn-color-background);\n",
              "  position: relative;\n",
              "}\n",
              "\n",
              "#sk-container-id-1 div.sk-parallel-item {\n",
              "  display: flex;\n",
              "  flex-direction: column;\n",
              "}\n",
              "\n",
              "#sk-container-id-1 div.sk-parallel-item:first-child::after {\n",
              "  align-self: flex-end;\n",
              "  width: 50%;\n",
              "}\n",
              "\n",
              "#sk-container-id-1 div.sk-parallel-item:last-child::after {\n",
              "  align-self: flex-start;\n",
              "  width: 50%;\n",
              "}\n",
              "\n",
              "#sk-container-id-1 div.sk-parallel-item:only-child::after {\n",
              "  width: 0;\n",
              "}\n",
              "\n",
              "/* Serial-specific style estimator block */\n",
              "\n",
              "#sk-container-id-1 div.sk-serial {\n",
              "  display: flex;\n",
              "  flex-direction: column;\n",
              "  align-items: center;\n",
              "  background-color: var(--sklearn-color-background);\n",
              "  padding-right: 1em;\n",
              "  padding-left: 1em;\n",
              "}\n",
              "\n",
              "\n",
              "/* Toggleable style: style used for estimator/Pipeline/ColumnTransformer box that is\n",
              "clickable and can be expanded/collapsed.\n",
              "- Pipeline and ColumnTransformer use this feature and define the default style\n",
              "- Estimators will overwrite some part of the style using the `sk-estimator` class\n",
              "*/\n",
              "\n",
              "/* Pipeline and ColumnTransformer style (default) */\n",
              "\n",
              "#sk-container-id-1 div.sk-toggleable {\n",
              "  /* Default theme specific background. It is overwritten whether we have a\n",
              "  specific estimator or a Pipeline/ColumnTransformer */\n",
              "  background-color: var(--sklearn-color-background);\n",
              "}\n",
              "\n",
              "/* Toggleable label */\n",
              "#sk-container-id-1 label.sk-toggleable__label {\n",
              "  cursor: pointer;\n",
              "  display: flex;\n",
              "  width: 100%;\n",
              "  margin-bottom: 0;\n",
              "  padding: 0.5em;\n",
              "  box-sizing: border-box;\n",
              "  text-align: center;\n",
              "  align-items: start;\n",
              "  justify-content: space-between;\n",
              "  gap: 0.5em;\n",
              "}\n",
              "\n",
              "#sk-container-id-1 label.sk-toggleable__label .caption {\n",
              "  font-size: 0.6rem;\n",
              "  font-weight: lighter;\n",
              "  color: var(--sklearn-color-text-muted);\n",
              "}\n",
              "\n",
              "#sk-container-id-1 label.sk-toggleable__label-arrow:before {\n",
              "  /* Arrow on the left of the label */\n",
              "  content: \"▸\";\n",
              "  float: left;\n",
              "  margin-right: 0.25em;\n",
              "  color: var(--sklearn-color-icon);\n",
              "}\n",
              "\n",
              "#sk-container-id-1 label.sk-toggleable__label-arrow:hover:before {\n",
              "  color: var(--sklearn-color-text);\n",
              "}\n",
              "\n",
              "/* Toggleable content - dropdown */\n",
              "\n",
              "#sk-container-id-1 div.sk-toggleable__content {\n",
              "  max-height: 0;\n",
              "  max-width: 0;\n",
              "  overflow: hidden;\n",
              "  text-align: left;\n",
              "  /* unfitted */\n",
              "  background-color: var(--sklearn-color-unfitted-level-0);\n",
              "}\n",
              "\n",
              "#sk-container-id-1 div.sk-toggleable__content.fitted {\n",
              "  /* fitted */\n",
              "  background-color: var(--sklearn-color-fitted-level-0);\n",
              "}\n",
              "\n",
              "#sk-container-id-1 div.sk-toggleable__content pre {\n",
              "  margin: 0.2em;\n",
              "  border-radius: 0.25em;\n",
              "  color: var(--sklearn-color-text);\n",
              "  /* unfitted */\n",
              "  background-color: var(--sklearn-color-unfitted-level-0);\n",
              "}\n",
              "\n",
              "#sk-container-id-1 div.sk-toggleable__content.fitted pre {\n",
              "  /* unfitted */\n",
              "  background-color: var(--sklearn-color-fitted-level-0);\n",
              "}\n",
              "\n",
              "#sk-container-id-1 input.sk-toggleable__control:checked~div.sk-toggleable__content {\n",
              "  /* Expand drop-down */\n",
              "  max-height: 200px;\n",
              "  max-width: 100%;\n",
              "  overflow: auto;\n",
              "}\n",
              "\n",
              "#sk-container-id-1 input.sk-toggleable__control:checked~label.sk-toggleable__label-arrow:before {\n",
              "  content: \"▾\";\n",
              "}\n",
              "\n",
              "/* Pipeline/ColumnTransformer-specific style */\n",
              "\n",
              "#sk-container-id-1 div.sk-label input.sk-toggleable__control:checked~label.sk-toggleable__label {\n",
              "  color: var(--sklearn-color-text);\n",
              "  background-color: var(--sklearn-color-unfitted-level-2);\n",
              "}\n",
              "\n",
              "#sk-container-id-1 div.sk-label.fitted input.sk-toggleable__control:checked~label.sk-toggleable__label {\n",
              "  background-color: var(--sklearn-color-fitted-level-2);\n",
              "}\n",
              "\n",
              "/* Estimator-specific style */\n",
              "\n",
              "/* Colorize estimator box */\n",
              "#sk-container-id-1 div.sk-estimator input.sk-toggleable__control:checked~label.sk-toggleable__label {\n",
              "  /* unfitted */\n",
              "  background-color: var(--sklearn-color-unfitted-level-2);\n",
              "}\n",
              "\n",
              "#sk-container-id-1 div.sk-estimator.fitted input.sk-toggleable__control:checked~label.sk-toggleable__label {\n",
              "  /* fitted */\n",
              "  background-color: var(--sklearn-color-fitted-level-2);\n",
              "}\n",
              "\n",
              "#sk-container-id-1 div.sk-label label.sk-toggleable__label,\n",
              "#sk-container-id-1 div.sk-label label {\n",
              "  /* The background is the default theme color */\n",
              "  color: var(--sklearn-color-text-on-default-background);\n",
              "}\n",
              "\n",
              "/* On hover, darken the color of the background */\n",
              "#sk-container-id-1 div.sk-label:hover label.sk-toggleable__label {\n",
              "  color: var(--sklearn-color-text);\n",
              "  background-color: var(--sklearn-color-unfitted-level-2);\n",
              "}\n",
              "\n",
              "/* Label box, darken color on hover, fitted */\n",
              "#sk-container-id-1 div.sk-label.fitted:hover label.sk-toggleable__label.fitted {\n",
              "  color: var(--sklearn-color-text);\n",
              "  background-color: var(--sklearn-color-fitted-level-2);\n",
              "}\n",
              "\n",
              "/* Estimator label */\n",
              "\n",
              "#sk-container-id-1 div.sk-label label {\n",
              "  font-family: monospace;\n",
              "  font-weight: bold;\n",
              "  display: inline-block;\n",
              "  line-height: 1.2em;\n",
              "}\n",
              "\n",
              "#sk-container-id-1 div.sk-label-container {\n",
              "  text-align: center;\n",
              "}\n",
              "\n",
              "/* Estimator-specific */\n",
              "#sk-container-id-1 div.sk-estimator {\n",
              "  font-family: monospace;\n",
              "  border: 1px dotted var(--sklearn-color-border-box);\n",
              "  border-radius: 0.25em;\n",
              "  box-sizing: border-box;\n",
              "  margin-bottom: 0.5em;\n",
              "  /* unfitted */\n",
              "  background-color: var(--sklearn-color-unfitted-level-0);\n",
              "}\n",
              "\n",
              "#sk-container-id-1 div.sk-estimator.fitted {\n",
              "  /* fitted */\n",
              "  background-color: var(--sklearn-color-fitted-level-0);\n",
              "}\n",
              "\n",
              "/* on hover */\n",
              "#sk-container-id-1 div.sk-estimator:hover {\n",
              "  /* unfitted */\n",
              "  background-color: var(--sklearn-color-unfitted-level-2);\n",
              "}\n",
              "\n",
              "#sk-container-id-1 div.sk-estimator.fitted:hover {\n",
              "  /* fitted */\n",
              "  background-color: var(--sklearn-color-fitted-level-2);\n",
              "}\n",
              "\n",
              "/* Specification for estimator info (e.g. \"i\" and \"?\") */\n",
              "\n",
              "/* Common style for \"i\" and \"?\" */\n",
              "\n",
              ".sk-estimator-doc-link,\n",
              "a:link.sk-estimator-doc-link,\n",
              "a:visited.sk-estimator-doc-link {\n",
              "  float: right;\n",
              "  font-size: smaller;\n",
              "  line-height: 1em;\n",
              "  font-family: monospace;\n",
              "  background-color: var(--sklearn-color-background);\n",
              "  border-radius: 1em;\n",
              "  height: 1em;\n",
              "  width: 1em;\n",
              "  text-decoration: none !important;\n",
              "  margin-left: 0.5em;\n",
              "  text-align: center;\n",
              "  /* unfitted */\n",
              "  border: var(--sklearn-color-unfitted-level-1) 1pt solid;\n",
              "  color: var(--sklearn-color-unfitted-level-1);\n",
              "}\n",
              "\n",
              ".sk-estimator-doc-link.fitted,\n",
              "a:link.sk-estimator-doc-link.fitted,\n",
              "a:visited.sk-estimator-doc-link.fitted {\n",
              "  /* fitted */\n",
              "  border: var(--sklearn-color-fitted-level-1) 1pt solid;\n",
              "  color: var(--sklearn-color-fitted-level-1);\n",
              "}\n",
              "\n",
              "/* On hover */\n",
              "div.sk-estimator:hover .sk-estimator-doc-link:hover,\n",
              ".sk-estimator-doc-link:hover,\n",
              "div.sk-label-container:hover .sk-estimator-doc-link:hover,\n",
              ".sk-estimator-doc-link:hover {\n",
              "  /* unfitted */\n",
              "  background-color: var(--sklearn-color-unfitted-level-3);\n",
              "  color: var(--sklearn-color-background);\n",
              "  text-decoration: none;\n",
              "}\n",
              "\n",
              "div.sk-estimator.fitted:hover .sk-estimator-doc-link.fitted:hover,\n",
              ".sk-estimator-doc-link.fitted:hover,\n",
              "div.sk-label-container:hover .sk-estimator-doc-link.fitted:hover,\n",
              ".sk-estimator-doc-link.fitted:hover {\n",
              "  /* fitted */\n",
              "  background-color: var(--sklearn-color-fitted-level-3);\n",
              "  color: var(--sklearn-color-background);\n",
              "  text-decoration: none;\n",
              "}\n",
              "\n",
              "/* Span, style for the box shown on hovering the info icon */\n",
              ".sk-estimator-doc-link span {\n",
              "  display: none;\n",
              "  z-index: 9999;\n",
              "  position: relative;\n",
              "  font-weight: normal;\n",
              "  right: .2ex;\n",
              "  padding: .5ex;\n",
              "  margin: .5ex;\n",
              "  width: min-content;\n",
              "  min-width: 20ex;\n",
              "  max-width: 50ex;\n",
              "  color: var(--sklearn-color-text);\n",
              "  box-shadow: 2pt 2pt 4pt #999;\n",
              "  /* unfitted */\n",
              "  background: var(--sklearn-color-unfitted-level-0);\n",
              "  border: .5pt solid var(--sklearn-color-unfitted-level-3);\n",
              "}\n",
              "\n",
              ".sk-estimator-doc-link.fitted span {\n",
              "  /* fitted */\n",
              "  background: var(--sklearn-color-fitted-level-0);\n",
              "  border: var(--sklearn-color-fitted-level-3);\n",
              "}\n",
              "\n",
              ".sk-estimator-doc-link:hover span {\n",
              "  display: block;\n",
              "}\n",
              "\n",
              "/* \"?\"-specific style due to the `<a>` HTML tag */\n",
              "\n",
              "#sk-container-id-1 a.estimator_doc_link {\n",
              "  float: right;\n",
              "  font-size: 1rem;\n",
              "  line-height: 1em;\n",
              "  font-family: monospace;\n",
              "  background-color: var(--sklearn-color-background);\n",
              "  border-radius: 1rem;\n",
              "  height: 1rem;\n",
              "  width: 1rem;\n",
              "  text-decoration: none;\n",
              "  /* unfitted */\n",
              "  color: var(--sklearn-color-unfitted-level-1);\n",
              "  border: var(--sklearn-color-unfitted-level-1) 1pt solid;\n",
              "}\n",
              "\n",
              "#sk-container-id-1 a.estimator_doc_link.fitted {\n",
              "  /* fitted */\n",
              "  border: var(--sklearn-color-fitted-level-1) 1pt solid;\n",
              "  color: var(--sklearn-color-fitted-level-1);\n",
              "}\n",
              "\n",
              "/* On hover */\n",
              "#sk-container-id-1 a.estimator_doc_link:hover {\n",
              "  /* unfitted */\n",
              "  background-color: var(--sklearn-color-unfitted-level-3);\n",
              "  color: var(--sklearn-color-background);\n",
              "  text-decoration: none;\n",
              "}\n",
              "\n",
              "#sk-container-id-1 a.estimator_doc_link.fitted:hover {\n",
              "  /* fitted */\n",
              "  background-color: var(--sklearn-color-fitted-level-3);\n",
              "}\n",
              "</style><div id=\"sk-container-id-1\" class=\"sk-top-container\"><div class=\"sk-text-repr-fallback\"><pre>LogisticRegression()</pre><b>In a Jupyter environment, please rerun this cell to show the HTML representation or trust the notebook. <br />On GitHub, the HTML representation is unable to render, please try loading this page with nbviewer.org.</b></div><div class=\"sk-container\" hidden><div class=\"sk-item\"><div class=\"sk-estimator fitted sk-toggleable\"><input class=\"sk-toggleable__control sk-hidden--visually\" id=\"sk-estimator-id-1\" type=\"checkbox\" checked><label for=\"sk-estimator-id-1\" class=\"sk-toggleable__label fitted sk-toggleable__label-arrow\"><div><div>LogisticRegression</div></div><div><a class=\"sk-estimator-doc-link fitted\" rel=\"noreferrer\" target=\"_blank\" href=\"https://scikit-learn.org/1.6/modules/generated/sklearn.linear_model.LogisticRegression.html\">?<span>Documentation for LogisticRegression</span></a><span class=\"sk-estimator-doc-link fitted\">i<span>Fitted</span></span></div></label><div class=\"sk-toggleable__content fitted\"><pre>LogisticRegression()</pre></div> </div></div></div></div>"
            ]
          },
          "metadata": {},
          "execution_count": 21
        }
      ]
    },
    {
      "cell_type": "code",
      "source": [
        "# 훈련결과 :train_bream_smelt 처음 5개의 값\n",
        "print(lr.predict(train_bream_smelt[:5])) # 도미 4개, 빙어 1개"
      ],
      "metadata": {
        "colab": {
          "base_uri": "https://localhost:8080/"
        },
        "id": "q_zXVVcuLDgv",
        "outputId": "7992b0fd-3fc1-427e-f27c-23ff2a2130c3"
      },
      "execution_count": 23,
      "outputs": [
        {
          "output_type": "stream",
          "name": "stdout",
          "text": [
            "['Bream' 'Smelt' 'Bream' 'Bream' 'Bream']\n"
          ]
        }
      ]
    },
    {
      "cell_type": "code",
      "source": [
        "print(lr.predict_proba(train_bream_smelt[:5])) #확률확인"
      ],
      "metadata": {
        "colab": {
          "base_uri": "https://localhost:8080/"
        },
        "id": "wElpv7myN7-u",
        "outputId": "f7e238b8-242a-47a2-c5f3-f8ea182e1876"
      },
      "execution_count": 25,
      "outputs": [
        {
          "output_type": "stream",
          "name": "stdout",
          "text": [
            "[[0.99760007 0.00239993]\n",
            " [0.02737325 0.97262675]\n",
            " [0.99486386 0.00513614]\n",
            " [0.98585047 0.01414953]\n",
            " [0.99767419 0.00232581]]\n"
          ]
        }
      ]
    },
    {
      "cell_type": "code",
      "source": [
        "# 샘플마다 2개의 확률이 출력됨(시그모이드 함수)\n",
        "# 첫번째열 : 0(음성)에 대한 확률\n",
        "# 두번째열 : 1(양성)에 대한 확률\n",
        "# 사이킷런의 타깃 값은 알파벳 순으로 정렬해서 사용함\n",
        "print(lr.classes_)  # Smelt(빙어)가 양성으로 사용됨\n",
        "# 두 번째 샘플만 양성 클래스인 빙어의 확률이 높다.(나머지는 도미로 예측함)\n",
        "# 만약 도미(Bream)를 양성 클래스로 사용하고 싶으면 전에 전처리에서 Bream 인 타깃값을 1로 만들어야 함"
      ],
      "metadata": {
        "colab": {
          "base_uri": "https://localhost:8080/"
        },
        "id": "IXKrvepcOQ35",
        "outputId": "1660f669-e598-49d3-9f9c-53ef16b3b07d"
      },
      "execution_count": 26,
      "outputs": [
        {
          "output_type": "stream",
          "name": "stdout",
          "text": [
            "['Bream' 'Smelt']\n"
          ]
        }
      ]
    },
    {
      "cell_type": "code",
      "source": [
        "# 로지스틱 회귀로 학습한 계수(중요도)를 알아보자.\n",
        "print(lr.coef_, lr.intercept_)"
      ],
      "metadata": {
        "colab": {
          "base_uri": "https://localhost:8080/"
        },
        "id": "ZsBA2PeOPiKc",
        "outputId": "88589866-fe0f-4b06-9e1c-01ba4af8c3ae"
      },
      "execution_count": 27,
      "outputs": [
        {
          "output_type": "stream",
          "name": "stdout",
          "text": [
            "[[-0.40451732 -0.57582787 -0.66248158 -1.01329614 -0.73123131]] [-2.16172774]\n"
          ]
        }
      ]
    },
    {
      "cell_type": "code",
      "source": [
        "# [[-0.40451732 -0.57582787 -0.66248158 -1.01329614 -0.73123131]] [-2.16172774]\n",
        "# 선형방적식에 대입해서 결과가 나옴\n",
        "# z = a * (Weight) + b * (Length) + c * (Diagonal) + d * (Height) + e * (Width) + f\n",
        "# z = -0.40451732 * (Weight) + -0.57582787 * (Length) + -0.66248158 * (Diagonal) + 1.01329614 * (Height) + -0.73123131 * (Width) + -2.16172774\n",
        "\n",
        "decisions = lr.decision_function(train_bream_smelt[:5])\n",
        "# train_bream_smelt의 처음 5개 z값 출력\n",
        "print(decisions)"
      ],
      "metadata": {
        "colab": {
          "base_uri": "https://localhost:8080/"
        },
        "id": "KChY64luP7ak",
        "outputId": "e27ac7a5-89f1-4f07-c736-64f4a9235e69"
      },
      "execution_count": 28,
      "outputs": [
        {
          "output_type": "stream",
          "name": "stdout",
          "text": [
            "[-6.02991358  3.57043428 -5.26630496 -4.24382314 -6.06135688]\n"
          ]
        }
      ]
    },
    {
      "cell_type": "code",
      "source": [
        "# 이 z 값을 시그모이드 함수에 통과시키면 확률을 얻을 수 있다.\n",
        "# 파이썬의 scipy(사이파이) 라이브러리에도 시그모이드 함수가 있다. -> exipit()\n",
        "\n",
        "from scipy.special import expit\n",
        "\n",
        "print(expit(decisions)) # phi = 1 / (1+np.exe(-z))\n",
        "\n",
        "# 여기까지가 2개의 물고기 분류하는 방법\n",
        "# 도미        빙어       도미       도미       도미\n",
        "# [0.00239993 0.97262675 0.00513614 0.01414953 0.00232581]"
      ],
      "metadata": {
        "colab": {
          "base_uri": "https://localhost:8080/"
        },
        "id": "frOw5K67RTU1",
        "outputId": "b4c575f2-e25d-4999-f789-766d976fc672"
      },
      "execution_count": 29,
      "outputs": [
        {
          "output_type": "stream",
          "name": "stdout",
          "text": [
            "[0.00239993 0.97262675 0.00513614 0.01414953 0.00232581]\n"
          ]
        }
      ]
    },
    {
      "cell_type": "code",
      "source": [
        "# 다중분류로 진행해보기(2진분류는 True 아니면 모두 False 처리됨)\n",
        "# 현재 어종이 7개이므로 로지스틱 회귀로 분류를 학습함\n",
        "\n",
        "# LogisticRegression 클래스는 기본적으로 반복적인 알고리즘을 사용(max_iter = 100 : 기본값)\n",
        "# max_iter = 100 : 반복회수를 100으로 하면 부족하다라는 경고문구가 나와 1000으로 향상\n",
        "\n",
        "# LogisticRegression는 기본적으로 릿지 회귀와 같은 계수의 제곱을 규제한다.(L2 규제)\n",
        "# 릿지 회귀에서는 alpha 매개변수로 규제의 양을 조절하였음 -> alpha가 크면 규제도 커짐\n",
        "# LogisticRegression는 규제를 제어하는 매개변수가 C로 되어 있음 -> C가 작으면 규제가 커짐(기본 1)\n",
        "# -> 규제를 완화하기 위해서 20으로 늘림\n",
        "\n",
        "lr = LogisticRegression(C = 20, max_iter=1000)\n",
        "lr.fit(train_scaled, train_target)\n",
        "\n",
        "print(lr.score(train_scaled, train_target)) # 93%\n",
        "print(lr.score(test_scaled, test_target))   # 92.5% -> 과소나 과대적합은 아닌듯"
      ],
      "metadata": {
        "colab": {
          "base_uri": "https://localhost:8080/"
        },
        "id": "7CLyO77uSHhm",
        "outputId": "e39e7a8f-beb6-4705-cd9f-4115db8fb8e5"
      },
      "execution_count": 30,
      "outputs": [
        {
          "output_type": "stream",
          "name": "stdout",
          "text": [
            "0.9327731092436975\n",
            "0.925\n"
          ]
        }
      ]
    },
    {
      "cell_type": "code",
      "source": [
        "print(lr.predict(test_scaled[:5]))  # 결과 분석 시 다중 분류로 나옴"
      ],
      "metadata": {
        "colab": {
          "base_uri": "https://localhost:8080/"
        },
        "id": "kbhY5klMUS3G",
        "outputId": "9e318c1e-28c1-4659-89fa-a85912d10630"
      },
      "execution_count": 32,
      "outputs": [
        {
          "output_type": "stream",
          "name": "stdout",
          "text": [
            "['Perch' 'Smelt' 'Pike' 'Roach' 'Perch']\n"
          ]
        }
      ]
    },
    {
      "cell_type": "code",
      "source": [
        "proba = lr.predict_proba(test_scaled[:5])\n",
        "print(np.round(proba, decimals=3))\n",
        "\n",
        "# Bream Parkki  Perch  Pike Roach Smelt Whitefish\n",
        "# [[0.    0.014 0.842 0.    0.135 0.007 0.003]\n",
        "#  [0.    0.003 0.044 0.    0.007 0.946 0.   ]\n",
        "#  [0.    0.    0.034 0.934 0.015 0.016 0.   ]\n",
        "#  [0.011 0.034 0.305 0.006 0.567 0.    0.076]\n",
        "#  [0.    0.    0.904 0.002 0.089 0.002 0.001]]"
      ],
      "metadata": {
        "colab": {
          "base_uri": "https://localhost:8080/"
        },
        "id": "l6N6wGdqUfYt",
        "outputId": "0abf6f56-9e32-4890-c75b-755160b9d6c5"
      },
      "execution_count": 33,
      "outputs": [
        {
          "output_type": "stream",
          "name": "stdout",
          "text": [
            "[[0.    0.014 0.842 0.    0.135 0.007 0.003]\n",
            " [0.    0.003 0.044 0.    0.007 0.946 0.   ]\n",
            " [0.    0.    0.034 0.934 0.015 0.016 0.   ]\n",
            " [0.011 0.034 0.305 0.006 0.567 0.    0.076]\n",
            " [0.    0.    0.904 0.002 0.089 0.002 0.001]]\n"
          ]
        }
      ]
    },
    {
      "cell_type": "code",
      "source": [
        "print(lr.classes_)  # 알파벳 순으로 정렬되어 보임\n",
        "# 7개의 클래스가 명확하게 구분이 됨"
      ],
      "metadata": {
        "colab": {
          "base_uri": "https://localhost:8080/"
        },
        "id": "dSxQPV4JVAXW",
        "outputId": "00595fa3-0303-41f4-816a-df80247c4912"
      },
      "execution_count": 34,
      "outputs": [
        {
          "output_type": "stream",
          "name": "stdout",
          "text": [
            "['Bream' 'Parkki' 'Perch' 'Pike' 'Roach' 'Smelt' 'Whitefish']\n"
          ]
        }
      ]
    },
    {
      "cell_type": "code",
      "source": [
        "# 다중분류일 때 선형방정식\n",
        "print(lr.coef_.shape, lr.intercept_.shape)\n",
        "#(7, 5)  : 데이터가 5의 특성을 사용, 7개의 행을 가짐\n",
        "# (7,) : 7개의 행 -> 이진분류에서 보았던 z값을 7개를 계산함\n",
        "# 다중분류는 클래스마다 z값을 하나식 계산한다는 의미이다.\n",
        "# 당연히 가장 높은 z값을 출력하는 클래스가 예측 클래스가 됨"
      ],
      "metadata": {
        "colab": {
          "base_uri": "https://localhost:8080/"
        },
        "id": "axWRDxF1VpTq",
        "outputId": "f9626d8e-899f-47d2-f851-7a03846c8777"
      },
      "execution_count": 35,
      "outputs": [
        {
          "output_type": "stream",
          "name": "stdout",
          "text": [
            "(7, 5) (7,)\n"
          ]
        }
      ]
    },
    {
      "cell_type": "code",
      "source": [
        "# 그럼 확률은? 이진분류에서는 시그모이드 함수를 사용해 z를 0과 1 사이 값으로 변환했었다.\n",
        "# 그러나 다중분류에서는 소프트맥수 함수를 사용해서 7개의 z값을 확률로 변환한다.\n",
        "\n",
        "# 소프트맥스 계산법\n",
        "# e_sum = e^z1 + e^z2 + e^z3 +e^z4 +e^z5+ e^z6 + e^z7\n",
        "# s1 = e^z1/e_sum....s7 = e^z7/e_sum -> s1~s7까지 모두 더하면 분모가 같아져 1이 됨"
      ],
      "metadata": {
        "id": "i4PetbB6WVfB"
      },
      "execution_count": null,
      "outputs": []
    },
    {
      "cell_type": "markdown",
      "source": [
        "![softmax.PNG](data:image/png;base64,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)"
      ],
      "metadata": {
        "id": "WO4FsUARZMKm"
      }
    },
    {
      "cell_type": "code",
      "source": [
        "decision = lr.decision_function(test_scaled[:5])\n",
        "print(\"5개 샘플에 대한 z1~z7의 값\\n\")\n",
        "for idx, z in enumerate(decision):\n",
        "    print(f\"{idx}번째 샘플의 z값 :\\n{z}\\n\")"
      ],
      "metadata": {
        "colab": {
          "base_uri": "https://localhost:8080/"
        },
        "id": "Z5V41lcdXsrD",
        "outputId": "9102e6b4-9056-4e9d-eeda-a6e86f13f2fa"
      },
      "execution_count": 38,
      "outputs": [
        {
          "output_type": "stream",
          "name": "stdout",
          "text": [
            "5개 샘플에 대한 z1~z7의 값\n",
            "\n",
            "0번째 샘플의 z값 :\n",
            "[-6.50722814  1.03902666  5.16819138 -2.75730346  3.33655201  0.34625859\n",
            " -0.62549704]\n",
            "\n",
            "1번째 샘플의 z값 :\n",
            "[-10.87900747   1.94410609   4.77600607  -2.42306183   2.98748716\n",
            "   7.84171377  -4.24724379]\n",
            "\n",
            "2번째 샘플의 z값 :\n",
            "[-4.33809959 -6.23690282  3.16746648  6.48091391  2.36412675  2.43431898\n",
            " -3.87182371]\n",
            "\n",
            "3번째 샘플의 z값 :\n",
            "[-0.69143994  0.44628533  2.64291146 -1.21457286  3.2612452  -5.70143404\n",
            "  1.25700485]\n",
            "\n",
            "4번째 샘플의 z값 :\n",
            "[-6.40138612 -1.99137623  5.81526372 -0.134644    3.49905134 -0.08753485\n",
            " -0.69937385]\n",
            "\n"
          ]
        }
      ]
    },
    {
      "cell_type": "code",
      "source": [
        "from scipy.special import softmax\n",
        "print(\"소프트맥스 함수로 예측 확률 구하기\\n\")\n",
        "class_ = lr.classes_.tolist()+[\"예측결과\"]\n",
        "prd = lr.predict(test_scaled[:5]).reshape(5, -1)\n",
        "sm = softmax(decision, axis=1).round(2)*100\n",
        "con = np.column_stack((sm, prd))\n",
        "print(pd.DataFrame(con, columns=class_))"
      ],
      "metadata": {
        "colab": {
          "base_uri": "https://localhost:8080/"
        },
        "id": "FNkKrFUZYOfH",
        "outputId": "3f785195-879d-4099-f5ab-03710c926c0d"
      },
      "execution_count": 39,
      "outputs": [
        {
          "output_type": "stream",
          "name": "stdout",
          "text": [
            "소프트맥스 함수로 예측 확률 구하기\n",
            "\n",
            "  Bream Parkki Perch  Pike Roach Smelt Whitefish   예측결과\n",
            "0   0.0    1.0  84.0   0.0  13.0   1.0       0.0  Perch\n",
            "1   0.0    0.0   4.0   0.0   1.0  95.0       0.0  Smelt\n",
            "2   0.0    0.0   3.0  93.0   2.0   2.0       0.0   Pike\n",
            "3   1.0    3.0  31.0   1.0  57.0   0.0       8.0  Roach\n",
            "4   0.0    0.0  90.0   0.0   9.0   0.0       0.0  Perch\n"
          ]
        }
      ]
    }
  ]
}