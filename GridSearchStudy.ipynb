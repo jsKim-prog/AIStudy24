{
  "nbformat": 4,
  "nbformat_minor": 0,
  "metadata": {
    "colab": {
      "provenance": [],
      "authorship_tag": "ABX9TyPxuGIwUWT/nBJQhHCmoDBg",
      "include_colab_link": true
    },
    "kernelspec": {
      "name": "python3",
      "display_name": "Python 3"
    },
    "language_info": {
      "name": "python"
    }
  },
  "cells": [
    {
      "cell_type": "markdown",
      "metadata": {
        "id": "view-in-github",
        "colab_type": "text"
      },
      "source": [
        "<a href=\"https://colab.research.google.com/github/jsKim-prog/AIStudy24/blob/master/GridSearchStudy.ipynb\" target=\"_parent\"><img src=\"https://colab.research.google.com/assets/colab-badge.svg\" alt=\"Open In Colab\"/></a>"
      ]
    },
    {
      "cell_type": "markdown",
      "source": [
        "## 데이터 셋 준비"
      ],
      "metadata": {
        "id": "B2osrUaWw7-M"
      }
    },
    {
      "cell_type": "code",
      "execution_count": 2,
      "metadata": {
        "id": "rfgkNg7ewxuo"
      },
      "outputs": [],
      "source": [
        "import pandas as pd\n",
        "wine = pd.read_csv('https://bit.ly/wine_csv_data')\n",
        "\n",
        "data = wine[['alcohol', 'sugar', 'pH']].to_numpy()\n",
        "target = wine['class'].to_numpy()"
      ]
    },
    {
      "cell_type": "code",
      "source": [
        "# 훈련세트와 테스트세트 분리\n",
        "# data -> tr_input 80% : ts_input 20%\n",
        "# tr_input -> sub_input 80% : val_input 20% (검증세트 추가)\n",
        "from sklearn.model_selection import train_test_split\n",
        "\n",
        "tr_input, ts_input, tr_target, ts_target = train_test_split(data, target, test_size=0.2)\n",
        "sub_input, val_input, sub_target, val_target = train_test_split(tr_input, tr_target, test_size=0.2)\n",
        "\n",
        "print(f\"훈련세트/테스트세트 : {tr_input.shape} / {ts_input.shape}\")\n",
        "print(f\"훈련세트/검증세트 : {sub_input.shape} / {val_input.shape}\")"
      ],
      "metadata": {
        "colab": {
          "base_uri": "https://localhost:8080/"
        },
        "id": "-w2Tme1Dxo_m",
        "outputId": "de5c72f4-2695-42ac-905a-de4c6e41fec8"
      },
      "execution_count": 3,
      "outputs": [
        {
          "output_type": "stream",
          "name": "stdout",
          "text": [
            "훈련세트/테스트세트 : (5197, 3) / (1300, 3)\n",
            "훈련세트/검증세트 : (4157, 3) / (1040, 3)\n"
          ]
        }
      ]
    },
    {
      "cell_type": "code",
      "source": [
        "# 검증 결과\n",
        "# 훈련 -> 검증세트로 1회 검증 -> 테스트세트로 최종 검증\n",
        "\n",
        "from sklearn.tree import DecisionTreeClassifier\n",
        "dt = DecisionTreeClassifier()\n",
        "dt.fit(sub_input, sub_target)\n",
        "print(f\"훈련점수 : {dt.score(sub_input, sub_target):.2%}\")  # 훈련점수 : 99.83% -> 과대적합\n",
        "print(f\"검증점수 : {dt.score(val_input, val_target):.2%}\")  # 검증점수 : 87.12%\n"
      ],
      "metadata": {
        "colab": {
          "base_uri": "https://localhost:8080/"
        },
        "id": "TuqdhK8U3dDT",
        "outputId": "36fedbb4-062d-40ab-c19c-5f75a2016e3c"
      },
      "execution_count": 6,
      "outputs": [
        {
          "output_type": "stream",
          "name": "stdout",
          "text": [
            "훈련점수 : 99.66%\n",
            "검증점수 : 86.44%\n"
          ]
        }
      ]
    },
    {
      "cell_type": "code",
      "source": [
        "print(f\"테스트셋점수 : {dt.score(ts_input, ts_target):.2%}\")    # 테스트셋점수 : 85.38%"
      ],
      "metadata": {
        "colab": {
          "base_uri": "https://localhost:8080/"
        },
        "id": "HiDKg_k55UnP",
        "outputId": "a465cea6-67f9-4387-fa36-2f83c35e7668"
      },
      "execution_count": null,
      "outputs": [
        {
          "output_type": "stream",
          "name": "stdout",
          "text": [
            "테스트셋점수 : 87.69%\n"
          ]
        }
      ]
    },
    {
      "cell_type": "code",
      "source": [
        "dt.fit(sub_input, sub_target)\n",
        "print(f\"훈련점수 : {dt.score(sub_input, sub_target):.2%}\")  # 훈련점수 : 99.83% -> 변화없음\n",
        "print(f\"검증점수 : {dt.score(val_input, val_target):.2%}\")  # 검증점수 : 87.31% -> 조금 상승\n",
        "print(f\"테스트셋점수 : {dt.score(ts_input, ts_target):.2%}\")     # 테스트셋점수 : 85.31% -> 조금 떨어짐"
      ],
      "metadata": {
        "colab": {
          "base_uri": "https://localhost:8080/"
        },
        "id": "ydc-vr2m6Scl",
        "outputId": "2e12c37b-fc53-4276-a495-ef1a8f4f55eb"
      },
      "execution_count": null,
      "outputs": [
        {
          "output_type": "stream",
          "name": "stdout",
          "text": [
            "훈련점수 : 99.86%\n",
            "검증점수 : 86.06%\n",
            "테스트셋점수 : 87.46%\n"
          ]
        }
      ]
    },
    {
      "cell_type": "markdown",
      "source": [
        "### 교차검증"
      ],
      "metadata": {
        "id": "FvI0wFHP3m9g"
      }
    },
    {
      "cell_type": "code",
      "source": [
        "# tr_input과 ts_input(검증세트를 분리하지 않은 세트)를 사용\n",
        "from sklearn.model_selection import cross_validate\n",
        "# 새객체로 새로 훈련\n",
        "dtc = DecisionTreeClassifier()\n",
        "dtc.fit(tr_input, tr_target)\n",
        "# 검증메서드에 삽입\n",
        "scores = cross_validate(dtc, tr_input, tr_target)\n",
        "print(scores)\n",
        "# {'fit_time': array([0.01259494, 0.01222992, 0.01221538, 0.01219225, 0.01187277]),\n",
        "# 'score_time': array([0.00211406, 0.00214911, 0.00214362, 0.00202274, 0.00206685]),\n",
        "#'test_score': array([0.86826923, 0.8625    , 0.86236766, 0.83926853, 0.86333013])}"
      ],
      "metadata": {
        "colab": {
          "base_uri": "https://localhost:8080/"
        },
        "id": "9wsPeQHY7m35",
        "outputId": "9a44461d-5403-46b9-95cf-693b04c87666"
      },
      "execution_count": 11,
      "outputs": [
        {
          "output_type": "stream",
          "name": "stdout",
          "text": [
            "{'fit_time': array([0.01259494, 0.01222992, 0.01221538, 0.01219225, 0.01187277]), 'score_time': array([0.00211406, 0.00214911, 0.00214362, 0.00202274, 0.00206685]), 'test_score': array([0.86826923, 0.8625    , 0.86236766, 0.83926853, 0.86333013])}\n"
          ]
        }
      ]
    },
    {
      "cell_type": "code",
      "source": [
        "# 최종 검증폴드의 점수(test_score 평균)\n",
        "import numpy as np\n",
        "print(f\"5-폴드 검증결과  : {np.mean(scores['test_score']):.2%}\")    # 5-폴드(default) 검증결과  : 85.91%"
      ],
      "metadata": {
        "colab": {
          "base_uri": "https://localhost:8080/"
        },
        "id": "v5ipmjO-8wwo",
        "outputId": "4e246bb4-1649-475d-8124-23fa64ffd14b"
      },
      "execution_count": 12,
      "outputs": [
        {
          "output_type": "stream",
          "name": "stdout",
          "text": [
            "5-폴드 검증결과  : 85.91%\n"
          ]
        }
      ]
    },
    {
      "cell_type": "code",
      "source": [
        "# cross_validate()는 기본적으로 회귀모델인 KFold 분할기를 사용함\n",
        "# 분류 모델일 경우 타깃 클래스를 골고루 나누기 위해서 STartfiedKFold를 사용\n",
        "from sklearn.model_selection import StratifiedKFold # Stratified : 계층화된\n",
        "scores = cross_validate(dtc, tr_input, tr_target, cv=StratifiedKFold())\n",
        "print(scores)\n",
        "print(f\"분할기 검증결과  : {np.mean(scores['test_score']):.2%}\")\n",
        "#{'fit_time': array([0.01016831, 0.00873899, 0.00870585, 0.00906849, 0.00926352]),\n",
        "#'score_time': array([0.00144768, 0.00138354, 0.00143862, 0.00202632, 0.00137281]),\n",
        "#'test_score': array([0.86634615, 0.85865385, 0.86236766, 0.83830606, 0.86236766])\n",
        "#분할기 검증결과  : 85.76%"
      ],
      "metadata": {
        "colab": {
          "base_uri": "https://localhost:8080/"
        },
        "id": "zYuJrugv-R62",
        "outputId": "234780dc-3419-4a8e-d5a3-ff97c3ef5550"
      },
      "execution_count": 9,
      "outputs": [
        {
          "output_type": "stream",
          "name": "stdout",
          "text": [
            "{'fit_time': array([0.01016831, 0.00873899, 0.00870585, 0.00906849, 0.00926352]), 'score_time': array([0.00144768, 0.00138354, 0.00143862, 0.00202632, 0.00137281]), 'test_score': array([0.86634615, 0.85865385, 0.86236766, 0.83830606, 0.86236766])}\n",
            "분할기 검증결과  : 85.76%\n"
          ]
        }
      ]
    },
    {
      "cell_type": "code",
      "source": [
        "splitter = StratifiedKFold(n_splits=10, shuffle=True)   # 10-폴드 교차검증 수행\n",
        "scores = cross_validate(dtc, tr_input, tr_target, cv=splitter)\n",
        "print(scores)\n",
        "print(f\"10-폴드 검증결과  : {np.mean(scores['test_score']):.2%}\")\n",
        "# {'fit_time': array([0.01443315, 0.01351285, 0.01340675, 0.02352142, 0.04588413,0.03307009, 0.02914524, 0.04228973, 0.01724625, 0.01382089]),\n",
        "#'score_time': array([0.00198936, 0.00187254, 0.00199628, 0.00187755, 0.00197792,0.01891589, 0.009444  , 0.00230503, 0.00196385, 0.00189161]),\n",
        "#'test_score': array([0.85384615, 0.86730769, 0.85384615, 0.86923077, 0.87692308, 0.875     , 0.85961538, 0.86705202, 0.88439306, 0.86512524])}\n",
        "#10-폴드 검증결과  : 86.72%"
      ],
      "metadata": {
        "colab": {
          "base_uri": "https://localhost:8080/"
        },
        "id": "JEZFsqJ2xqWg",
        "outputId": "960bf278-9a7f-4ed4-a882-0b3e95698301"
      },
      "execution_count": 10,
      "outputs": [
        {
          "output_type": "stream",
          "name": "stdout",
          "text": [
            "{'fit_time': array([0.01443315, 0.01351285, 0.01340675, 0.02352142, 0.04588413,\n",
            "       0.03307009, 0.02914524, 0.04228973, 0.01724625, 0.01382089]), 'score_time': array([0.00198936, 0.00187254, 0.00199628, 0.00187755, 0.00197792,\n",
            "       0.01891589, 0.009444  , 0.00230503, 0.00196385, 0.00189161]), 'test_score': array([0.85384615, 0.86730769, 0.85384615, 0.86923077, 0.87692308,\n",
            "       0.875     , 0.85961538, 0.86705202, 0.88439306, 0.86512524])}\n",
            "10-폴드 검증결과  : 86.72%\n"
          ]
        }
      ]
    },
    {
      "cell_type": "markdown",
      "source": [
        "### 하이퍼파라미터 튜닝\n",
        "1. 딕셔너리로 매개변수와 탐색할 값을 만듦\n",
        "2. 결정트리 클래스의 객체를 생성하면서 튜닝 딕셔너리 전달\n",
        "3. .fit() 하면 전달된 딕셔너리 적용하며 크로스검증 수행"
      ],
      "metadata": {
        "id": "4_t__wJK0iX4"
      }
    },
    {
      "cell_type": "code",
      "source": [
        "from sklearn.model_selection import GridSearchCV\n",
        "\n",
        "params = {'min_impurity_decrease': np.arange(0.0001, 0.001, 0.0001),\n",
        "          'max_depth': range(3, 20, 1),\n",
        "          'min_samples_split': range(2, 100, 10)\n",
        "}\n",
        "\n",
        "gs = GridSearchCV(DecisionTreeClassifier(), params, n_jobs=-1)\n",
        "gs.fit(tr_input, tr_target)\n",
        "\n",
        "print(f\"최상의 매개변수 조합 : \\n{gs.best_params_}\")\n",
        "print(f\"최상의 교차점수 : \\n{gs.cv_results_['mean_test_score']}\")\n",
        "# 52.782s\n",
        "# 최상의 매개변수 조합 :\n",
        "#{'max_depth': 17, 'min_impurity_decrease': 0.0002, 'min_samples_split': 2}\n",
        "#최상의 교차점수 :\n",
        "#[0.83856315 0.83856315 0.83856315 ... 0.85549511 0.85568742 0.85414748]"
      ],
      "metadata": {
        "colab": {
          "base_uri": "https://localhost:8080/"
        },
        "id": "NlZF5ENg1oRs",
        "outputId": "6e852e1a-b321-4366-eb20-101b18e22c98"
      },
      "execution_count": 13,
      "outputs": [
        {
          "output_type": "stream",
          "name": "stdout",
          "text": [
            "최상의 매개변수 조합 : \n",
            "{'max_depth': 18, 'min_impurity_decrease': 0.00030000000000000003, 'min_samples_split': 2}\n",
            "최상의 교차점수 : \n",
            "[0.84644999 0.84644999 0.84644999 ... 0.86261272 0.86318964 0.86338269]\n"
          ]
        }
      ]
    },
    {
      "cell_type": "code",
      "source": [
        "print(f\"최상의 교차점수 : \\n{np.max(gs.cv_results_['mean_test_score'])}\")"
      ],
      "metadata": {
        "colab": {
          "base_uri": "https://localhost:8080/"
        },
        "id": "A90qmQvd6FQj",
        "outputId": "a077541a-036b-4398-963c-be5bbdfa9adb"
      },
      "execution_count": 14,
      "outputs": [
        {
          "output_type": "stream",
          "name": "stdout",
          "text": [
            "최상의 교차점수 : \n",
            "0.8710785148441549\n"
          ]
        }
      ]
    },
    {
      "cell_type": "markdown",
      "source": [
        "### 랜덤서치\n",
        "* 매개변수의 값이 아닌 매개변수를 샘플링할 수 있는 확률 분포도 객체 전달\n",
        "* scipy 사용"
      ],
      "metadata": {
        "id": "LAy1PUJ57HRp"
      }
    },
    {
      "cell_type": "code",
      "source": [
        "from scipy.stats import uniform, randint\n",
        "\n",
        "rgen = randint(0, 10)   # 0~10 사이에서 샘플링\n",
        "rgen.rvs(5) # size만큼 샘플링 생성"
      ],
      "metadata": {
        "colab": {
          "base_uri": "https://localhost:8080/"
        },
        "id": "kRNOeYEy7GPb",
        "outputId": "674f6aff-6b04-489d-c5bf-b39ef8b1b8b7"
      },
      "execution_count": 16,
      "outputs": [
        {
          "output_type": "execute_result",
          "data": {
            "text/plain": [
              "array([9, 4, 5, 8, 1])"
            ]
          },
          "metadata": {},
          "execution_count": 16
        }
      ]
    },
    {
      "cell_type": "code",
      "source": [
        "ugen = uniform(0, 1)\n",
        "ugen.rvs(3)"
      ],
      "metadata": {
        "colab": {
          "base_uri": "https://localhost:8080/"
        },
        "id": "doKWZbd18tZv",
        "outputId": "16b476ab-6af3-4c73-9ffe-06cf9f511ec6"
      },
      "execution_count": 17,
      "outputs": [
        {
          "output_type": "execute_result",
          "data": {
            "text/plain": [
              "array([0.73693606, 0.7638266 , 0.45748457])"
            ]
          },
          "metadata": {},
          "execution_count": 17
        }
      ]
    },
    {
      "cell_type": "code",
      "source": [
        "from sklearn.model_selection import RandomizedSearchCV\n",
        "\n",
        "params = {'min_impurity_decrease': uniform(0.0001, 0.001),\n",
        "          'max_depth': randint(10, 50),\n",
        "          'min_samples_split': randint(2, 25),\n",
        "          'min_samples_leaf': randint(1, 25)\n",
        "}\n",
        "gs = RandomizedSearchCV(DecisionTreeClassifier(), params, n_iter=100, n_jobs=-1)\n",
        "# n_iter=100 : 100번 샘플링하여 교차검증 수행\n",
        "gs.fit(tr_input, tr_target)\n",
        "print(f\"최상의 매개변수 조합 : \\n{gs.best_params_}\")\n",
        "print(f\"최상의 교차점수 : \\n{np.max(gs.cv_results_['mean_test_score'])}\")\n",
        "# 4.853 s -> 빠르다!!"
      ],
      "metadata": {
        "colab": {
          "base_uri": "https://localhost:8080/"
        },
        "id": "xI3ONGJK9Rbt",
        "outputId": "7a5eac95-a502-4f56-941e-2695699b137c"
      },
      "execution_count": 18,
      "outputs": [
        {
          "output_type": "stream",
          "name": "stdout",
          "text": [
            "최상의 매개변수 조합 : \n",
            "{'max_depth': 15, 'min_impurity_decrease': 0.00033745650738834247, 'min_samples_leaf': 24, 'min_samples_split': 18}\n",
            "최상의 교차점수 : \n",
            "0.8695383875027762\n"
          ]
        }
      ]
    },
    {
      "cell_type": "code",
      "source": [
        "# 테스트 세트 성능 확인\n",
        "# 최상검증점수는 GridSearchCV(87.10%) 였으나, 수행시간이 너무 길고(53초) RandomizedSearchCV(86.91%, 5초)의 결과와 큰 차이가 없어 RandomizedSearchCV를 최종모델로 결정\n",
        "dtc=gs.best_estimator_\n",
        "print(f\"테스트세트 점수 : {dtc.score(ts_input, ts_target):.2%}\")"
      ],
      "metadata": {
        "colab": {
          "base_uri": "https://localhost:8080/"
        },
        "id": "wMhCa743c5gP",
        "outputId": "e1c6c999-c7e9-4276-fb45-30b80d00eec8"
      },
      "execution_count": 19,
      "outputs": [
        {
          "output_type": "stream",
          "name": "stdout",
          "text": [
            "테스트세트 점수 : 85.92%\n"
          ]
        }
      ]
    },
    {
      "cell_type": "markdown",
      "source": [
        "### 결과\n",
        "* 검증모델 :  RandomizedSearchCV\n",
        "* best_params\n",
        "  * 'max_depth': 15,\n",
        "  * 'min_impurity_decrease': 0.00033745650738834247,\n",
        "  * 'min_samples_leaf': 24,\n",
        "  * 'min_samples_split': 18\n",
        "  * n_iter=100\n",
        "\n",
        "* 훈련세트 점수 : 86.95%\n",
        "* 테스트세트 점수 : 85.92%"
      ],
      "metadata": {
        "id": "MhL37Q-Ufqs2"
      }
    }
  ]
}
